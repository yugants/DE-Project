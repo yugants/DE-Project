{
 "cells": [
  {
   "cell_type": "code",
   "execution_count": 2,
   "metadata": {},
   "outputs": [],
   "source": [
    "from pyspark.sql import SparkSession\n",
    "from Data_Reader.reader import Reader\n",
    "\n",
    "\n",
    "spark = SparkSession.builder\\\n",
    "            .appName('silver_layer')\\\n",
    "            .config(\"spark.driver.extraClassPath\", \"./mysql-connector-java-8.0.26.jar\")\\\n",
    "            .getOrCreate()"
   ]
  },
  {
   "cell_type": "code",
   "execution_count": 3,
   "metadata": {},
   "outputs": [
    {
     "name": "stdout",
     "output_type": "stream",
     "text": [
      "+-----------+----------+------------+--------------------+-------+------------+----------+----------+\n",
      "|customer_id|first_name|   last_name|             address|pincode|phone_number|sales_date|total_cost|\n",
      "+-----------+----------+------------+--------------------+-------+------------+----------+----------+\n",
      "|       1637|     Anita|      Barman|H.No. 88, Upadhya...| 493235|    29562838|2020-10-24|      4543|\n",
      "|       6317|      Riya|       Bassi|23/159, Parmar Zi...| 469379|           0|2022-01-01|      4301|\n",
      "|       2420|    Raghav|   Ramaswamy|H.No. 24, Memon P...| 265985|           0|2021-10-07|      3584|\n",
      "|       7350|    Gautam|       Palla|H.No. 31, Kashyap...| 172013|           0|2020-01-04|      3220|\n",
      "|       7350|    Gautam|       Palla|H.No. 31, Kashyap...| 172013|           0|2020-01-04|      3220|\n",
      "|       7350|    Gautam|       Palla|H.No. 31, Kashyap...| 172013|           0|2020-01-04|      3220|\n",
      "|       2420|    Raghav|   Ramaswamy|H.No. 24, Memon P...| 265985|           0|2021-02-07|       854|\n",
      "|       2482|    Rushil|       Datta|H.No. 84, Gera, B...| 569429|           0|2023-02-26|      2760|\n",
      "|       2482|    Rushil|       Datta|H.No. 84, Gera, B...| 569429|           0|2023-02-26|      2760|\n",
      "|       2482|    Rushil|       Datta|H.No. 84, Gera, B...| 569429|           0|2023-02-26|      2760|\n",
      "|       8576|     Zinal|Venkataraman|832, Majumdar Roa...| 286732|           0|2023-05-12|      5520|\n",
      "|       8576|     Zinal|Venkataraman|832, Majumdar Roa...| 286732|           0|2023-05-12|      5520|\n",
      "|       8576|     Zinal|Venkataraman|832, Majumdar Roa...| 286732|           0|2023-05-12|      5520|\n",
      "|       2420|    Raghav|   Ramaswamy|H.No. 24, Memon P...| 265985|           0|2022-02-06|      2024|\n",
      "|       8576|     Zinal|Venkataraman|832, Majumdar Roa...| 286732|           0|2022-06-24|      1688|\n",
      "|       4986|   Balveer|   Choudhury|31/30, Devan Naga...| 799736|           0|2020-06-07|      3372|\n",
      "|       1637|     Anita|      Barman|H.No. 88, Upadhya...| 493235|    29562838|2023-05-12|      4543|\n",
      "|       1489|     Faris|       Nigam|404, Biswas Road,...| 682816|           0|2021-06-14|      6194|\n",
      "|       1489|     Faris|       Nigam|404, Biswas Road,...| 682816|           0|2021-06-14|      6194|\n",
      "|       2482|    Rushil|       Datta|H.No. 84, Gera, B...| 569429|           0|2022-02-27|       920|\n",
      "+-----------+----------+------------+--------------------+-------+------------+----------+----------+\n",
      "only showing top 20 rows\n",
      "\n",
      "+-----------+----------+------------+--------------------+-------+------------+----------+----------+\n",
      "|customer_id|first_name|   last_name|             address|pincode|phone_number|sales_date|total_cost|\n",
      "+-----------+----------+------------+--------------------+-------+------------+----------+----------+\n",
      "|       1637|     Anita|      Barman|H.No. 88, Upadhya...| 493235|    29562838|2020-10-24|      4543|\n",
      "|       6317|      Riya|       Bassi|23/159, Parmar Zi...| 469379|           0|2022-01-01|      4301|\n",
      "|       2420|    Raghav|   Ramaswamy|H.No. 24, Memon P...| 265985|           0|2021-10-07|      3584|\n",
      "|       7350|    Gautam|       Palla|H.No. 31, Kashyap...| 172013|           0|2020-01-04|      3220|\n",
      "|       7350|    Gautam|       Palla|H.No. 31, Kashyap...| 172013|           0|2020-01-04|      3220|\n",
      "|       7350|    Gautam|       Palla|H.No. 31, Kashyap...| 172013|           0|2020-01-04|      3220|\n",
      "|       2420|    Raghav|   Ramaswamy|H.No. 24, Memon P...| 265985|           0|2021-02-07|       854|\n",
      "|       2482|    Rushil|       Datta|H.No. 84, Gera, B...| 569429|           0|2023-02-26|      2760|\n",
      "|       2482|    Rushil|       Datta|H.No. 84, Gera, B...| 569429|           0|2023-02-26|      2760|\n",
      "|       2482|    Rushil|       Datta|H.No. 84, Gera, B...| 569429|           0|2023-02-26|      2760|\n",
      "|       8576|     Zinal|Venkataraman|832, Majumdar Roa...| 286732|           0|2023-05-12|      5520|\n",
      "|       8576|     Zinal|Venkataraman|832, Majumdar Roa...| 286732|           0|2023-05-12|      5520|\n",
      "|       8576|     Zinal|Venkataraman|832, Majumdar Roa...| 286732|           0|2023-05-12|      5520|\n",
      "|       2420|    Raghav|   Ramaswamy|H.No. 24, Memon P...| 265985|           0|2022-02-06|      2024|\n",
      "|       8576|     Zinal|Venkataraman|832, Majumdar Roa...| 286732|           0|2022-06-24|      1688|\n",
      "|       4986|   Balveer|   Choudhury|31/30, Devan Naga...| 799736|           0|2020-06-07|      3372|\n",
      "|       1637|     Anita|      Barman|H.No. 88, Upadhya...| 493235|    29562838|2023-05-12|      4543|\n",
      "|       1489|     Faris|       Nigam|404, Biswas Road,...| 682816|           0|2021-06-14|      6194|\n",
      "|       1489|     Faris|       Nigam|404, Biswas Road,...| 682816|           0|2021-06-14|      6194|\n",
      "|       2482|    Rushil|       Datta|H.No. 84, Gera, B...| 569429|           0|2022-02-27|       920|\n",
      "+-----------+----------+------------+--------------------+-------+------------+----------+----------+\n",
      "only showing top 20 rows\n",
      "\n"
     ]
    }
   ],
   "source": [
    "import logging\n",
    "\n",
    "# clean_path = '''C:\\\\Users\\\\yugant.shekhar\\\\OneDrive - Blue Altair\\\\Desktop\\\\Douments\\\\Spark\\\\Retail Project\\\\Data\\\\actual_data\\\\cleaned'''\n",
    "logger = logging.getLogger(__name__)\n",
    "\n",
    "read = Reader(spark, logger)\n",
    "customer_mart = read.reader('parquet', 'C:\\\\Users\\\\yugant.shekhar\\\\OneDrive - Blue Altair\\\\Desktop\\\\Douments\\\\Spark\\\\Retail Project\\\\Data\\\\actual_data\\\\customer_data_mart')\n",
    "\n",
    "customer_mart.show()"
   ]
  },
  {
   "cell_type": "code",
   "execution_count": 5,
   "metadata": {},
   "outputs": [
    {
     "name": "stdout",
     "output_type": "stream",
     "text": [
      "+-----------+----------+------------+--------------------+-------+------------+----------+----------+------------------+\n",
      "|customer_id|first_name|   last_name|             address|pincode|phone_number|sales_date|total_cost|         full_name|\n",
      "+-----------+----------+------------+--------------------+-------+------------+----------+----------+------------------+\n",
      "|       1637|     Anita|      Barman|H.No. 88, Upadhya...| 493235|    29562838|2020-10-24|      4543|      Anita Barman|\n",
      "|       6317|      Riya|       Bassi|23/159, Parmar Zi...| 469379|           0|2022-01-01|      4301|        Riya Bassi|\n",
      "|       2420|    Raghav|   Ramaswamy|H.No. 24, Memon P...| 265985|           0|2021-10-07|      3584|  Raghav Ramaswamy|\n",
      "|       7350|    Gautam|       Palla|H.No. 31, Kashyap...| 172013|           0|2020-01-04|      3220|      Gautam Palla|\n",
      "|       7350|    Gautam|       Palla|H.No. 31, Kashyap...| 172013|           0|2020-01-04|      3220|      Gautam Palla|\n",
      "|       7350|    Gautam|       Palla|H.No. 31, Kashyap...| 172013|           0|2020-01-04|      3220|      Gautam Palla|\n",
      "|       2420|    Raghav|   Ramaswamy|H.No. 24, Memon P...| 265985|           0|2021-02-07|       854|  Raghav Ramaswamy|\n",
      "|       2482|    Rushil|       Datta|H.No. 84, Gera, B...| 569429|           0|2023-02-26|      2760|      Rushil Datta|\n",
      "|       2482|    Rushil|       Datta|H.No. 84, Gera, B...| 569429|           0|2023-02-26|      2760|      Rushil Datta|\n",
      "|       2482|    Rushil|       Datta|H.No. 84, Gera, B...| 569429|           0|2023-02-26|      2760|      Rushil Datta|\n",
      "|       8576|     Zinal|Venkataraman|832, Majumdar Roa...| 286732|           0|2023-05-12|      5520|Zinal Venkataraman|\n",
      "|       8576|     Zinal|Venkataraman|832, Majumdar Roa...| 286732|           0|2023-05-12|      5520|Zinal Venkataraman|\n",
      "|       8576|     Zinal|Venkataraman|832, Majumdar Roa...| 286732|           0|2023-05-12|      5520|Zinal Venkataraman|\n",
      "|       2420|    Raghav|   Ramaswamy|H.No. 24, Memon P...| 265985|           0|2022-02-06|      2024|  Raghav Ramaswamy|\n",
      "|       8576|     Zinal|Venkataraman|832, Majumdar Roa...| 286732|           0|2022-06-24|      1688|Zinal Venkataraman|\n",
      "|       4986|   Balveer|   Choudhury|31/30, Devan Naga...| 799736|           0|2020-06-07|      3372| Balveer Choudhury|\n",
      "|       1637|     Anita|      Barman|H.No. 88, Upadhya...| 493235|    29562838|2023-05-12|      4543|      Anita Barman|\n",
      "|       1489|     Faris|       Nigam|404, Biswas Road,...| 682816|           0|2021-06-14|      6194|       Faris Nigam|\n",
      "|       1489|     Faris|       Nigam|404, Biswas Road,...| 682816|           0|2021-06-14|      6194|       Faris Nigam|\n",
      "|       2482|    Rushil|       Datta|H.No. 84, Gera, B...| 569429|           0|2022-02-27|       920|      Rushil Datta|\n",
      "+-----------+----------+------------+--------------------+-------+------------+----------+----------+------------------+\n",
      "only showing top 20 rows\n",
      "\n"
     ]
    }
   ],
   "source": [
    "# Full Name\n",
    "\n",
    "from pyspark.sql import functions as F \n",
    "\n",
    "customer_mart = customer_mart.withColumn(\n",
    "    'full_name', F.concat_ws(' ', F.col('first_name'), F.col('last_name'))\n",
    ")\n",
    "\n",
    "customer_mart.show()"
   ]
  },
  {
   "cell_type": "code",
   "execution_count": 14,
   "metadata": {},
   "outputs": [
    {
     "name": "stdout",
     "output_type": "stream",
     "text": [
      "+------------------+-----+----------------+\n",
      "|         full_name|Month|Monthly_Purchase|\n",
      "+------------------+-----+----------------+\n",
      "|      Gautam Palla|    5|           30388|\n",
      "|       Zarna Ratti|    9|           23460|\n",
      "|        Riya Bassi|    4|           20700|\n",
      "|        Aachal Rau|    8|           17940|\n",
      "|Zinal Venkataraman|    5|           16560|\n",
      "| Balveer Choudhury|   10|           16560|\n",
      "|     Jagdish Sodhi|    4|           16278|\n",
      "| Balveer Choudhury|   12|           15180|\n",
      "|      Gautam Palla|    7|           13800|\n",
      "|      Jagdish Shan|    3|           12420|\n",
      "|       Faris Nigam|    6|           12388|\n",
      "|     Jagdish Sodhi|   10|           11424|\n",
      "|      Rushil Datta|    2|           11040|\n",
      "|      Gautam Palla|    1|            9660|\n",
      "|      Indali Naidu|    9|            9660|\n",
      "|      Kalpit Divan|    6|            9128|\n",
      "|        Aadhya Jha|    8|            8512|\n",
      "|        Aachal Rau|    6|            8440|\n",
      "|       Faris Nigam|    2|            7847|\n",
      "|        Aachal Rau|    4|            7616|\n",
      "+------------------+-----+----------------+\n",
      "only showing top 20 rows\n",
      "\n"
     ]
    }
   ],
   "source": [
    "customer_mart.groupBy('full_name', F.month(F.col('sales_date')).alias('Month'))\\\n",
    "    .agg(F.sum(F.col('total_cost')).alias('Monthly_Purchase'))\\\n",
    "    .distinct().orderBy(F.col('Monthly_Purchase').desc()).show()"
   ]
  },
  {
   "cell_type": "code",
   "execution_count": 19,
   "metadata": {},
   "outputs": [
    {
     "name": "stdout",
     "output_type": "stream",
     "text": [
      "+-----------+------------------+-----+----+--------------------+------------+----------------+\n",
      "|customer_id|         full_name|Month|Year|             address|phone_number|Monthly_Purchase|\n",
      "+-----------+------------------+-----+----+--------------------+------------+----------------+\n",
      "|       7350|      Gautam Palla|    5|2023|H.No. 31, Kashyap...|           0|           30388|\n",
      "|       9456|       Zarna Ratti|    9|2020|13, Balan Street,...|           0|           23460|\n",
      "|       6317|        Riya Bassi|    4|2021|23/159, Parmar Zi...|           0|           20700|\n",
      "|       8164|        Aachal Rau|    8|2020|H.No. 52, Nanda C...|           0|           17940|\n",
      "|       8576|Zinal Venkataraman|    5|2023|832, Majumdar Roa...|           0|           16560|\n",
      "|       4986| Balveer Choudhury|   10|2020|31/30, Devan Naga...|           0|           16560|\n",
      "|       4986| Balveer Choudhury|   12|2021|31/30, Devan Naga...|           0|           15180|\n",
      "|       7350|      Gautam Palla|    7|2023|H.No. 31, Kashyap...|           0|           13800|\n",
      "|       5253|     Jagdish Sodhi|    4|2023|H.No. 57, Sarma C...|           0|           13800|\n",
      "|       7841|      Jagdish Shan|    3|2022|76/97, Samra Road...|           0|           12420|\n",
      "|       1489|       Faris Nigam|    6|2021|404, Biswas Road,...|           0|           12388|\n",
      "|       7350|      Gautam Palla|    1|2020|H.No. 31, Kashyap...|           0|            9660|\n",
      "|       3346|      Indali Naidu|    9|2021|54/055, Apte Stre...|           0|            9660|\n",
      "|       6642|      Kalpit Divan|    6|2021|15, Zacharia Naga...|           0|            9128|\n",
      "|       5253|     Jagdish Sodhi|   10|2021|H.No. 57, Sarma C...|           0|            8512|\n",
      "|       4045|        Aadhya Jha|    8|2022|H.No. 854, Gulati...|           0|            8512|\n",
      "|       8164|        Aachal Rau|    6|2023|H.No. 52, Nanda C...|           0|            8440|\n",
      "|       2482|      Rushil Datta|    2|2023|H.No. 84, Gera, B...|           0|            8280|\n",
      "|       1489|       Faris Nigam|    2|2020|404, Biswas Road,...|           0|            7847|\n",
      "|       8164|        Aachal Rau|    4|2020|H.No. 52, Nanda C...|           0|            7616|\n",
      "+-----------+------------------+-----+----+--------------------+------------+----------------+\n",
      "only showing top 20 rows\n",
      "\n"
     ]
    }
   ],
   "source": [
    "from pyspark.sql.window import Window\n",
    "\n",
    "# Define the window partition\n",
    "windowSpec = Window.partitionBy('full_name'\n",
    "                                , F.month(F.col('sales_date'))\n",
    "                                , F.year(F.col('sales_date'))\n",
    "                                )\n",
    "\n",
    "# Use the window to select non-aggregated columns along with your groupBy and aggregation\n",
    "customer_mart = customer_mart.withColumn('Monthly_Purchase', F.sum('total_cost').over(windowSpec)) \\\n",
    "    .withColumn('Month', F.month(F.col('sales_date')))\\\n",
    "    .withColumn('Year', F.year(F.col('sales_date')))\n",
    "\n",
    "# Now you can select the non-aggregated columns (like customer_id) and aggregated data\n",
    "customer_mart.select('customer_id', 'full_name', 'Month', 'Year',\\\n",
    "                     'address', 'phone_number', 'Monthly_Purchase')\\\n",
    "    .distinct().orderBy(F.col('Monthly_Purchase').desc()).show()"
   ]
  },
  {
   "cell_type": "markdown",
   "metadata": {},
   "source": [
    "## Customer Data Completed\n"
   ]
  },
  {
   "cell_type": "markdown",
   "metadata": {},
   "source": [
    "## Starting Sales Team Data"
   ]
  },
  {
   "cell_type": "code",
   "execution_count": 59,
   "metadata": {},
   "outputs": [
    {
     "name": "stdout",
     "output_type": "stream",
     "text": [
      "+--------+---------------+-----------------------+----------------------+------------------+----------+----------+--------------------+--------------------+----------+----------+-----------+\n",
      "|store_id|sales_person_id|sales_person_first_name|sales_person_last_name|store_manager_name|manager_id|is_manager|sales_person_address|sales_person_pincode|sales_date|total_cost|sales_month|\n",
      "+--------+---------------+-----------------------+----------------------+------------------+----------+----------+--------------------+--------------------+----------+----------+-----------+\n",
      "|     100|             19|                 Nitara|             Kuruvilla|      Arjun Pathak|       8.0|         N|96, Padmanabhan Z...|              729506|2020-10-24|      4543|    2020-10|\n",
      "|      16|              9|                 Jairaj|             Zachariah|      Chameli Nagi|      null|         Y|H.No. 34, Oommen ...|              304699|2022-01-01|      4301|    2022-01|\n",
      "|      16|             12|                 Mugdha|                 Kohli|      Chameli Nagi|       6.0|         N|64/132, Andra Zil...|              909474|2021-10-07|      3584|    2021-10|\n",
      "|      22|              4|                 Vritti|                 Golla|    Anamika Karnik|       1.0|         N|60, Varghese Circ...|              297838|2020-01-04|      3220|    2020-01|\n",
      "|      22|              4|                 Vritti|                 Golla|    Anamika Karnik|       1.0|         N|60, Varghese Circ...|              297838|2020-01-04|      3220|    2020-01|\n",
      "|      22|              4|                 Vritti|                 Golla|    Anamika Karnik|       1.0|         N|60, Varghese Circ...|              297838|2020-01-04|      3220|    2020-01|\n",
      "|      93|             15|                 Darpan|                Bhalla|       Ayaan Baral|      11.0|         N|94, Goda Ganj, Ti...|              499350|2021-02-07|       854|    2021-02|\n",
      "|       4|              8|              Bachittar|                  Shah|        Jatin Vasa|      null|         Y|H.No. 070, Khosla...|              426053|2023-02-26|      2760|    2023-02|\n",
      "|       4|              8|              Bachittar|                  Shah|        Jatin Vasa|      null|         Y|H.No. 070, Khosla...|              426053|2023-02-26|      2760|    2023-02|\n",
      "|       4|              8|              Bachittar|                  Shah|        Jatin Vasa|      null|         Y|H.No. 070, Khosla...|              426053|2023-02-26|      2760|    2023-02|\n",
      "|      72|              4|                 Vritti|                 Golla|       Shravya Dua|       1.0|         N|60, Varghese Circ...|              297838|2023-05-12|      5520|    2023-05|\n",
      "|      72|              4|                 Vritti|                 Golla|       Shravya Dua|       1.0|         N|60, Varghese Circ...|              297838|2023-05-12|      5520|    2023-05|\n",
      "|      72|              4|                 Vritti|                 Golla|       Shravya Dua|       1.0|         N|60, Varghese Circ...|              297838|2023-05-12|      5520|    2023-05|\n",
      "|      93|              4|                 Vritti|                 Golla|       Ayaan Baral|       1.0|         N|60, Varghese Circ...|              297838|2022-02-06|      2024|    2022-02|\n",
      "|      16|              2|               Gayathri|             Choudhary|      Chameli Nagi|       9.0|         N|85/31, Raman Circ...|              821832|2022-06-24|      1688|    2022-06|\n",
      "|      96|              5|                  Ekbal|                  Dutt|     Advika Taneja|      19.0|         N|83/37, Mody, Belg...|              651738|2020-06-07|      3372|    2020-06|\n",
      "|       1|             19|                 Nitara|             Kuruvilla|    Chandani Kohli|       8.0|         N|96, Padmanabhan Z...|              729506|2023-05-12|      4543|    2023-05|\n",
      "|      16|             10|                  Anita|               Gokhale|      Chameli Nagi|      11.0|         N|00/70, Dash Path,...|              608274|2021-06-14|      6194|    2021-06|\n",
      "|      16|             10|                  Anita|               Gokhale|      Chameli Nagi|      11.0|         N|00/70, Dash Path,...|              608274|2021-06-14|      6194|    2021-06|\n",
      "|      43|              9|                 Jairaj|             Zachariah|      Vedhika Rama|      null|         Y|H.No. 34, Oommen ...|              304699|2022-02-27|       920|    2022-02|\n",
      "+--------+---------------+-----------------------+----------------------+------------------+----------+----------+--------------------+--------------------+----------+----------+-----------+\n",
      "only showing top 20 rows\n",
      "\n",
      "+--------+---------------+-----------------------+----------------------+------------------+----------+----------+--------------------+--------------------+----------+----------+-----------+\n",
      "|store_id|sales_person_id|sales_person_first_name|sales_person_last_name|store_manager_name|manager_id|is_manager|sales_person_address|sales_person_pincode|sales_date|total_cost|sales_month|\n",
      "+--------+---------------+-----------------------+----------------------+------------------+----------+----------+--------------------+--------------------+----------+----------+-----------+\n",
      "|     100|             19|                 Nitara|             Kuruvilla|      Arjun Pathak|       8.0|         N|96, Padmanabhan Z...|              729506|2020-10-24|      4543|    2020-10|\n",
      "|      16|              9|                 Jairaj|             Zachariah|      Chameli Nagi|      null|         Y|H.No. 34, Oommen ...|              304699|2022-01-01|      4301|    2022-01|\n",
      "|      16|             12|                 Mugdha|                 Kohli|      Chameli Nagi|       6.0|         N|64/132, Andra Zil...|              909474|2021-10-07|      3584|    2021-10|\n",
      "|      22|              4|                 Vritti|                 Golla|    Anamika Karnik|       1.0|         N|60, Varghese Circ...|              297838|2020-01-04|      3220|    2020-01|\n",
      "|      22|              4|                 Vritti|                 Golla|    Anamika Karnik|       1.0|         N|60, Varghese Circ...|              297838|2020-01-04|      3220|    2020-01|\n",
      "|      22|              4|                 Vritti|                 Golla|    Anamika Karnik|       1.0|         N|60, Varghese Circ...|              297838|2020-01-04|      3220|    2020-01|\n",
      "|      93|             15|                 Darpan|                Bhalla|       Ayaan Baral|      11.0|         N|94, Goda Ganj, Ti...|              499350|2021-02-07|       854|    2021-02|\n",
      "|       4|              8|              Bachittar|                  Shah|        Jatin Vasa|      null|         Y|H.No. 070, Khosla...|              426053|2023-02-26|      2760|    2023-02|\n",
      "|       4|              8|              Bachittar|                  Shah|        Jatin Vasa|      null|         Y|H.No. 070, Khosla...|              426053|2023-02-26|      2760|    2023-02|\n",
      "|       4|              8|              Bachittar|                  Shah|        Jatin Vasa|      null|         Y|H.No. 070, Khosla...|              426053|2023-02-26|      2760|    2023-02|\n",
      "|      72|              4|                 Vritti|                 Golla|       Shravya Dua|       1.0|         N|60, Varghese Circ...|              297838|2023-05-12|      5520|    2023-05|\n",
      "|      72|              4|                 Vritti|                 Golla|       Shravya Dua|       1.0|         N|60, Varghese Circ...|              297838|2023-05-12|      5520|    2023-05|\n",
      "|      72|              4|                 Vritti|                 Golla|       Shravya Dua|       1.0|         N|60, Varghese Circ...|              297838|2023-05-12|      5520|    2023-05|\n",
      "|      93|              4|                 Vritti|                 Golla|       Ayaan Baral|       1.0|         N|60, Varghese Circ...|              297838|2022-02-06|      2024|    2022-02|\n",
      "|      16|              2|               Gayathri|             Choudhary|      Chameli Nagi|       9.0|         N|85/31, Raman Circ...|              821832|2022-06-24|      1688|    2022-06|\n",
      "|      96|              5|                  Ekbal|                  Dutt|     Advika Taneja|      19.0|         N|83/37, Mody, Belg...|              651738|2020-06-07|      3372|    2020-06|\n",
      "|       1|             19|                 Nitara|             Kuruvilla|    Chandani Kohli|       8.0|         N|96, Padmanabhan Z...|              729506|2023-05-12|      4543|    2023-05|\n",
      "|      16|             10|                  Anita|               Gokhale|      Chameli Nagi|      11.0|         N|00/70, Dash Path,...|              608274|2021-06-14|      6194|    2021-06|\n",
      "|      16|             10|                  Anita|               Gokhale|      Chameli Nagi|      11.0|         N|00/70, Dash Path,...|              608274|2021-06-14|      6194|    2021-06|\n",
      "|      43|              9|                 Jairaj|             Zachariah|      Vedhika Rama|      null|         Y|H.No. 34, Oommen ...|              304699|2022-02-27|       920|    2022-02|\n",
      "+--------+---------------+-----------------------+----------------------+------------------+----------+----------+--------------------+--------------------+----------+----------+-----------+\n",
      "only showing top 20 rows\n",
      "\n"
     ]
    }
   ],
   "source": [
    "import logging\n",
    "\n",
    "# clean_path = '''C:\\\\Users\\\\yugant.shekhar\\\\OneDrive - Blue Altair\\\\Desktop\\\\Douments\\\\Spark\\\\Retail Project\\\\Data\\\\actual_data\\\\cleaned'''\n",
    "logger = logging.getLogger(__name__)\n",
    "\n",
    "read = Reader(spark, logger)\n",
    "sales_mart = read.reader('parquet', 'C:\\\\Users\\\\yugant.shekhar\\\\OneDrive - Blue Altair\\\\Desktop\\\\Douments\\\\Spark\\\\Retail Project\\\\Data\\\\actual_data\\\\sales_team_data_mart')\n",
    "\n",
    "sales_mart.show()"
   ]
  },
  {
   "cell_type": "code",
   "execution_count": 42,
   "metadata": {},
   "outputs": [
    {
     "name": "stdout",
     "output_type": "stream",
     "text": [
      "root\n",
      " |-- store_id: integer (nullable = true)\n",
      " |-- sales_person_id: integer (nullable = true)\n",
      " |-- sales_person_first_name: string (nullable = true)\n",
      " |-- sales_person_last_name: string (nullable = true)\n",
      " |-- store_manager_name: string (nullable = true)\n",
      " |-- manager_id: double (nullable = true)\n",
      " |-- is_manager: string (nullable = true)\n",
      " |-- sales_person_address: string (nullable = true)\n",
      " |-- sales_person_pincode: integer (nullable = true)\n",
      " |-- sales_date: date (nullable = true)\n",
      " |-- total_cost: integer (nullable = true)\n",
      " |-- sales_month: string (nullable = true)\n",
      "\n"
     ]
    }
   ],
   "source": [
    "sales_mart.printSchema()"
   ]
  },
  {
   "cell_type": "code",
   "execution_count": 34,
   "metadata": {},
   "outputs": [],
   "source": [
    "# sales_mart.select('store_id', 'sales_month').distinct().show()"
   ]
  },
  {
   "cell_type": "code",
   "execution_count": 60,
   "metadata": {},
   "outputs": [
    {
     "name": "stdout",
     "output_type": "stream",
     "text": [
      "+--------+---------------+--------------------+------------------+-----------+-------------+---------+\n",
      "|store_id|sales_person_id|sales_person_address|         full_name|sales_month|monthly_sales|incentive|\n",
      "+--------+---------------+--------------------+------------------+-----------+-------------+---------+\n",
      "|      16|             10|00/70, Dash Path,...|     Anita Gokhale|    2023-04|        13800|    138.0|\n",
      "|      43|             18|84/59, Rajan Zila...|        Anvi Verma|    2023-01|         3080|     30.8|\n",
      "|      96|             14|59/90, Kuruvilla ...|        Arjun Char|    2020-04|         5782|    57.82|\n",
      "|      63|              8|H.No. 070, Khosla...|    Bachittar Shah|    2021-12|        15180|    151.8|\n",
      "|      43|             11|H.No. 14, Banik C...|     Dalbir Khatri|    2021-05|         6520|     65.2|\n",
      "|      63|             15|94, Goda Ganj, Ti...|     Darpan Bhalla|    2020-02|         7847|    78.47|\n",
      "|      43|              7|H.No. 148, Sampat...|       Dayita Dave|    2022-08|         8512|    85.12|\n",
      "|      16|              5|83/37, Mody, Belg...|        Ekbal Dutt|    2023-07|        13800|    138.0|\n",
      "|       1|              2|85/31, Raman Circ...|Gayathri Choudhary|    2020-04|         7616|    76.16|\n",
      "|     100|              6|79/02, Lall Ganj,...|       Guneet Keer|    2022-06|         3504|    35.04|\n",
      "|       4|              9|H.No. 34, Oommen ...|  Jairaj Zachariah|    2021-06|         9128|    91.28|\n",
      "|      63|             13|76/61, Sur Circle...|    Kabir Nazareth|    2023-03|         2760|     27.6|\n",
      "|      43|             20|32, Pandey Nagar,...|      Lakshmi Kaul|    2021-04|        20700|    207.0|\n",
      "|      22|             12|64/132, Andra Zil...|      Mugdha Kohli|    2020-10|        16560|    165.6|\n",
      "|      63|             17|H.No. 57, Shah Na...|      Netra Oommen|    2023-06|         8440|     84.4|\n",
      "|      72|             19|96, Padmanabhan Z...|  Nitara Kuruvilla|    2020-09|        23460|    234.6|\n",
      "|     100|              1|593, Konda, Korba...|     Omisha Wadhwa|    2022-06|         3717|    37.17|\n",
      "|      16|             16|H.No. 03, Date Ro...|        Oviya Raja|    2022-03|        12420|    124.2|\n",
      "|      93|              3|913, Mall Road, T...|      Varenya Naik|    2023-05|        24840|    248.4|\n",
      "|      72|              4|60, Varghese Circ...|      Vritti Golla|    2023-05|        16560|    165.6|\n",
      "+--------+---------------+--------------------+------------------+-----------+-------------+---------+\n",
      "\n"
     ]
    }
   ],
   "source": [
    "from pyspark.sql import functions as F\n",
    "from pyspark.sql.window import Window\n",
    "\n",
    "sales_mart = sales_mart.withColumn(\n",
    "    'full_name', F.concat_ws(' ', F.col('sales_person_first_name'), F.col('sales_person_last_name'))\n",
    ")\n",
    "\n",
    "windowSpec = Window.partitionBy( 'full_name', 'sales_month')\n",
    "\n",
    "# Use the window to select non-aggregated columns along with your groupBy and aggregation\n",
    "sales_mart = sales_mart.withColumn('monthly_sales', F.sum('total_cost').over(windowSpec))\n",
    "\n",
    "# Define the window to rank salespeople by their monthly sales\n",
    "rank_window = Window.partitionBy(\"full_name\").orderBy(F.col(\"monthly_sales\").desc())\n",
    "\n",
    "# Rank the sales and calculate incentives\n",
    "sales_mart = sales_mart \\\n",
    "    .withColumn(\"rnk\", F.rank().over(rank_window)) \\\n",
    "    .withColumn(\"incentive\", F.when(F.col(\"rnk\") == 1, F.col(\"monthly_sales\") * 0.01).otherwise(F.lit(0))) \\\n",
    "    .withColumn(\"incentive\", F.round(F.col(\"incentive\"), 2)) \\\n",
    "    .select(\"store_id\", \"sales_person_id\", 'sales_person_address',\n",
    "             \"full_name\", \"sales_month\", \"monthly_sales\", \"incentive\", \"rnk\").distinct()\n",
    "\n",
    "# Show the result\n",
    "sales_mart.where(F.col('rnk')==1).drop('rnk').show()\n"
   ]
  },
  {
   "cell_type": "code",
   "execution_count": 44,
   "metadata": {},
   "outputs": [],
   "source": [
    "# sales_mart.select(\"store_id\", \"sales_month\").distinct().show()\n"
   ]
  },
  {
   "cell_type": "code",
   "execution_count": 45,
   "metadata": {},
   "outputs": [],
   "source": [
    "# sales_mart.groupBy(\"store_id\", \"sales_month\")\\\n",
    "#            .agg(F.sum(\"monthly_sales\").alias(\"total_sales\"))\\\n",
    "#            .distinct().show()   \n"
   ]
  },
  {
   "cell_type": "code",
   "execution_count": 48,
   "metadata": {},
   "outputs": [
    {
     "name": "stdout",
     "output_type": "stream",
     "text": [
      "+--------+---------------+------------------+-----------+--------------------+-------------+---------+\n",
      "|store_id|sales_person_id|         full_name|sales_month|sales_person_address|monthly_sales|incentive|\n",
      "+--------+---------------+------------------+-----------+--------------------+-------------+---------+\n",
      "|      93|              3|      Varenya Naik|    2023-05|913, Mall Road, T...|        24840|    248.4|\n",
      "|      72|             19|  Nitara Kuruvilla|    2020-09|96, Padmanabhan Z...|        23460|    234.6|\n",
      "|      43|             20|      Lakshmi Kaul|    2021-04|32, Pandey Nagar,...|        20700|    207.0|\n",
      "|      16|             20|      Lakshmi Kaul|    2020-08|32, Pandey Nagar,...|        17940|    179.4|\n",
      "|      22|             12|      Mugdha Kohli|    2020-10|64/132, Andra Zil...|        16560|    165.6|\n",
      "|      72|              4|      Vritti Golla|    2023-05|60, Varghese Circ...|        16560|    165.6|\n",
      "|      63|              8|    Bachittar Shah|    2021-12|H.No. 070, Khosla...|        15180|    151.8|\n",
      "|      16|             10|     Anita Gokhale|    2023-04|00/70, Dash Path,...|        13800|    138.0|\n",
      "|      16|              5|        Ekbal Dutt|    2023-07|83/37, Mody, Belg...|        13800|    138.0|\n",
      "|      16|             16|        Oviya Raja|    2022-03|H.No. 03, Date Ro...|        12420|    124.2|\n",
      "|      16|             10|     Anita Gokhale|    2021-06|00/70, Dash Path,...|        12388|   123.88|\n",
      "|     100|             20|      Lakshmi Kaul|    2021-09|32, Pandey Nagar,...|         9660|     96.6|\n",
      "|      22|              4|      Vritti Golla|    2020-01|60, Varghese Circ...|         9660|     96.6|\n",
      "|       4|              9|  Jairaj Zachariah|    2021-06|H.No. 34, Oommen ...|         9128|    91.28|\n",
      "|      72|              5|        Ekbal Dutt|    2021-10|83/37, Mody, Belg...|         8512|    85.12|\n",
      "|      43|              7|       Dayita Dave|    2022-08|H.No. 148, Sampat...|         8512|    85.12|\n",
      "|      63|             17|      Netra Oommen|    2023-06|H.No. 57, Shah Na...|         8440|     84.4|\n",
      "|       4|              8|    Bachittar Shah|    2023-02|H.No. 070, Khosla...|         8280|     82.8|\n",
      "|      63|             15|     Darpan Bhalla|    2020-02|94, Goda Ganj, Ti...|         7847|    78.47|\n",
      "|       1|              2|Gayathri Choudhary|    2020-04|85/31, Raman Circ...|         7616|    76.16|\n",
      "+--------+---------------+------------------+-----------+--------------------+-------------+---------+\n",
      "only showing top 20 rows\n",
      "\n"
     ]
    }
   ],
   "source": [
    "rank_window = Window.partitionBy(\"full_name\", \"sales_month\").orderBy(F.col(\"monthly_sales\").desc())\n",
    "\n",
    "sales_mart = sales_mart \\\n",
    "    .withColumn(\"rnk\", F.rank().over(rank_window)) \\\n",
    "    .withColumn(\"incentive\", F.when(F.col(\"rnk\") == 1, F.col(\"monthly_sales\") * 0.01).otherwise(F.lit(0))) \\\n",
    "    .withColumn(\"incentive\", F.round(F.col(\"incentive\"), 2)) \\\n",
    "    .select(\"store_id\", \"sales_person_id\", 'sales_person_address',\n",
    "             \"full_name\", \"sales_month\", \"monthly_sales\", \"incentive\", \"rnk\").distinct()\n",
    "\n",
    "\n",
    "# print(sales_mart.show())\n",
    "\n",
    "# # Now you can select the non-aggregated columns (like customer_id) and aggregated data\n",
    "# sales_mart.select('store_id', 'sales_person_id', 'full_name', 'sales_month',\\\n",
    "#                      'sales_person_address', 'monthly_sales', 'incentive')\\\n",
    "#     .distinct().orderBy(F.col('Monthly_Sales').desc()).show()"
   ]
  },
  {
   "cell_type": "code",
   "execution_count": null,
   "metadata": {},
   "outputs": [],
   "source": []
  }
 ],
 "metadata": {
  "kernelspec": {
   "display_name": "venv",
   "language": "python",
   "name": "python3"
  },
  "language_info": {
   "codemirror_mode": {
    "name": "ipython",
    "version": 3
   },
   "file_extension": ".py",
   "mimetype": "text/x-python",
   "name": "python",
   "nbconvert_exporter": "python",
   "pygments_lexer": "ipython3",
   "version": "3.8.0"
  }
 },
 "nbformat": 4,
 "nbformat_minor": 2
}
