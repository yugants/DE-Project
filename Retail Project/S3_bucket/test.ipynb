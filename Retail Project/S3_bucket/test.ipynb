{
 "cells": [
  {
   "cell_type": "code",
   "execution_count": 1,
   "metadata": {},
   "outputs": [],
   "source": [
    "from pyspark.sql import SparkSession\n",
    "\n",
    "\n",
    "spark = SparkSession.builder\\\n",
    "            .appName('test AWS')\\\n",
    "            .getOrCreate()"
   ]
  },
  {
   "cell_type": "code",
   "execution_count": 2,
   "metadata": {},
   "outputs": [],
   "source": [
    "import logging\n",
    "\n",
    "logger = logging.getLogger(__name__)"
   ]
  },
  {
   "cell_type": "code",
   "execution_count": 3,
   "metadata": {},
   "outputs": [
    {
     "name": "stdout",
     "output_type": "stream",
     "text": [
      "hello\n",
      "Bucket:  de-retail-bucket\n",
      "Initialized logger\n"
     ]
    }
   ],
   "source": [
    "from s3_read_write import S3\n",
    "\n",
    "ob = S3(logger)"
   ]
  },
  {
   "cell_type": "code",
   "execution_count": 4,
   "metadata": {},
   "outputs": [
    {
     "name": "stdout",
     "output_type": "stream",
     "text": [
      "Dirs:  ['.part-00000-c6ced50b-10ce-4bab-9fb6-7a8b675a0e0a-c000.snappy.parquet.crc', '._SUCCESS.crc', 'part-00000-c6ced50b-10ce-4bab-9fb6-7a8b675a0e0a-c000.snappy.parquet', '_SUCCESS']\n",
      "original file:  part-00000-c6ced50b-10ce-4bab-9fb6-7a8b675a0e0a-c000.snappy.parquet\n",
      "Final Path:  part-00000-c6ced50b-10ce-4bab-9fb6-7a8b675a0e0a-c000.snappy.parquet\n",
      "Final path:  ./customer_data_mart/part-00000-c6ced50b-10ce-4bab-9fb6-7a8b675a0e0a-c000.snappy.parquet\n"
     ]
    }
   ],
   "source": [
    "ob.upload_to_s3('trial_upload/customer_data_mart.parquet', './customer_data_mart/', 'parquet')"
   ]
  },
  {
   "cell_type": "code",
   "execution_count": null,
   "metadata": {},
   "outputs": [],
   "source": []
  },
  {
   "cell_type": "code",
   "execution_count": null,
   "metadata": {},
   "outputs": [],
   "source": []
  }
 ],
 "metadata": {
  "kernelspec": {
   "display_name": "venv",
   "language": "python",
   "name": "python3"
  },
  "language_info": {
   "codemirror_mode": {
    "name": "ipython",
    "version": 3
   },
   "file_extension": ".py",
   "mimetype": "text/x-python",
   "name": "python",
   "nbconvert_exporter": "python",
   "pygments_lexer": "ipython3",
   "version": "3.8.0"
  }
 },
 "nbformat": 4,
 "nbformat_minor": 2
}
