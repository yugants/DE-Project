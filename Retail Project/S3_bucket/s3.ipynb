{
 "cells": [
  {
   "cell_type": "code",
   "execution_count": 2,
   "metadata": {},
   "outputs": [],
   "source": [
    "import boto3\n",
    "import pandas as pd"
   ]
  },
  {
   "cell_type": "code",
   "execution_count": 34,
   "metadata": {},
   "outputs": [],
   "source": [
    "df = pd.read_csv('C:\\\\Users\\\\yugant.shekhar\\\\OneDrive - Blue Altair\\\\Desktop\\\\Douments\\\\AWS\\\\temp.csv')\n",
    "\n",
    "# print(df['Access key ID'][0])"
   ]
  },
  {
   "cell_type": "code",
   "execution_count": 35,
   "metadata": {},
   "outputs": [],
   "source": [
    "aws_access_key = df['Access key ID'][0]\n",
    "aws_secret_key = df['Secret access key'][0]"
   ]
  },
  {
   "cell_type": "code",
   "execution_count": 36,
   "metadata": {},
   "outputs": [],
   "source": [
    "s3 = boto3.resource(\n",
    "    service_name = 's3'\n",
    "    , region_name = 'eu-north-1'\n",
    "    , aws_access_key_id=aws_access_key\n",
    "    , aws_secret_access_key=aws_secret_key\n",
    ")"
   ]
  },
  {
   "cell_type": "code",
   "execution_count": 37,
   "metadata": {},
   "outputs": [
    {
     "name": "stdout",
     "output_type": "stream",
     "text": [
      "s3.Bucket(name='de-retail-bucket')\n"
     ]
    }
   ],
   "source": [
    "for bucket in s3.buckets.all():\n",
    "\n",
    "    print(bucket)"
   ]
  },
  {
   "cell_type": "code",
   "execution_count": 44,
   "metadata": {},
   "outputs": [],
   "source": [
    "bucket = 'de-retail-bucket'"
   ]
  },
  {
   "cell_type": "code",
   "execution_count": 19,
   "metadata": {},
   "outputs": [],
   "source": [
    "# Upload to S3\n",
    "# CSV\n",
    "s3.Bucket('de-retail-bucket').upload_file(Filename='./dim_customer.csv', Key='sales_data/dim_customer2.csv')"
   ]
  },
  {
   "cell_type": "code",
   "execution_count": 53,
   "metadata": {},
   "outputs": [
    {
     "name": "stdout",
     "output_type": "stream",
     "text": [
      "part-00000-c6ced50b-10ce-4bab-9fb6-7a8b675a0e0a-c000.snappy.parquet\n"
     ]
    }
   ],
   "source": [
    "# List files in a folder\n",
    "# for finding .parquest file\n",
    "import os \n",
    "\n",
    "# Specify the folder path\n",
    "folder_path = './customer_data_mart'\n",
    "\n",
    "# List all files in the folder\n",
    "file_names = os.listdir(folder_path)\n",
    "\n",
    "# Optionally, filter out only files (ignore directories)\n",
    "file_names = [f for f in file_names if os.path.isfile(os.path.join(folder_path, f))]\n",
    "\n",
    "for i in file_names:\n",
    "\n",
    "    # print(i.split('.')[-1])\n",
    "    if 'parquet' == i.split('.')[-1]:\n",
    "        original_file = print(i)\n",
    "        \n",
    "\n",
    "# Print the file names\n",
    "# print(file_names)"
   ]
  },
  {
   "cell_type": "code",
   "execution_count": 45,
   "metadata": {},
   "outputs": [],
   "source": [
    "# Upload to S3\n",
    "# Parquet\n",
    "\n",
    "s3.Bucket(bucket).upload_file(Filename= f'./customer_data_mart/{original_file}', Key='sales_data/customer_data_mart/customer_data_mart.parquet')"
   ]
  },
  {
   "cell_type": "code",
   "execution_count": 47,
   "metadata": {},
   "outputs": [
    {
     "data": {
      "text/html": [
       "<div>\n",
       "<style scoped>\n",
       "    .dataframe tbody tr th:only-of-type {\n",
       "        vertical-align: middle;\n",
       "    }\n",
       "\n",
       "    .dataframe tbody tr th {\n",
       "        vertical-align: top;\n",
       "    }\n",
       "\n",
       "    .dataframe thead th {\n",
       "        text-align: right;\n",
       "    }\n",
       "</style>\n",
       "<table border=\"1\" class=\"dataframe\">\n",
       "  <thead>\n",
       "    <tr style=\"text-align: right;\">\n",
       "      <th></th>\n",
       "      <th>customer_id</th>\n",
       "      <th>first_name</th>\n",
       "      <th>last_name</th>\n",
       "      <th>address</th>\n",
       "      <th>pincode</th>\n",
       "      <th>phone_number</th>\n",
       "      <th>sales_date</th>\n",
       "      <th>total_cost</th>\n",
       "    </tr>\n",
       "  </thead>\n",
       "  <tbody>\n",
       "    <tr>\n",
       "      <th>0</th>\n",
       "      <td>1637</td>\n",
       "      <td>Anita</td>\n",
       "      <td>Barman</td>\n",
       "      <td>H.No. 88, Upadhyay Chowk, Orai 493235</td>\n",
       "      <td>493235</td>\n",
       "      <td>29562838</td>\n",
       "      <td>2020-10-24</td>\n",
       "      <td>4543</td>\n",
       "    </tr>\n",
       "    <tr>\n",
       "      <th>1</th>\n",
       "      <td>6317</td>\n",
       "      <td>Riya</td>\n",
       "      <td>Bassi</td>\n",
       "      <td>23/159, Parmar Zila, Sri Ganganagar-469379</td>\n",
       "      <td>469379</td>\n",
       "      <td>0</td>\n",
       "      <td>2022-01-01</td>\n",
       "      <td>4301</td>\n",
       "    </tr>\n",
       "    <tr>\n",
       "      <th>2</th>\n",
       "      <td>2420</td>\n",
       "      <td>Raghav</td>\n",
       "      <td>Ramaswamy</td>\n",
       "      <td>H.No. 24, Memon Path, Nagercoil 265985</td>\n",
       "      <td>265985</td>\n",
       "      <td>0</td>\n",
       "      <td>2021-10-07</td>\n",
       "      <td>3584</td>\n",
       "    </tr>\n",
       "    <tr>\n",
       "      <th>3</th>\n",
       "      <td>7350</td>\n",
       "      <td>Gautam</td>\n",
       "      <td>Palla</td>\n",
       "      <td>H.No. 31, Kashyap, Bally 172013</td>\n",
       "      <td>172013</td>\n",
       "      <td>0</td>\n",
       "      <td>2020-01-04</td>\n",
       "      <td>3220</td>\n",
       "    </tr>\n",
       "    <tr>\n",
       "      <th>4</th>\n",
       "      <td>7350</td>\n",
       "      <td>Gautam</td>\n",
       "      <td>Palla</td>\n",
       "      <td>H.No. 31, Kashyap, Bally 172013</td>\n",
       "      <td>172013</td>\n",
       "      <td>0</td>\n",
       "      <td>2020-01-04</td>\n",
       "      <td>3220</td>\n",
       "    </tr>\n",
       "  </tbody>\n",
       "</table>\n",
       "</div>"
      ],
      "text/plain": [
       "   customer_id first_name  last_name  \\\n",
       "0         1637      Anita     Barman   \n",
       "1         6317       Riya      Bassi   \n",
       "2         2420     Raghav  Ramaswamy   \n",
       "3         7350     Gautam      Palla   \n",
       "4         7350     Gautam      Palla   \n",
       "\n",
       "                                      address  pincode  phone_number  \\\n",
       "0       H.No. 88, Upadhyay Chowk, Orai 493235   493235      29562838   \n",
       "1  23/159, Parmar Zila, Sri Ganganagar-469379   469379             0   \n",
       "2      H.No. 24, Memon Path, Nagercoil 265985   265985             0   \n",
       "3             H.No. 31, Kashyap, Bally 172013   172013             0   \n",
       "4             H.No. 31, Kashyap, Bally 172013   172013             0   \n",
       "\n",
       "   sales_date  total_cost  \n",
       "0  2020-10-24        4543  \n",
       "1  2022-01-01        4301  \n",
       "2  2021-10-07        3584  \n",
       "3  2020-01-04        3220  \n",
       "4  2020-01-04        3220  "
      ]
     },
     "execution_count": 47,
     "metadata": {},
     "output_type": "execute_result"
    }
   ],
   "source": [
    "# Read Parquet\n",
    "import io\n",
    "\n",
    "obj = s3.Bucket('de-retail-bucket').Object('sales_data/customer_data_mart/customer_data_mart.parquet').get()\n",
    "\n",
    "buffer = io.BytesIO(obj['Body'].read())\n",
    "\n",
    "customer_df = pd.read_parquet(buffer)\n",
    "customer_df.head()\n"
   ]
  },
  {
   "cell_type": "code",
   "execution_count": 30,
   "metadata": {},
   "outputs": [
    {
     "name": "stdout",
     "output_type": "stream",
     "text": [
      "sales_data/\n",
      "sales_data/dim_customer.csv\n",
      "sales_data/dim_product.csv\n",
      "sales_data/dim_sales_team.csv\n",
      "sales_data/dim_store.csv\n",
      "sales_data/fact_sales.csv\n"
     ]
    }
   ],
   "source": [
    "# List Objects\n",
    "for obj in bucket.objects.filter(Prefix='sales_data/'):\n",
    "    print(obj.key)"
   ]
  },
  {
   "cell_type": "code",
   "execution_count": 31,
   "metadata": {},
   "outputs": [
    {
     "data": {
      "text/html": [
       "<div>\n",
       "<style scoped>\n",
       "    .dataframe tbody tr th:only-of-type {\n",
       "        vertical-align: middle;\n",
       "    }\n",
       "\n",
       "    .dataframe tbody tr th {\n",
       "        vertical-align: top;\n",
       "    }\n",
       "\n",
       "    .dataframe thead th {\n",
       "        text-align: right;\n",
       "    }\n",
       "</style>\n",
       "<table border=\"1\" class=\"dataframe\">\n",
       "  <thead>\n",
       "    <tr style=\"text-align: right;\">\n",
       "      <th></th>\n",
       "      <th>customer_id</th>\n",
       "      <th>first_name</th>\n",
       "      <th>last_name</th>\n",
       "      <th>address</th>\n",
       "      <th>pincode</th>\n",
       "      <th>phone_number</th>\n",
       "      <th>customer_joining_date</th>\n",
       "    </tr>\n",
       "  </thead>\n",
       "  <tbody>\n",
       "    <tr>\n",
       "      <th>0</th>\n",
       "      <td>4986</td>\n",
       "      <td>Balveer</td>\n",
       "      <td>Choudhury</td>\n",
       "      <td>31/30, Devan Nagar, Anand 799736</td>\n",
       "      <td>376853</td>\n",
       "      <td>913000656779</td>\n",
       "      <td>2021-04-20</td>\n",
       "    </tr>\n",
       "    <tr>\n",
       "      <th>1</th>\n",
       "      <td>6642</td>\n",
       "      <td>Kalpit</td>\n",
       "      <td>Divan</td>\n",
       "      <td>15, Zacharia Nagar, Buxar-919980</td>\n",
       "      <td>331701</td>\n",
       "      <td>911454391537</td>\n",
       "      <td>2022-05-14</td>\n",
       "    </tr>\n",
       "    <tr>\n",
       "      <th>2</th>\n",
       "      <td>7763</td>\n",
       "      <td>Dominic</td>\n",
       "      <td>Radhakrishnan</td>\n",
       "      <td>834, Rajagopal Road, Amaravati 801199</td>\n",
       "      <td>351147</td>\n",
       "      <td>1346045138</td>\n",
       "      <td>2022-02-28</td>\n",
       "    </tr>\n",
       "    <tr>\n",
       "      <th>3</th>\n",
       "      <td>2420</td>\n",
       "      <td>Raghav</td>\n",
       "      <td>Ramaswamy</td>\n",
       "      <td>H.No. 24, Memon Path, Nagercoil 265985</td>\n",
       "      <td>668002</td>\n",
       "      <td>6956574158</td>\n",
       "      <td>2022-01-21</td>\n",
       "    </tr>\n",
       "    <tr>\n",
       "      <th>4</th>\n",
       "      <td>8576</td>\n",
       "      <td>Zinal</td>\n",
       "      <td>Venkataraman</td>\n",
       "      <td>832, Majumdar Road, Ongole-286732</td>\n",
       "      <td>705304</td>\n",
       "      <td>3399052109</td>\n",
       "      <td>2022-07-20</td>\n",
       "    </tr>\n",
       "  </tbody>\n",
       "</table>\n",
       "</div>"
      ],
      "text/plain": [
       "   customer_id first_name      last_name  \\\n",
       "0         4986    Balveer      Choudhury   \n",
       "1         6642     Kalpit          Divan   \n",
       "2         7763    Dominic  Radhakrishnan   \n",
       "3         2420     Raghav      Ramaswamy   \n",
       "4         8576      Zinal   Venkataraman   \n",
       "\n",
       "                                  address  pincode  phone_number  \\\n",
       "0        31/30, Devan Nagar, Anand 799736   376853  913000656779   \n",
       "1        15, Zacharia Nagar, Buxar-919980   331701  911454391537   \n",
       "2   834, Rajagopal Road, Amaravati 801199   351147    1346045138   \n",
       "3  H.No. 24, Memon Path, Nagercoil 265985   668002    6956574158   \n",
       "4       832, Majumdar Road, Ongole-286732   705304    3399052109   \n",
       "\n",
       "  customer_joining_date  \n",
       "0            2021-04-20  \n",
       "1            2022-05-14  \n",
       "2            2022-02-28  \n",
       "3            2022-01-21  \n",
       "4            2022-07-20  "
      ]
     },
     "execution_count": 31,
     "metadata": {},
     "output_type": "execute_result"
    }
   ],
   "source": [
    "# Read from S3\n",
    "import pandas as pd\n",
    "\n",
    "obj = s3.Bucket('de-retail-bucket').Object('sales_data/dim_customer.csv').get()\n",
    "customer_df = pd.read_csv(obj['Body'])\n",
    "customer_df.head()"
   ]
  },
  {
   "cell_type": "code",
   "execution_count": null,
   "metadata": {},
   "outputs": [],
   "source": []
  }
 ],
 "metadata": {
  "kernelspec": {
   "display_name": "venv",
   "language": "python",
   "name": "python3"
  },
  "language_info": {
   "codemirror_mode": {
    "name": "ipython",
    "version": 3
   },
   "file_extension": ".py",
   "mimetype": "text/x-python",
   "name": "python",
   "nbconvert_exporter": "python",
   "pygments_lexer": "ipython3",
   "version": "3.8.0"
  }
 },
 "nbformat": 4,
 "nbformat_minor": 2
}
