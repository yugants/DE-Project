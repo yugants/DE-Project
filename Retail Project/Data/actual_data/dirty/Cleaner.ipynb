{
 "cells": [
  {
   "cell_type": "code",
   "execution_count": 1,
   "id": "ad8bce49-c212-4184-8f5c-e5b462b65f12",
   "metadata": {},
   "outputs": [],
   "source": [
    "from pyspark.sql import SparkSession"
   ]
  },
  {
   "cell_type": "code",
   "execution_count": 2,
   "id": "f724255a-f335-44ff-8ba9-76de264a6a35",
   "metadata": {},
   "outputs": [],
   "source": [
    "spark = SparkSession.builder.appName('cleaner').getOrCreate()"
   ]
  },
  {
   "cell_type": "code",
   "execution_count": 3,
   "id": "7d405316-94f5-464d-bd09-c846b0187cc0",
   "metadata": {},
   "outputs": [
    {
     "name": "stdout",
     "output_type": "stream",
     "text": [
      "+-----------+----------+-----------------+--------------------+-----------------+--------------+---------------------+\n",
      "|customer_id|first_name|        last_name|             address|          pincode|  phone_number|customer_joining_date|\n",
      "+-----------+----------+-----------------+--------------------+-----------------+--------------+---------------------+\n",
      "|     4986.0|   Balveer|        Choudhury|31/30, Devan Naga...|         376853.0|913000656779.0|           2021-04-20|\n",
      "|     6642.0|    Kalpit|            Divan|15, Zacharia Naga...|         331701.0|911454391537.0|           2022-05-14|\n",
      "|     7763.0|   Dominic|    Radhakrishnan|834, Rajagopal Ro...|         351147.0|  1346045138.0|           2022-02-28|\n",
      "|     2420.0|    Raghav|        Ramaswamy|H.No. 24, Memon P...|         668002.0|  6956574158.0|           2022-01-21|\n",
      "|     8576.0|     Zinal|     Venkataraman|832, Majumdar Roa...|             null|  3399052109.0|           2022-07-20|\n",
      "|     1637.0|     Anita|           Barman|H.No. 88, Upadhya...|         485277.0|    29562838.0|           2020-05-18|\n",
      "|     2482.0|    Rushil|            Datta|H.No. 84, Gera, B...|468.6807641671118|919563687082.0|           2021-09-03|\n",
      "|     2366.0|     Falan|544.3557678643479|83/055, Keer Zila...|         800976.0|919195103295.0|           2020-12-04|\n",
      "|     magnam|    Nathan|          Bhavsar|17, Ghose Chowk, ...|         283282.0|  7260407415.0|           2023-04-28|\n",
      "|     9456.0|     Zarna|            Ratti|13, Balan Street,...|         914256.0|   174127259.0|           2020-11-20|\n",
      "+-----------+----------+-----------------+--------------------+-----------------+--------------+---------------------+\n",
      "only showing top 10 rows\n",
      "\n"
     ]
    }
   ],
   "source": [
    "customer_df = spark.read.format('csv')\\\n",
    "                .option('inferSchema','true')\\\n",
    "                .option('header', 'true')\\\n",
    "                .load('./dim_customer_dirty.csv')\n",
    "\n",
    "customer_df.show(10)"
   ]
  },
  {
   "cell_type": "code",
   "execution_count": 4,
   "id": "b95095b9-d2ef-4d38-bf9c-a59e594d1279",
   "metadata": {},
   "outputs": [
    {
     "name": "stdout",
     "output_type": "stream",
     "text": [
      "+-----------+----------+-------------+--------------------+-----------------+--------------+---------------------+\n",
      "|customer_id|first_name|    last_name|             address|          pincode|  phone_number|customer_joining_date|\n",
      "+-----------+----------+-------------+--------------------+-----------------+--------------+---------------------+\n",
      "|     4986.0|   Balveer|    Choudhury|31/30, Devan Naga...|         376853.0|913000656779.0|           2021-04-20|\n",
      "|     6642.0|    Kalpit|        Divan|15, Zacharia Naga...|         331701.0|911454391537.0|           2022-05-14|\n",
      "|     7763.0|   Dominic|Radhakrishnan|834, Rajagopal Ro...|         351147.0|  1346045138.0|           2022-02-28|\n",
      "|     2420.0|    Raghav|    Ramaswamy|H.No. 24, Memon P...|         668002.0|  6956574158.0|           2022-01-21|\n",
      "|     8576.0|     Zinal| Venkataraman|832, Majumdar Roa...|             null|  3399052109.0|           2022-07-20|\n",
      "|     1637.0|     Anita|       Barman|H.No. 88, Upadhya...|         485277.0|    29562838.0|           2020-05-18|\n",
      "|     2482.0|    Rushil|        Datta|H.No. 84, Gera, B...|468.6807641671118|919563687082.0|           2021-09-03|\n",
      "|     9456.0|     Zarna|        Ratti|13, Balan Street,...|         914256.0|   174127259.0|           2020-11-20|\n",
      "|     8164.0|    Aachal|          Rau|H.No. 52, Nanda C...|         434197.0|          null|           2022-04-21|\n",
      "|     7038.0|       Oni|        Reddy|175, Bhargava Gan...|         194099.0|  6266783729.0|    47.94451670154531|\n",
      "|     4045.0|    Aadhya|          Jha|H.No. 854, Gulati...|         148398.0|  9778070448.0|           2021-10-12|\n",
      "|     6317.0|      Riya|        Bassi|23/159, Parmar Zi...|         281648.0|916374678740.0|           2021-05-17|\n",
      "|     7841.0|   Jagdish|         Shan|76/97, Samra Road...|         386800.0|  1909943410.0|           2022-07-29|\n",
      "|     1405.0|     Advik| Venkataraman|   257.7506818607358|         187990.0|   255132491.0|           2020-01-31|\n",
      "|     7350.0|    Gautam|        Palla|H.No. 31, Kashyap...|         763900.0|  8203031333.0|           2021-12-04|\n",
      "|     1489.0|     Faris|        Nigam|404, Biswas Road,...|       2020-01-25|914716418684.0|             411987.0|\n",
      "|     3346.0|    Indali|        Naidu|54/055, Apte Stre...|         901224.0|    laudantium|           2020-08-26|\n",
      "|     6882.0|   Rachita|         Char|                null|         447450.0|913908644331.0|           2022-09-10|\n",
      "|     8341.0|     Jatin|         Dhar|28/678, Luthra Ch...|         864599.0|  3211957823.0|           2020-01-01|\n",
      "|     5253.0|   Jagdish|        Sodhi|H.No. 57, Sarma C...|         662731.0|912600373450.0|           2020-04-20|\n",
      "+-----------+----------+-------------+--------------------+-----------------+--------------+---------------------+\n",
      "\n"
     ]
    }
   ],
   "source": [
    "# Need to remove the records where id/first name/ last name is missing\n",
    "#  Remove if name is not a string and a number\n",
    "\n",
    "from pyspark.sql import functions as F\n",
    "\n",
    "# print(customer_df.count())\n",
    "\n",
    "customer_df_v2 = (customer_df\n",
    ".filter(F.col('customer_id').cast('int').isNotNull())\n",
    ".filter(F.col('first_name').cast('string').isNotNull())\n",
    ".filter(F.col('last_name').cast('string').isNotNull())\n",
    ".filter(~F.col('first_name').rlike('[0-9]'))\n",
    ".filter(~F.col('last_name').rlike('[0-9]'))\n",
    ")\n",
    "\n",
    "\n",
    "customer_df_v2.show()"
   ]
  },
  {
   "cell_type": "code",
   "execution_count": 8,
   "id": "096839c3-810a-4cad-8d78-697f0dd9c4e7",
   "metadata": {},
   "outputs": [
    {
     "name": "stdout",
     "output_type": "stream",
     "text": [
      "df2 count:  20\n",
      "df3 count:  20\n"
     ]
    }
   ],
   "source": [
    "# Need to check if both pincode and address are missing drop the row\n",
    "# if pincode is present, make the address as 'missing address'\n",
    "\n",
    "print('df2 count: ', customer_df_v2.count())\n",
    "\n",
    "customer_df_v3 = (customer_df_v2.filter(\n",
    "    ~(F.col('address').isNull() & F.col('pincode').isNull())))\n",
    "\n",
    "print('df3 count: ', customer_df_v3.count())"
   ]
  },
  {
   "cell_type": "code",
   "execution_count": 9,
   "id": "f14f8165-ac79-4f6b-b6a0-5de399f085bb",
   "metadata": {},
   "outputs": [
    {
     "name": "stdout",
     "output_type": "stream",
     "text": [
      "+-----------+----------+-------------+--------------------+-----------------+--------------+---------------------+\n",
      "|customer_id|first_name|    last_name|             address|          pincode|  phone_number|customer_joining_date|\n",
      "+-----------+----------+-------------+--------------------+-----------------+--------------+---------------------+\n",
      "|     4986.0|   Balveer|    Choudhury|31/30, Devan Naga...|         376853.0|913000656779.0|           2021-04-20|\n",
      "|     6642.0|    Kalpit|        Divan|15, Zacharia Naga...|         331701.0|911454391537.0|           2022-05-14|\n",
      "|     7763.0|   Dominic|Radhakrishnan|834, Rajagopal Ro...|         351147.0|  1346045138.0|           2022-02-28|\n",
      "|     2420.0|    Raghav|    Ramaswamy|H.No. 24, Memon P...|         668002.0|  6956574158.0|           2022-01-21|\n",
      "|     8576.0|     Zinal| Venkataraman|832, Majumdar Roa...|             null|  3399052109.0|           2022-07-20|\n",
      "|     1637.0|     Anita|       Barman|H.No. 88, Upadhya...|         485277.0|    29562838.0|           2020-05-18|\n",
      "|     2482.0|    Rushil|        Datta|H.No. 84, Gera, B...|468.6807641671118|919563687082.0|           2021-09-03|\n",
      "|     9456.0|     Zarna|        Ratti|13, Balan Street,...|         914256.0|   174127259.0|           2020-11-20|\n",
      "|     8164.0|    Aachal|          Rau|H.No. 52, Nanda C...|         434197.0|          null|           2022-04-21|\n",
      "|     7038.0|       Oni|        Reddy|175, Bhargava Gan...|         194099.0|  6266783729.0|    47.94451670154531|\n",
      "|     4045.0|    Aadhya|          Jha|H.No. 854, Gulati...|         148398.0|  9778070448.0|           2021-10-12|\n",
      "|     6317.0|      Riya|        Bassi|23/159, Parmar Zi...|         281648.0|916374678740.0|           2021-05-17|\n",
      "|     7841.0|   Jagdish|         Shan|76/97, Samra Road...|         386800.0|  1909943410.0|           2022-07-29|\n",
      "|     1405.0|     Advik| Venkataraman|   257.7506818607358|         187990.0|   255132491.0|           2020-01-31|\n",
      "|     7350.0|    Gautam|        Palla|H.No. 31, Kashyap...|         763900.0|  8203031333.0|           2021-12-04|\n",
      "|     1489.0|     Faris|        Nigam|404, Biswas Road,...|       2020-01-25|914716418684.0|             411987.0|\n",
      "|     3346.0|    Indali|        Naidu|54/055, Apte Stre...|         901224.0|    laudantium|           2020-08-26|\n",
      "|     6882.0|   Rachita|         Char|                null|         447450.0|913908644331.0|           2022-09-10|\n",
      "|     8341.0|     Jatin|         Dhar|28/678, Luthra Ch...|         864599.0|  3211957823.0|           2020-01-01|\n",
      "|     5253.0|   Jagdish|        Sodhi|H.No. 57, Sarma C...|         662731.0|912600373450.0|           2020-04-20|\n",
      "+-----------+----------+-------------+--------------------+-----------------+--------------+---------------------+\n",
      "\n"
     ]
    },
    {
     "data": {
      "text/plain": [
       "20"
      ]
     },
     "execution_count": 9,
     "metadata": {},
     "output_type": "execute_result"
    }
   ],
   "source": [
    "customer_df_v3.show()\n",
    "customer_df_v3.count()"
   ]
  },
  {
   "cell_type": "code",
   "execution_count": 51,
   "id": "6635606b-d395-4e68-b92b-544b28f8cea0",
   "metadata": {},
   "outputs": [
    {
     "name": "stdout",
     "output_type": "stream",
     "text": [
      "+------------------------------------------+-----------------+\n",
      "|address                                   |pincode          |\n",
      "+------------------------------------------+-----------------+\n",
      "|31/30, Devan Nagar, Anand 799736          |799736           |\n",
      "|15, Zacharia Nagar, Buxar-919980          |919980           |\n",
      "|834, Rajagopal Road, Amaravati 801199     |801199           |\n",
      "|H.No. 24, Memon Path, Nagercoil 265985    |265985           |\n",
      "|832, Majumdar Road, Ongole-286732         |286732           |\n",
      "|H.No. 88, Upadhyay Chowk, Orai 493235     |493235           |\n",
      "|H.No. 84, Gera, Bhilwara 569429           |569429           |\n",
      "|13, Balan Street, Medininagar-357773      |357773           |\n",
      "|H.No. 52, Nanda Circle, Ahmednagar 518831 |518831           |\n",
      "|175, Bhargava Ganj, Dhule 885357          |885357           |\n",
      "|H.No. 854, Gulati Chowk, Tadipatri-177232 |177232           |\n",
      "|23/159, Parmar Zila, Sri Ganganagar-469379|469379           |\n",
      "|76/97, Samra Road, Motihari-476980        |476980           |\n",
      "|257.7506818607358                         |257.7506818607358|\n",
      "|H.No. 31, Kashyap, Bally 172013           |172013           |\n",
      "|404, Biswas Road, Bareilly-682816         |682816           |\n",
      "|54/055, Apte Street, Bokaro-874973        |874973           |\n",
      "|28/678, Luthra Chowk, Haridwar-138699     |138699           |\n",
      "|H.No. 57, Sarma Chowk, Jorhat-960770      |960770           |\n",
      "+------------------------------------------+-----------------+\n",
      "\n"
     ]
    }
   ],
   "source": [
    "# # Extracting Pincode from the address\n",
    "\n",
    "# # Split the 'address' column into a list (split by space or comma)\n",
    "# customer_df_v3_split = (customer_df_v3\n",
    "#                         .withColumn('address_split', F.split(F.col('address'), ',| |-'))\n",
    "#                         .filter(F.col('address_split').getItem(F.size(F.col('address_split'))-1).cast('int').isNotNull())\n",
    "#                        )\n",
    "# # customer_df_v3_split.select(F.col('address_split'),customer_df_v3_split.address_split.getItem(F.size(F.col('address_split'))-1)).show(truncate=False)\n",
    "# # Show the resulting DataFrame\n",
    "# # customer_df_v3_split.select(F.col('address_split').getItem(0)).show()\n",
    "\n",
    "# customer_df_v3_split.select('address', F.col('address_split').getItem(F.size(F.col('address_split'))-1).alias('pincode')).show(truncate=False)\n"
   ]
  },
  {
   "cell_type": "code",
   "execution_count": 17,
   "id": "163ad1c4-b3b3-4d0e-add8-ca114b81a773",
   "metadata": {
    "scrolled": true
   },
   "outputs": [
    {
     "name": "stdout",
     "output_type": "stream",
     "text": [
      "+-----------+----------+-------------+------------------------------------------+-------+--------------+---------------------+\n",
      "|customer_id|first_name|last_name    |address                                   |pincode|phone_number  |customer_joining_date|\n",
      "+-----------+----------+-------------+------------------------------------------+-------+--------------+---------------------+\n",
      "|4986.0     |Balveer   |Choudhury    |31/30, Devan Nagar, Anand 799736          |799736 |913000656779.0|2021-04-20           |\n",
      "|6642.0     |Kalpit    |Divan        |15, Zacharia Nagar, Buxar-919980          |919980 |911454391537.0|2022-05-14           |\n",
      "|7763.0     |Dominic   |Radhakrishnan|834, Rajagopal Road, Amaravati 801199     |801199 |1346045138.0  |2022-02-28           |\n",
      "|2420.0     |Raghav    |Ramaswamy    |H.No. 24, Memon Path, Nagercoil 265985    |265985 |6956574158.0  |2022-01-21           |\n",
      "|8576.0     |Zinal     |Venkataraman |832, Majumdar Road, Ongole-286732         |286732 |3399052109.0  |2022-07-20           |\n",
      "|1637.0     |Anita     |Barman       |H.No. 88, Upadhyay Chowk, Orai 493235     |493235 |29562838.0    |2020-05-18           |\n",
      "|2482.0     |Rushil    |Datta        |H.No. 84, Gera, Bhilwara 569429           |569429 |919563687082.0|2021-09-03           |\n",
      "|9456.0     |Zarna     |Ratti        |13, Balan Street, Medininagar-357773      |357773 |174127259.0   |2020-11-20           |\n",
      "|8164.0     |Aachal    |Rau          |H.No. 52, Nanda Circle, Ahmednagar 518831 |518831 |null          |2022-04-21           |\n",
      "|7038.0     |Oni       |Reddy        |175, Bhargava Ganj, Dhule 885357          |885357 |6266783729.0  |47.94451670154531    |\n",
      "|4045.0     |Aadhya    |Jha          |H.No. 854, Gulati Chowk, Tadipatri-177232 |177232 |9778070448.0  |2021-10-12           |\n",
      "|6317.0     |Riya      |Bassi        |23/159, Parmar Zila, Sri Ganganagar-469379|469379 |916374678740.0|2021-05-17           |\n",
      "|7841.0     |Jagdish   |Shan         |76/97, Samra Road, Motihari-476980        |476980 |1909943410.0  |2022-07-29           |\n",
      "|7350.0     |Gautam    |Palla        |H.No. 31, Kashyap, Bally 172013           |172013 |8203031333.0  |2021-12-04           |\n",
      "|1489.0     |Faris     |Nigam        |404, Biswas Road, Bareilly-682816         |682816 |914716418684.0|411987.0             |\n",
      "|3346.0     |Indali    |Naidu        |54/055, Apte Street, Bokaro-874973        |874973 |laudantium    |2020-08-26           |\n",
      "|8341.0     |Jatin     |Dhar         |28/678, Luthra Chowk, Haridwar-138699     |138699 |3211957823.0  |2020-01-01           |\n",
      "|5253.0     |Jagdish   |Sodhi        |H.No. 57, Sarma Chowk, Jorhat-960770      |960770 |912600373450.0|2020-04-20           |\n",
      "+-----------+----------+-------------+------------------------------------------+-------+--------------+---------------------+\n",
      "\n"
     ]
    }
   ],
   "source": [
    "from pyspark.sql.functions import udf\n",
    "from pyspark.sql.types import IntegerType\n",
    "# if address is there and pincode is missing, write a UDF for extracting pincode from the address\n",
    "# it's the last group of numbers in address\n",
    "# Address must contain alpha-numeric otherwise put 'sample address'\n",
    "\n",
    "# Alphanumenric check, otherwise put sameple address if pincode is present\n",
    "\n",
    "# Where address is numeric and pincode is null\n",
    "\n",
    "customer_df_v4 = customer_df_v3.filter(\n",
    "    ~(F.col('address').rlike('^[0-9]+(\\\\.[0-9]+)?$') & F.col('pincode').isNull())\n",
    ")\n",
    "\n",
    "# When pincode is valid and address is numeric\n",
    "\n",
    "customer_df_v4 = customer_df_v4.withColumn(\n",
    "    'address',\n",
    "    F.when(\n",
    "     F.col('pincode').cast('int').isNotNull() & F.col('address').rlike('^[0-9]+(\\\\.[0-9]+)?$'),\n",
    "        'sampleaddress1'\n",
    "    ).otherwise(F.col('address'))\n",
    ")\n",
    "\n",
    "# When Pincode is Null or not integer and Address is valid\n",
    "# Not using UDF due to it's performance\n",
    "# Spliting Address with , or space( ) or -\n",
    "# Checking if the Pincode is present at the end\n",
    "\n",
    "customer_df_v4 = (customer_df_v4\n",
    "                        .withColumn('address_split', F.split(F.col('address'), ',| |-'))\n",
    "                        .filter(F.col('address_split').getItem(F.size(F.col('address_split'))-1).cast('int').isNotNull())\n",
    "                       )\n",
    "\n",
    "# check if Pincode is null or non-integer then place it from the address\n",
    "# or when pincode len is not 6 digits\n",
    "\n",
    "customer_df_v4 = customer_df_v4.withColumn(\n",
    "    'pincode',\n",
    "    F.when(\n",
    "        F.col('pincode').cast('int').isNull()  |  F.col('pincode').isNull() |\n",
    "        (F.col('pincode').isNotNull() & (F.length(F.col('pincode')) != 6)),\n",
    "        F.col('address_split').getItem(F.size(F.col('address_split'))-1)\n",
    "    ).otherwise(F.col('pincode'))\n",
    ")\n",
    "\n",
    "customer_df_v4 = customer_df_v4.drop(customer_df_v4.address_split)\n",
    "\n",
    "customer_df_v4.show(truncate=False)"
   ]
  },
  {
   "cell_type": "markdown",
   "id": "ab37796e-aa42-4418-9043-a88c3bc29f52",
   "metadata": {},
   "source": [
    "## Create Phone numbers with total length 10"
   ]
  },
  {
   "cell_type": "code",
   "execution_count": 21,
   "id": "2b57818c-cb06-477e-98b7-39eb7abfd717",
   "metadata": {},
   "outputs": [
    {
     "name": "stdout",
     "output_type": "stream",
     "text": [
      "+-----------+----------+-------------+--------------------+-------+------------+---------------------+\n",
      "|customer_id|first_name|    last_name|             address|pincode|phone_number|customer_joining_date|\n",
      "+-----------+----------+-------------+--------------------+-------+------------+---------------------+\n",
      "|     4986.0|   Balveer|    Choudhury|31/30, Devan Naga...| 799736|  0000000000|           2021-04-20|\n",
      "|     6642.0|    Kalpit|        Divan|15, Zacharia Naga...| 919980|  0000000000|           2022-05-14|\n",
      "|     7763.0|   Dominic|Radhakrishnan|834, Rajagopal Ro...| 801199|  0000000000|           2022-02-28|\n",
      "|     2420.0|    Raghav|    Ramaswamy|H.No. 24, Memon P...| 265985|  0000000000|           2022-01-21|\n",
      "|     8576.0|     Zinal| Venkataraman|832, Majumdar Roa...| 286732|  0000000000|           2022-07-20|\n",
      "|     1637.0|     Anita|       Barman|H.No. 88, Upadhya...| 493235|  29562838.0|           2020-05-18|\n",
      "|     2482.0|    Rushil|        Datta|H.No. 84, Gera, B...| 569429|  0000000000|           2021-09-03|\n",
      "|     9456.0|     Zarna|        Ratti|13, Balan Street,...| 357773|  0000000000|           2020-11-20|\n",
      "|     8164.0|    Aachal|          Rau|H.No. 52, Nanda C...| 518831|  0000000000|           2022-04-21|\n",
      "|     7038.0|       Oni|        Reddy|175, Bhargava Gan...| 885357|  0000000000|           2021-01-01|\n",
      "|     4045.0|    Aadhya|          Jha|H.No. 854, Gulati...| 177232|  0000000000|           2021-10-12|\n",
      "|     6317.0|      Riya|        Bassi|23/159, Parmar Zi...| 469379|  0000000000|           2021-05-17|\n",
      "|     7841.0|   Jagdish|         Shan|76/97, Samra Road...| 476980|  0000000000|           2022-07-29|\n",
      "|     7350.0|    Gautam|        Palla|H.No. 31, Kashyap...| 172013|  0000000000|           2021-12-04|\n",
      "|     1489.0|     Faris|        Nigam|404, Biswas Road,...| 682816|  0000000000|           2021-01-01|\n",
      "|     3346.0|    Indali|        Naidu|54/055, Apte Stre...| 874973|  0000000000|           2020-08-26|\n",
      "|     8341.0|     Jatin|         Dhar|28/678, Luthra Ch...| 138699|  0000000000|           2020-01-01|\n",
      "|     5253.0|   Jagdish|        Sodhi|H.No. 57, Sarma C...| 960770|  0000000000|           2020-04-20|\n",
      "+-----------+----------+-------------+--------------------+-------+------------+---------------------+\n",
      "\n"
     ]
    }
   ],
   "source": [
    "# Fix phone number\n",
    "customer_df_v4 = customer_df_v4.withColumn(\n",
    "    'phone_number',\n",
    "    F.when(\n",
    "        F.col('phone_number').cast('int').isNull() | \n",
    "        (F.col('phone_number').cast('int').isNotNull() & (F.length(F.col('phone_number'))!= 10)),\n",
    "        '0000000000'\n",
    "    ).otherwise(F.col('phone_number'))\n",
    ")\n",
    "\n",
    "# Fix date\n",
    "customer_df_v4 = customer_df_v4.withColumn(\n",
    "    'customer_joining_date',\n",
    "    F.when(\n",
    "        F.col('customer_joining_date').cast('date').isNull(),\n",
    "        '2021-01-01'\n",
    "    ).otherwise(F.col('customer_joining_date'))\n",
    ")\n",
    "\n",
    "customer_df_v4.show()"
   ]
  },
  {
   "cell_type": "code",
   "execution_count": 57,
   "id": "3da03fcf-2e2d-41a9-b5f2-c53f8dcf73ed",
   "metadata": {},
   "outputs": [
    {
     "name": "stdout",
     "output_type": "stream",
     "text": [
      "root\n",
      " |-- customer_id: string (nullable = true)\n",
      " |-- first_name: string (nullable = true)\n",
      " |-- last_name: string (nullable = true)\n",
      " |-- address: string (nullable = true)\n",
      " |-- pincode: string (nullable = true)\n",
      " |-- phone_number: string (nullable = true)\n",
      " |-- customer_joining_date: string (nullable = true)\n",
      " |-- address_split: array (nullable = true)\n",
      " |    |-- element: string (containsNull = false)\n",
      "\n"
     ]
    }
   ],
   "source": [
    "customer_df_v4.printSchema()"
   ]
  },
  {
   "cell_type": "code",
   "execution_count": 24,
   "id": "8fef54c6-d7f9-402d-80c2-2ecd09e7bab7",
   "metadata": {},
   "outputs": [
    {
     "name": "stdout",
     "output_type": "stream",
     "text": [
      "+-----------+----------+-------------+--------------------+-------+------------+---------------------+\n",
      "|customer_id|first_name|    last_name|             address|pincode|phone_number|customer_joining_date|\n",
      "+-----------+----------+-------------+--------------------+-------+------------+---------------------+\n",
      "|       4986|   Balveer|    Choudhury|31/30, Devan Naga...| 799736|           0|           2021-04-20|\n",
      "|       6642|    Kalpit|        Divan|15, Zacharia Naga...| 919980|           0|           2022-05-14|\n",
      "|       7763|   Dominic|Radhakrishnan|834, Rajagopal Ro...| 801199|           0|           2022-02-28|\n",
      "|       2420|    Raghav|    Ramaswamy|H.No. 24, Memon P...| 265985|           0|           2022-01-21|\n",
      "|       8576|     Zinal| Venkataraman|832, Majumdar Roa...| 286732|           0|           2022-07-20|\n",
      "|       1637|     Anita|       Barman|H.No. 88, Upadhya...| 493235|    29562838|           2020-05-18|\n",
      "|       2482|    Rushil|        Datta|H.No. 84, Gera, B...| 569429|           0|           2021-09-03|\n",
      "|       9456|     Zarna|        Ratti|13, Balan Street,...| 357773|           0|           2020-11-20|\n",
      "|       8164|    Aachal|          Rau|H.No. 52, Nanda C...| 518831|           0|           2022-04-21|\n",
      "|       7038|       Oni|        Reddy|175, Bhargava Gan...| 885357|           0|           2021-01-01|\n",
      "|       4045|    Aadhya|          Jha|H.No. 854, Gulati...| 177232|           0|           2021-10-12|\n",
      "|       6317|      Riya|        Bassi|23/159, Parmar Zi...| 469379|           0|           2021-05-17|\n",
      "|       7841|   Jagdish|         Shan|76/97, Samra Road...| 476980|           0|           2022-07-29|\n",
      "|       7350|    Gautam|        Palla|H.No. 31, Kashyap...| 172013|           0|           2021-12-04|\n",
      "|       1489|     Faris|        Nigam|404, Biswas Road,...| 682816|           0|           2021-01-01|\n",
      "|       3346|    Indali|        Naidu|54/055, Apte Stre...| 874973|           0|           2020-08-26|\n",
      "|       8341|     Jatin|         Dhar|28/678, Luthra Ch...| 138699|           0|           2020-01-01|\n",
      "|       5253|   Jagdish|        Sodhi|H.No. 57, Sarma C...| 960770|           0|           2020-04-20|\n",
      "+-----------+----------+-------------+--------------------+-------+------------+---------------------+\n",
      "\n"
     ]
    }
   ],
   "source": [
    "from pyspark.sql.types import IntegerType, DateType\n",
    "\n",
    "# Using `select` to cast the columns\n",
    "cleaned_customer_df = customer_df_v4.select(\n",
    "    customer_df_v4.customer_id.cast(IntegerType()).alias('customer_id'),\n",
    "    customer_df_v4.first_name.alias('first_name'),\n",
    "    customer_df_v4.last_name.alias('last_name'),\n",
    "    customer_df_v4.address.alias('address'),\n",
    "    customer_df_v4.pincode.cast(IntegerType()).alias('pincode'),\n",
    "    customer_df_v4.phone_number.cast(IntegerType()).alias('phone_number'),\n",
    "    customer_df_v4.customer_joining_date.cast(DateType()).alias('customer_joining_date')\n",
    ")\n",
    "\n",
    "cleaned_customer_df.show()"
   ]
  },
  {
   "cell_type": "code",
   "execution_count": 25,
   "id": "f3101166-22cc-4aa1-bd5d-3d406ceadf5e",
   "metadata": {},
   "outputs": [
    {
     "name": "stdout",
     "output_type": "stream",
     "text": [
      "root\n",
      " |-- customer_id: integer (nullable = true)\n",
      " |-- first_name: string (nullable = true)\n",
      " |-- last_name: string (nullable = true)\n",
      " |-- address: string (nullable = true)\n",
      " |-- pincode: integer (nullable = true)\n",
      " |-- phone_number: integer (nullable = true)\n",
      " |-- customer_joining_date: date (nullable = true)\n",
      "\n"
     ]
    }
   ],
   "source": [
    "cleaned_customer_df.printSchema()"
   ]
  },
  {
   "cell_type": "code",
   "execution_count": null,
   "id": "408e09e2-d84d-43dc-8760-827526f9e130",
   "metadata": {},
   "outputs": [],
   "source": []
  }
 ],
 "metadata": {
  "kernelspec": {
   "display_name": "Python 3 (ipykernel)",
   "language": "python",
   "name": "python3"
  },
  "language_info": {
   "codemirror_mode": {
    "name": "ipython",
    "version": 3
   },
   "file_extension": ".py",
   "mimetype": "text/x-python",
   "name": "python",
   "nbconvert_exporter": "python",
   "pygments_lexer": "ipython3",
   "version": "3.8.0"
  }
 },
 "nbformat": 4,
 "nbformat_minor": 5
}
