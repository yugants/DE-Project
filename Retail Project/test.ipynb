{
 "cells": [
  {
   "cell_type": "code",
   "execution_count": 1,
   "metadata": {},
   "outputs": [],
   "source": [
    "from pyspark.sql import SparkSession\n",
    "from Data_Reader.reader import Reader\n",
    "\n",
    "\n",
    "spark = SparkSession.builder\\\n",
    "            .appName('silver_layer')\\\n",
    "            .config(\"spark.driver.extraClassPath\", \"./mysql-connector-java-8.0.26.jar\")\\\n",
    "            .getOrCreate()"
   ]
  },
  {
   "cell_type": "code",
   "execution_count": 2,
   "metadata": {},
   "outputs": [
    {
     "name": "stdout",
     "output_type": "stream",
     "text": [
      "+-----------+----------+------------+--------------------+-------+------------+----------+----------+\n",
      "|customer_id|first_name|   last_name|             address|pincode|phone_number|sales_date|total_cost|\n",
      "+-----------+----------+------------+--------------------+-------+------------+----------+----------+\n",
      "|       1637|     Anita|      Barman|H.No. 88, Upadhya...| 493235|    29562838|2020-10-24|      4543|\n",
      "|       6317|      Riya|       Bassi|23/159, Parmar Zi...| 469379|           0|2022-01-01|      4301|\n",
      "|       2420|    Raghav|   Ramaswamy|H.No. 24, Memon P...| 265985|           0|2021-10-07|      3584|\n",
      "|       7350|    Gautam|       Palla|H.No. 31, Kashyap...| 172013|           0|2020-01-04|      3220|\n",
      "|       7350|    Gautam|       Palla|H.No. 31, Kashyap...| 172013|           0|2020-01-04|      3220|\n",
      "|       7350|    Gautam|       Palla|H.No. 31, Kashyap...| 172013|           0|2020-01-04|      3220|\n",
      "|       2420|    Raghav|   Ramaswamy|H.No. 24, Memon P...| 265985|           0|2021-02-07|       854|\n",
      "|       2482|    Rushil|       Datta|H.No. 84, Gera, B...| 569429|           0|2023-02-26|      2760|\n",
      "|       2482|    Rushil|       Datta|H.No. 84, Gera, B...| 569429|           0|2023-02-26|      2760|\n",
      "|       2482|    Rushil|       Datta|H.No. 84, Gera, B...| 569429|           0|2023-02-26|      2760|\n",
      "|       8576|     Zinal|Venkataraman|832, Majumdar Roa...| 286732|           0|2023-05-12|      5520|\n",
      "|       8576|     Zinal|Venkataraman|832, Majumdar Roa...| 286732|           0|2023-05-12|      5520|\n",
      "|       8576|     Zinal|Venkataraman|832, Majumdar Roa...| 286732|           0|2023-05-12|      5520|\n",
      "|       2420|    Raghav|   Ramaswamy|H.No. 24, Memon P...| 265985|           0|2022-02-06|      2024|\n",
      "|       8576|     Zinal|Venkataraman|832, Majumdar Roa...| 286732|           0|2022-06-24|      1688|\n",
      "|       4986|   Balveer|   Choudhury|31/30, Devan Naga...| 799736|           0|2020-06-07|      3372|\n",
      "|       1637|     Anita|      Barman|H.No. 88, Upadhya...| 493235|    29562838|2023-05-12|      4543|\n",
      "|       1489|     Faris|       Nigam|404, Biswas Road,...| 682816|           0|2021-06-14|      6194|\n",
      "|       1489|     Faris|       Nigam|404, Biswas Road,...| 682816|           0|2021-06-14|      6194|\n",
      "|       2482|    Rushil|       Datta|H.No. 84, Gera, B...| 569429|           0|2022-02-27|       920|\n",
      "+-----------+----------+------------+--------------------+-------+------------+----------+----------+\n",
      "only showing top 20 rows\n",
      "\n",
      "+-----------+----------+------------+--------------------+-------+------------+----------+----------+\n",
      "|customer_id|first_name|   last_name|             address|pincode|phone_number|sales_date|total_cost|\n",
      "+-----------+----------+------------+--------------------+-------+------------+----------+----------+\n",
      "|       1637|     Anita|      Barman|H.No. 88, Upadhya...| 493235|    29562838|2020-10-24|      4543|\n",
      "|       6317|      Riya|       Bassi|23/159, Parmar Zi...| 469379|           0|2022-01-01|      4301|\n",
      "|       2420|    Raghav|   Ramaswamy|H.No. 24, Memon P...| 265985|           0|2021-10-07|      3584|\n",
      "|       7350|    Gautam|       Palla|H.No. 31, Kashyap...| 172013|           0|2020-01-04|      3220|\n",
      "|       7350|    Gautam|       Palla|H.No. 31, Kashyap...| 172013|           0|2020-01-04|      3220|\n",
      "|       7350|    Gautam|       Palla|H.No. 31, Kashyap...| 172013|           0|2020-01-04|      3220|\n",
      "|       2420|    Raghav|   Ramaswamy|H.No. 24, Memon P...| 265985|           0|2021-02-07|       854|\n",
      "|       2482|    Rushil|       Datta|H.No. 84, Gera, B...| 569429|           0|2023-02-26|      2760|\n",
      "|       2482|    Rushil|       Datta|H.No. 84, Gera, B...| 569429|           0|2023-02-26|      2760|\n",
      "|       2482|    Rushil|       Datta|H.No. 84, Gera, B...| 569429|           0|2023-02-26|      2760|\n",
      "|       8576|     Zinal|Venkataraman|832, Majumdar Roa...| 286732|           0|2023-05-12|      5520|\n",
      "|       8576|     Zinal|Venkataraman|832, Majumdar Roa...| 286732|           0|2023-05-12|      5520|\n",
      "|       8576|     Zinal|Venkataraman|832, Majumdar Roa...| 286732|           0|2023-05-12|      5520|\n",
      "|       2420|    Raghav|   Ramaswamy|H.No. 24, Memon P...| 265985|           0|2022-02-06|      2024|\n",
      "|       8576|     Zinal|Venkataraman|832, Majumdar Roa...| 286732|           0|2022-06-24|      1688|\n",
      "|       4986|   Balveer|   Choudhury|31/30, Devan Naga...| 799736|           0|2020-06-07|      3372|\n",
      "|       1637|     Anita|      Barman|H.No. 88, Upadhya...| 493235|    29562838|2023-05-12|      4543|\n",
      "|       1489|     Faris|       Nigam|404, Biswas Road,...| 682816|           0|2021-06-14|      6194|\n",
      "|       1489|     Faris|       Nigam|404, Biswas Road,...| 682816|           0|2021-06-14|      6194|\n",
      "|       2482|    Rushil|       Datta|H.No. 84, Gera, B...| 569429|           0|2022-02-27|       920|\n",
      "+-----------+----------+------------+--------------------+-------+------------+----------+----------+\n",
      "only showing top 20 rows\n",
      "\n"
     ]
    }
   ],
   "source": [
    "import logging\n",
    "\n",
    "# clean_path = '''C:\\\\Users\\\\yugant.shekhar\\\\OneDrive - Blue Altair\\\\Desktop\\\\Douments\\\\Spark\\\\Retail Project\\\\Data\\\\actual_data\\\\cleaned'''\n",
    "logger = logging.getLogger(__name__)\n",
    "\n",
    "read = Reader(spark, logger)\n",
    "dim_customer = read.reader('parquet', 'C:\\\\Users\\\\yugant.shekhar\\\\OneDrive - Blue Altair\\\\Desktop\\\\Douments\\\\Spark\\\\Retail Project\\\\Data\\\\actual_data\\\\customer_data_mart')\n",
    "\n",
    "dim_customer.show()"
   ]
  },
  {
   "cell_type": "code",
   "execution_count": 3,
   "metadata": {},
   "outputs": [
    {
     "name": "stdout",
     "output_type": "stream",
     "text": [
      "+---------------+-----------------------+----------------------+------------------+----------+----------+--------------------+--------------------+----------+----------+-----------+--------+\n",
      "|sales_person_id|sales_person_first_name|sales_person_last_name|store_manager_name|manager_id|is_manager|sales_person_address|sales_person_pincode|sales_date|total_cost|sales_month|store_id|\n",
      "+---------------+-----------------------+----------------------+------------------+----------+----------+--------------------+--------------------+----------+----------+-----------+--------+\n",
      "|              2|               Gayathri|             Choudhary|    Chandani Kohli|       9.0|         N|85/31, Raman Circ...|              821832|2020-04-15|      3808|    2020-04|       1|\n",
      "|              2|               Gayathri|             Choudhary|    Chandani Kohli|       9.0|         N|85/31, Raman Circ...|              821832|2020-04-15|      3808|    2020-04|       1|\n",
      "|              2|               Gayathri|             Choudhary|    Chandani Kohli|       9.0|         N|85/31, Raman Circ...|              821832|2023-07-01|       920|    2023-07|       1|\n",
      "|              2|               Gayathri|             Choudhary|    Chandani Kohli|       9.0|         N|85/31, Raman Circ...|              821832|2023-07-01|       920|    2023-07|       1|\n",
      "|              2|               Gayathri|             Choudhary|    Chandani Kohli|       9.0|         N|85/31, Raman Circ...|              821832|2023-07-01|       920|    2023-07|       1|\n",
      "|              7|                 Dayita|                  Dave|      Vedhika Rama|       8.0|         N|H.No. 148, Sampat...|              175153|2022-08-01|      4256|    2022-08|      43|\n",
      "|              7|                 Dayita|                  Dave|      Vedhika Rama|       8.0|         N|H.No. 148, Sampat...|              175153|2022-08-01|      4256|    2022-08|      43|\n",
      "|             19|                 Nitara|             Kuruvilla|     Yoshita Ghosh|       8.0|         N|96, Padmanabhan Z...|              729506|2021-04-24|       326|    2021-04|      63|\n",
      "|             19|                 Nitara|             Kuruvilla|     Yoshita Ghosh|       8.0|         N|96, Padmanabhan Z...|              729506|2021-04-24|       326|    2021-04|      63|\n",
      "|             17|                  Netra|                Oommen|     Yoshita Ghosh|      20.0|         N|H.No. 57, Shah Na...|              872645|2022-05-21|      1568|    2022-05|      63|\n",
      "|             17|                  Netra|                Oommen|     Yoshita Ghosh|      20.0|         N|H.No. 57, Shah Na...|              872645|2022-05-21|      1568|    2022-05|      63|\n",
      "|             17|                  Netra|                Oommen|      Chameli Nagi|      20.0|         N|H.No. 57, Shah Na...|              872645|2020-07-06|       460|    2020-07|      16|\n",
      "|             17|                  Netra|                Oommen|      Chameli Nagi|      20.0|         N|H.No. 57, Shah Na...|              872645|2020-07-06|       460|    2020-07|      16|\n",
      "|             17|                  Netra|                Oommen|      Chameli Nagi|      20.0|         N|H.No. 57, Shah Na...|              872645|2020-07-06|       460|    2020-07|      16|\n",
      "|             19|                 Nitara|             Kuruvilla|       Shravya Dua|       8.0|         N|96, Padmanabhan Z...|              729506|2020-09-30|      7820|    2020-09|      72|\n",
      "|             19|                 Nitara|             Kuruvilla|       Shravya Dua|       8.0|         N|96, Padmanabhan Z...|              729506|2020-09-30|      7820|    2020-09|      72|\n",
      "|             19|                 Nitara|             Kuruvilla|       Shravya Dua|       8.0|         N|96, Padmanabhan Z...|              729506|2020-09-30|      7820|    2020-09|      72|\n",
      "|             19|                 Nitara|             Kuruvilla|       Shravya Dua|       8.0|         N|96, Padmanabhan Z...|              729506|2021-11-08|       146|    2021-11|      72|\n",
      "|             19|                 Nitara|             Kuruvilla|       Shravya Dua|       8.0|         N|96, Padmanabhan Z...|              729506|2021-11-08|       146|    2021-11|      72|\n",
      "|             12|                 Mugdha|                 Kohli|    Anamika Karnik|       6.0|         N|64/132, Andra Zil...|              909474|2020-10-28|      5520|    2020-10|      22|\n",
      "+---------------+-----------------------+----------------------+------------------+----------+----------+--------------------+--------------------+----------+----------+-----------+--------+\n",
      "only showing top 20 rows\n",
      "\n",
      "+---------------+-----------------------+----------------------+------------------+----------+----------+--------------------+--------------------+----------+----------+-----------+--------+\n",
      "|sales_person_id|sales_person_first_name|sales_person_last_name|store_manager_name|manager_id|is_manager|sales_person_address|sales_person_pincode|sales_date|total_cost|sales_month|store_id|\n",
      "+---------------+-----------------------+----------------------+------------------+----------+----------+--------------------+--------------------+----------+----------+-----------+--------+\n",
      "|              2|               Gayathri|             Choudhary|    Chandani Kohli|       9.0|         N|85/31, Raman Circ...|              821832|2020-04-15|      3808|    2020-04|       1|\n",
      "|              2|               Gayathri|             Choudhary|    Chandani Kohli|       9.0|         N|85/31, Raman Circ...|              821832|2020-04-15|      3808|    2020-04|       1|\n",
      "|              2|               Gayathri|             Choudhary|    Chandani Kohli|       9.0|         N|85/31, Raman Circ...|              821832|2023-07-01|       920|    2023-07|       1|\n",
      "|              2|               Gayathri|             Choudhary|    Chandani Kohli|       9.0|         N|85/31, Raman Circ...|              821832|2023-07-01|       920|    2023-07|       1|\n",
      "|              2|               Gayathri|             Choudhary|    Chandani Kohli|       9.0|         N|85/31, Raman Circ...|              821832|2023-07-01|       920|    2023-07|       1|\n",
      "|              7|                 Dayita|                  Dave|      Vedhika Rama|       8.0|         N|H.No. 148, Sampat...|              175153|2022-08-01|      4256|    2022-08|      43|\n",
      "|              7|                 Dayita|                  Dave|      Vedhika Rama|       8.0|         N|H.No. 148, Sampat...|              175153|2022-08-01|      4256|    2022-08|      43|\n",
      "|             19|                 Nitara|             Kuruvilla|     Yoshita Ghosh|       8.0|         N|96, Padmanabhan Z...|              729506|2021-04-24|       326|    2021-04|      63|\n",
      "|             19|                 Nitara|             Kuruvilla|     Yoshita Ghosh|       8.0|         N|96, Padmanabhan Z...|              729506|2021-04-24|       326|    2021-04|      63|\n",
      "|             17|                  Netra|                Oommen|     Yoshita Ghosh|      20.0|         N|H.No. 57, Shah Na...|              872645|2022-05-21|      1568|    2022-05|      63|\n",
      "|             17|                  Netra|                Oommen|     Yoshita Ghosh|      20.0|         N|H.No. 57, Shah Na...|              872645|2022-05-21|      1568|    2022-05|      63|\n",
      "|             17|                  Netra|                Oommen|      Chameli Nagi|      20.0|         N|H.No. 57, Shah Na...|              872645|2020-07-06|       460|    2020-07|      16|\n",
      "|             17|                  Netra|                Oommen|      Chameli Nagi|      20.0|         N|H.No. 57, Shah Na...|              872645|2020-07-06|       460|    2020-07|      16|\n",
      "|             17|                  Netra|                Oommen|      Chameli Nagi|      20.0|         N|H.No. 57, Shah Na...|              872645|2020-07-06|       460|    2020-07|      16|\n",
      "|             19|                 Nitara|             Kuruvilla|       Shravya Dua|       8.0|         N|96, Padmanabhan Z...|              729506|2020-09-30|      7820|    2020-09|      72|\n",
      "|             19|                 Nitara|             Kuruvilla|       Shravya Dua|       8.0|         N|96, Padmanabhan Z...|              729506|2020-09-30|      7820|    2020-09|      72|\n",
      "|             19|                 Nitara|             Kuruvilla|       Shravya Dua|       8.0|         N|96, Padmanabhan Z...|              729506|2020-09-30|      7820|    2020-09|      72|\n",
      "|             19|                 Nitara|             Kuruvilla|       Shravya Dua|       8.0|         N|96, Padmanabhan Z...|              729506|2021-11-08|       146|    2021-11|      72|\n",
      "|             19|                 Nitara|             Kuruvilla|       Shravya Dua|       8.0|         N|96, Padmanabhan Z...|              729506|2021-11-08|       146|    2021-11|      72|\n",
      "|             12|                 Mugdha|                 Kohli|    Anamika Karnik|       6.0|         N|64/132, Andra Zil...|              909474|2020-10-28|      5520|    2020-10|      22|\n",
      "+---------------+-----------------------+----------------------+------------------+----------+----------+--------------------+--------------------+----------+----------+-----------+--------+\n",
      "only showing top 20 rows\n",
      "\n"
     ]
    }
   ],
   "source": [
    "dim_customer2 = read.reader('parquet', 'C:\\\\Users\\\\yugant.shekhar\\\\OneDrive - Blue Altair\\\\Desktop\\\\Douments\\\\Spark\\\\Retail Project\\\\Data\\\\actual_data\\\\sales_team_data_mart')\n",
    "\n",
    "dim_customer2.show()"
   ]
  },
  {
   "cell_type": "code",
   "execution_count": 4,
   "metadata": {},
   "outputs": [
    {
     "name": "stdout",
     "output_type": "stream",
     "text": [
      "root\n",
      " |-- customer_id: integer (nullable = true)\n",
      " |-- first_name: string (nullable = true)\n",
      " |-- last_name: string (nullable = true)\n",
      " |-- address: string (nullable = true)\n",
      " |-- pincode: integer (nullable = true)\n",
      " |-- phone_number: integer (nullable = true)\n",
      " |-- sales_date: date (nullable = true)\n",
      " |-- total_cost: integer (nullable = true)\n",
      "\n"
     ]
    }
   ],
   "source": [
    "dim_customer.printSchema()"
   ]
  },
  {
   "cell_type": "code",
   "execution_count": 5,
   "metadata": {},
   "outputs": [
    {
     "name": "stdout",
     "output_type": "stream",
     "text": [
      "root\n",
      " |-- sales_person_id: integer (nullable = true)\n",
      " |-- sales_person_first_name: string (nullable = true)\n",
      " |-- sales_person_last_name: string (nullable = true)\n",
      " |-- store_manager_name: string (nullable = true)\n",
      " |-- manager_id: double (nullable = true)\n",
      " |-- is_manager: string (nullable = true)\n",
      " |-- sales_person_address: string (nullable = true)\n",
      " |-- sales_person_pincode: integer (nullable = true)\n",
      " |-- sales_date: date (nullable = true)\n",
      " |-- total_cost: integer (nullable = true)\n",
      " |-- sales_month: string (nullable = true)\n",
      " |-- store_id: integer (nullable = true)\n",
      "\n"
     ]
    }
   ],
   "source": [
    "dim_customer2.printSchema()"
   ]
  },
  {
   "cell_type": "code",
   "execution_count": null,
   "metadata": {},
   "outputs": [],
   "source": []
  }
 ],
 "metadata": {
  "kernelspec": {
   "display_name": "venv",
   "language": "python",
   "name": "python3"
  },
  "language_info": {
   "codemirror_mode": {
    "name": "ipython",
    "version": 3
   },
   "file_extension": ".py",
   "mimetype": "text/x-python",
   "name": "python",
   "nbconvert_exporter": "python",
   "pygments_lexer": "ipython3",
   "version": "3.8.0"
  }
 },
 "nbformat": 4,
 "nbformat_minor": 2
}
