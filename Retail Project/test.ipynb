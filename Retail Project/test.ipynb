{
 "cells": [
  {
   "cell_type": "code",
   "execution_count": 1,
   "metadata": {},
   "outputs": [],
   "source": [
    "from pyspark.sql import SparkSession\n",
    "from Data_Reader.reader import Reader\n",
    "\n",
    "\n",
    "spark = SparkSession.builder\\\n",
    "            .appName('bronze_layer')\\\n",
    "            .config(\"spark.driver.extraClassPath\", \"./mysql-connector-java-8.0.26.jar\")\\\n",
    "            .getOrCreate()"
   ]
  },
  {
   "cell_type": "code",
   "execution_count": 2,
   "metadata": {},
   "outputs": [
    {
     "name": "stdout",
     "output_type": "stream",
     "text": [
      "+-----------+----------+-------------+--------------------+-------+------------+---------------------+\n",
      "|customer_id|first_name|    last_name|             address|pincode|phone_number|customer_joining_date|\n",
      "+-----------+----------+-------------+--------------------+-------+------------+---------------------+\n",
      "|       4986|   Balveer|    Choudhury|31/30, Devan Naga...| 799736|           0|           2021-04-20|\n",
      "|       6642|    Kalpit|        Divan|15, Zacharia Naga...| 919980|           0|           2022-05-14|\n",
      "|       7763|   Dominic|Radhakrishnan|834, Rajagopal Ro...| 801199|           0|           2022-02-28|\n",
      "|       2420|    Raghav|    Ramaswamy|H.No. 24, Memon P...| 265985|           0|           2022-01-21|\n",
      "|       8576|     Zinal| Venkataraman|832, Majumdar Roa...| 286732|           0|           2022-07-20|\n",
      "|       1637|     Anita|       Barman|H.No. 88, Upadhya...| 493235|    29562838|           2020-05-18|\n",
      "|       2482|    Rushil|        Datta|H.No. 84, Gera, B...| 569429|           0|           2021-09-03|\n",
      "|       9456|     Zarna|        Ratti|13, Balan Street,...| 357773|           0|           2020-11-20|\n",
      "|       8164|    Aachal|          Rau|H.No. 52, Nanda C...| 518831|           0|           2022-04-21|\n",
      "|       7038|       Oni|        Reddy|175, Bhargava Gan...| 885357|           0|           2021-01-01|\n",
      "|       4045|    Aadhya|          Jha|H.No. 854, Gulati...| 177232|           0|           2021-10-12|\n",
      "|       6317|      Riya|        Bassi|23/159, Parmar Zi...| 469379|           0|           2021-05-17|\n",
      "|       7841|   Jagdish|         Shan|76/97, Samra Road...| 476980|           0|           2022-07-29|\n",
      "|       7350|    Gautam|        Palla|H.No. 31, Kashyap...| 172013|           0|           2021-12-04|\n",
      "|       1489|     Faris|        Nigam|404, Biswas Road,...| 682816|           0|           2021-01-01|\n",
      "|       3346|    Indali|        Naidu|54/055, Apte Stre...| 874973|           0|           2020-08-26|\n",
      "|       8341|     Jatin|         Dhar|28/678, Luthra Ch...| 138699|           0|           2020-01-01|\n",
      "|       5253|   Jagdish|        Sodhi|H.No. 57, Sarma C...| 960770|           0|           2020-04-20|\n",
      "+-----------+----------+-------------+--------------------+-------+------------+---------------------+\n",
      "\n",
      "+-----------+----------+-------------+--------------------+-------+------------+---------------------+\n",
      "|customer_id|first_name|    last_name|             address|pincode|phone_number|customer_joining_date|\n",
      "+-----------+----------+-------------+--------------------+-------+------------+---------------------+\n",
      "|       4986|   Balveer|    Choudhury|31/30, Devan Naga...| 799736|           0|           2021-04-20|\n",
      "|       6642|    Kalpit|        Divan|15, Zacharia Naga...| 919980|           0|           2022-05-14|\n",
      "|       7763|   Dominic|Radhakrishnan|834, Rajagopal Ro...| 801199|           0|           2022-02-28|\n",
      "|       2420|    Raghav|    Ramaswamy|H.No. 24, Memon P...| 265985|           0|           2022-01-21|\n",
      "|       8576|     Zinal| Venkataraman|832, Majumdar Roa...| 286732|           0|           2022-07-20|\n",
      "|       1637|     Anita|       Barman|H.No. 88, Upadhya...| 493235|    29562838|           2020-05-18|\n",
      "|       2482|    Rushil|        Datta|H.No. 84, Gera, B...| 569429|           0|           2021-09-03|\n",
      "|       9456|     Zarna|        Ratti|13, Balan Street,...| 357773|           0|           2020-11-20|\n",
      "|       8164|    Aachal|          Rau|H.No. 52, Nanda C...| 518831|           0|           2022-04-21|\n",
      "|       7038|       Oni|        Reddy|175, Bhargava Gan...| 885357|           0|           2021-01-01|\n",
      "|       4045|    Aadhya|          Jha|H.No. 854, Gulati...| 177232|           0|           2021-10-12|\n",
      "|       6317|      Riya|        Bassi|23/159, Parmar Zi...| 469379|           0|           2021-05-17|\n",
      "|       7841|   Jagdish|         Shan|76/97, Samra Road...| 476980|           0|           2022-07-29|\n",
      "|       7350|    Gautam|        Palla|H.No. 31, Kashyap...| 172013|           0|           2021-12-04|\n",
      "|       1489|     Faris|        Nigam|404, Biswas Road,...| 682816|           0|           2021-01-01|\n",
      "|       3346|    Indali|        Naidu|54/055, Apte Stre...| 874973|           0|           2020-08-26|\n",
      "|       8341|     Jatin|         Dhar|28/678, Luthra Ch...| 138699|           0|           2020-01-01|\n",
      "|       5253|   Jagdish|        Sodhi|H.No. 57, Sarma C...| 960770|           0|           2020-04-20|\n",
      "+-----------+----------+-------------+--------------------+-------+------------+---------------------+\n",
      "\n"
     ]
    }
   ],
   "source": [
    "import logging\n",
    "\n",
    "clean_path = '''C:\\\\Users\\\\yugant.shekhar\\\\OneDrive - Blue Altair\\\\Desktop\\\\Douments\\\\Spark\\\\Retail Project\\\\Data\\\\actual_data\\\\cleaned'''\n",
    "logger = logging.getLogger(__name__)\n",
    "customer_path = clean_path + '\\\\dim_customer'\n",
    "read = Reader(spark, logger)\n",
    "dim_customer = read.reader('csv', customer_path)\n",
    "\n",
    "dim_customer.show()"
   ]
  },
  {
   "cell_type": "code",
   "execution_count": 3,
   "metadata": {},
   "outputs": [
    {
     "name": "stdout",
     "output_type": "stream",
     "text": [
      "root\n",
      " |-- customer_id: integer (nullable = true)\n",
      " |-- first_name: string (nullable = true)\n",
      " |-- last_name: string (nullable = true)\n",
      " |-- address: string (nullable = true)\n",
      " |-- pincode: integer (nullable = true)\n",
      " |-- phone_number: integer (nullable = true)\n",
      " |-- customer_joining_date: date (nullable = true)\n",
      "\n"
     ]
    }
   ],
   "source": [
    "dim_customer.printSchema()"
   ]
  },
  {
   "cell_type": "code",
   "execution_count": 4,
   "metadata": {},
   "outputs": [],
   "source": [
    "dim_customer.write.format('csv')\\\n",
    "    .option('header', 'true')\\\n",
    "    .mode('overwrite')\\\n",
    "    .option('path', './test_temp')\\\n",
    "    .save()"
   ]
  },
  {
   "cell_type": "code",
   "execution_count": 6,
   "metadata": {},
   "outputs": [
    {
     "name": "stdout",
     "output_type": "stream",
     "text": [
      "+-----------+----------+-------------+--------------------+-------+------------+---------------------+\n",
      "|customer_id|first_name|    last_name|             address|pincode|phone_number|customer_joining_date|\n",
      "+-----------+----------+-------------+--------------------+-------+------------+---------------------+\n",
      "|       4986|   Balveer|    Choudhury|31/30, Devan Naga...| 799736|           0|           2021-04-20|\n",
      "|       6642|    Kalpit|        Divan|15, Zacharia Naga...| 919980|           0|           2022-05-14|\n",
      "|       7763|   Dominic|Radhakrishnan|834, Rajagopal Ro...| 801199|           0|           2022-02-28|\n",
      "|       2420|    Raghav|    Ramaswamy|H.No. 24, Memon P...| 265985|           0|           2022-01-21|\n",
      "|       8576|     Zinal| Venkataraman|832, Majumdar Roa...| 286732|           0|           2022-07-20|\n",
      "|       1637|     Anita|       Barman|H.No. 88, Upadhya...| 493235|    29562838|           2020-05-18|\n",
      "|       2482|    Rushil|        Datta|H.No. 84, Gera, B...| 569429|           0|           2021-09-03|\n",
      "|       9456|     Zarna|        Ratti|13, Balan Street,...| 357773|           0|           2020-11-20|\n",
      "|       8164|    Aachal|          Rau|H.No. 52, Nanda C...| 518831|           0|           2022-04-21|\n",
      "|       7038|       Oni|        Reddy|175, Bhargava Gan...| 885357|           0|           2021-01-01|\n",
      "|       4045|    Aadhya|          Jha|H.No. 854, Gulati...| 177232|           0|           2021-10-12|\n",
      "|       6317|      Riya|        Bassi|23/159, Parmar Zi...| 469379|           0|           2021-05-17|\n",
      "|       7841|   Jagdish|         Shan|76/97, Samra Road...| 476980|           0|           2022-07-29|\n",
      "|       7350|    Gautam|        Palla|H.No. 31, Kashyap...| 172013|           0|           2021-12-04|\n",
      "|       1489|     Faris|        Nigam|404, Biswas Road,...| 682816|           0|           2021-01-01|\n",
      "|       3346|    Indali|        Naidu|54/055, Apte Stre...| 874973|           0|           2020-08-26|\n",
      "|       8341|     Jatin|         Dhar|28/678, Luthra Ch...| 138699|           0|           2020-01-01|\n",
      "|       5253|   Jagdish|        Sodhi|H.No. 57, Sarma C...| 960770|           0|           2020-04-20|\n",
      "+-----------+----------+-------------+--------------------+-------+------------+---------------------+\n",
      "\n"
     ]
    }
   ],
   "source": [
    "dim_customer.show()"
   ]
  },
  {
   "cell_type": "code",
   "execution_count": null,
   "metadata": {},
   "outputs": [],
   "source": []
  }
 ],
 "metadata": {
  "kernelspec": {
   "display_name": "venv",
   "language": "python",
   "name": "python3"
  },
  "language_info": {
   "codemirror_mode": {
    "name": "ipython",
    "version": 3
   },
   "file_extension": ".py",
   "mimetype": "text/x-python",
   "name": "python",
   "nbconvert_exporter": "python",
   "pygments_lexer": "ipython3",
   "version": "3.8.0"
  }
 },
 "nbformat": 4,
 "nbformat_minor": 2
}
