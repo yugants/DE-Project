{
 "cells": [
  {
   "cell_type": "code",
   "execution_count": 1,
   "metadata": {},
   "outputs": [],
   "source": [
    "from pyspark.sql import SparkSession\n",
    "from Data_Reader.reader import Reader\n",
    "\n",
    "\n",
    "spark = SparkSession.builder\\\n",
    "            .appName('bronze_layer')\\\n",
    "            .config(\"spark.driver.extraClassPath\", \"./mysql-connector-java-8.0.26.jar\")\\\n",
    "            .getOrCreate()"
   ]
  },
  {
   "cell_type": "code",
   "execution_count": 2,
   "metadata": {},
   "outputs": [
    {
     "name": "stdout",
     "output_type": "stream",
     "text": [
      "+-----------+--------+-------------+----------+---------------+-----+--------+----------+--------------------+----------+------------+--------------------+-------+------------+---------------------+-----------+--------------------+------------------+---+----------+----------+------------+-----------------------+----------------------+--------------------+--------------------+\n",
      "|customer_id|store_id| product_name|sales_date|sales_person_id|price|quantity|total_cost|   additional_column|first_name|   last_name|             address|pincode|phone_number|customer_joining_date|expiry_date|       store_address|store_manager_name| id|manager_id|is_manager|joining_date|sales_person_first_name|sales_person_last_name|sales_person_address|sales_person_pincode|\n",
      "+-----------+--------+-------------+----------+---------------+-----+--------+----------+--------------------+----------+------------+--------------------+-------+------------+---------------------+-----------+--------------------+------------------+---+----------+----------+------------+-----------------------+----------------------+--------------------+--------------------+\n",
      "|       1637|     100|      Shampoo|2020-10-24|             19|  413|      11|      4543|  Reveal ask suffer.|     Anita|      Barman|H.No. 88, Upadhya...| 493235|    29562838|           2020-05-18| 2025-08-20|30, Saraf Circle,...|      Arjun Pathak| 19|       8.0|         N|  2021-07-09|                 Nitara|             Kuruvilla|96, Padmanabhan Z...|              729506|\n",
      "|       6317|      16|     Biscuits|2022-01-01|              9|  253|      17|      4301| Something whatever.|      Riya|       Bassi|23/159, Parmar Zi...| 469379|           0|           2021-05-17| 2024-12-04|080, Prashad Ganj...|      Chameli Nagi|  9|      null|         Y|  2021-09-04|                 Jairaj|             Zachariah|H.No. 34, Oommen ...|              304699|\n",
      "|       2420|      16|   Toothpaste|2021-10-07|             12|  224|      16|      3584| Painting more care.|    Raghav|   Ramaswamy|H.No. 24, Memon P...| 265985|           0|           2022-01-21| 2024-10-28|080, Prashad Ganj...|      Chameli Nagi| 12|       6.0|         N|  2018-01-12|                 Mugdha|                 Kohli|64/132, Andra Zil...|              909474|\n",
      "|       7350|      22|Vegetable Oil|2020-01-04|              4|  460|       7|      3220|        TV remember.|    Gautam|       Palla|H.No. 31, Kashyap...| 172013|           0|           2021-12-04| 2025-05-01|98/834, Bora Ganj...|    Anamika Karnik|  4|       1.0|         N|  2021-01-05|                 Vritti|                 Golla|60, Varghese Circ...|              297838|\n",
      "|       7350|      22|Vegetable Oil|2020-01-04|              4|  460|       7|      3220|        TV remember.|    Gautam|       Palla|H.No. 31, Kashyap...| 172013|           0|           2021-12-04| 2024-10-02|98/834, Bora Ganj...|    Anamika Karnik|  4|       1.0|         N|  2021-01-05|                 Vritti|                 Golla|60, Varghese Circ...|              297838|\n",
      "|       7350|      22|Vegetable Oil|2020-01-04|              4|  460|       7|      3220|        TV remember.|    Gautam|       Palla|H.No. 31, Kashyap...| 172013|           0|           2021-12-04| 2025-07-22|98/834, Bora Ganj...|    Anamika Karnik|  4|       1.0|         N|  2021-01-05|                 Vritti|                 Golla|60, Varghese Circ...|              297838|\n",
      "|       2420|      93|       Coffee|2021-02-07|             15|   61|      14|       854|Remain follow since.|    Raghav|   Ramaswamy|H.No. 24, Memon P...| 265985|           0|           2022-01-21| 2024-11-26|879, Iyer Street,...|       Ayaan Baral| 15|      11.0|         N|  2022-08-06|                 Darpan|                Bhalla|94, Goda Ganj, Ti...|              499350|\n",
      "|       2482|       4|Vegetable Oil|2023-02-26|              8|  460|       6|      2760|     Although model.|    Rushil|       Datta|H.No. 84, Gera, B...| 569429|           0|           2021-09-03| 2025-05-01|85/880, Kapadia P...|        Jatin Vasa|  8|      null|         Y|  2023-06-04|              Bachittar|                  Shah|H.No. 070, Khosla...|              426053|\n",
      "|       2482|       4|Vegetable Oil|2023-02-26|              8|  460|       6|      2760|     Although model.|    Rushil|       Datta|H.No. 84, Gera, B...| 569429|           0|           2021-09-03| 2024-10-02|85/880, Kapadia P...|        Jatin Vasa|  8|      null|         Y|  2023-06-04|              Bachittar|                  Shah|H.No. 070, Khosla...|              426053|\n",
      "|       2482|       4|Vegetable Oil|2023-02-26|              8|  460|       6|      2760|     Although model.|    Rushil|       Datta|H.No. 84, Gera, B...| 569429|           0|           2021-09-03| 2025-07-22|85/880, Kapadia P...|        Jatin Vasa|  8|      null|         Y|  2023-06-04|              Bachittar|                  Shah|H.No. 070, Khosla...|              426053|\n",
      "|       8576|      72|Vegetable Oil|2023-05-12|              4|  460|      12|      5520|    Happen whatever.|     Zinal|Venkataraman|832, Majumdar Roa...| 286732|           0|           2022-07-20| 2025-05-01|16, Subramanian, ...|       Shravya Dua|  4|       1.0|         N|  2021-01-05|                 Vritti|                 Golla|60, Varghese Circ...|              297838|\n",
      "|       8576|      72|Vegetable Oil|2023-05-12|              4|  460|      12|      5520|    Happen whatever.|     Zinal|Venkataraman|832, Majumdar Roa...| 286732|           0|           2022-07-20| 2024-10-02|16, Subramanian, ...|       Shravya Dua|  4|       1.0|         N|  2021-01-05|                 Vritti|                 Golla|60, Varghese Circ...|              297838|\n",
      "|       8576|      72|Vegetable Oil|2023-05-12|              4|  460|      12|      5520|    Happen whatever.|     Zinal|Venkataraman|832, Majumdar Roa...| 286732|           0|           2022-07-20| 2025-07-22|16, Subramanian, ...|       Shravya Dua|  4|       1.0|         N|  2021-01-05|                 Vritti|                 Golla|60, Varghese Circ...|              297838|\n",
      "|       2420|      93|     Biscuits|2022-02-06|              4|  253|       8|      2024|    Over successful.|    Raghav|   Ramaswamy|H.No. 24, Memon P...| 265985|           0|           2022-01-21| 2024-12-04|879, Iyer Street,...|       Ayaan Baral|  4|       1.0|         N|  2021-01-05|                 Vritti|                 Golla|60, Varghese Circ...|              297838|\n",
      "|       8576|      16|  Wheat Flour|2022-06-24|              2|  422|       4|      1688|  Key lose race tax.|     Zinal|Venkataraman|832, Majumdar Roa...| 286732|           0|           2022-07-20| 2024-10-09|080, Prashad Ganj...|      Chameli Nagi|  2|       9.0|         N|  2017-11-06|               Gayathri|             Choudhary|85/31, Raman Circ...|              821832|\n",
      "|       4986|      96|       Butter|2020-06-07|              5|  281|      12|      3372|Be improve base her.|   Balveer|   Choudhury|31/30, Devan Naga...| 799736|           0|           2021-04-20| 2025-05-13|28/337, Sridhar M...|     Advika Taneja|  5|      19.0|         N|  2017-12-12|                  Ekbal|                  Dutt|83/37, Mody, Belg...|              651738|\n",
      "|       1637|       1|      Shampoo|2023-05-12|             19|  413|      11|      4543|     Gun owner wear.|     Anita|      Barman|H.No. 88, Upadhya...| 493235|    29562838|           2020-05-18| 2025-08-20|H.No. 78, Gara Ch...|    Chandani Kohli| 19|       8.0|         N|  2021-07-09|                 Nitara|             Kuruvilla|96, Padmanabhan Z...|              729506|\n",
      "|       1489|      16|         Rice|2021-06-14|             10|  326|      19|      6194|         Right here.|     Faris|       Nigam|404, Biswas Road,...| 682816|           0|           2021-01-01| 2025-08-02|080, Prashad Ganj...|      Chameli Nagi| 10|      11.0|         N|  2018-07-30|                  Anita|               Gokhale|00/70, Dash Path,...|              608274|\n",
      "|       1489|      16|         Rice|2021-06-14|             10|  326|      19|      6194|         Right here.|     Faris|       Nigam|404, Biswas Road,...| 682816|           0|           2021-01-01| 2025-07-25|080, Prashad Ganj...|      Chameli Nagi| 10|      11.0|         N|  2018-07-30|                  Anita|               Gokhale|00/70, Dash Path,...|              608274|\n",
      "|       2482|      43|Vegetable Oil|2022-02-27|              9|  460|       2|       920| Over foot response.|    Rushil|       Datta|H.No. 84, Gera, B...| 569429|           0|           2021-09-03| 2025-05-01|35/482, Bhargava ...|      Vedhika Rama|  9|      null|         Y|  2021-09-04|                 Jairaj|             Zachariah|H.No. 34, Oommen ...|              304699|\n",
      "+-----------+--------+-------------+----------+---------------+-----+--------+----------+--------------------+----------+------------+--------------------+-------+------------+---------------------+-----------+--------------------+------------------+---+----------+----------+------------+-----------------------+----------------------+--------------------+--------------------+\n",
      "only showing top 20 rows\n",
      "\n",
      "+-----------+--------+-------------+----------+---------------+-----+--------+----------+--------------------+----------+------------+--------------------+-------+------------+---------------------+-----------+--------------------+------------------+---+----------+----------+------------+-----------------------+----------------------+--------------------+--------------------+\n",
      "|customer_id|store_id| product_name|sales_date|sales_person_id|price|quantity|total_cost|   additional_column|first_name|   last_name|             address|pincode|phone_number|customer_joining_date|expiry_date|       store_address|store_manager_name| id|manager_id|is_manager|joining_date|sales_person_first_name|sales_person_last_name|sales_person_address|sales_person_pincode|\n",
      "+-----------+--------+-------------+----------+---------------+-----+--------+----------+--------------------+----------+------------+--------------------+-------+------------+---------------------+-----------+--------------------+------------------+---+----------+----------+------------+-----------------------+----------------------+--------------------+--------------------+\n",
      "|       1637|     100|      Shampoo|2020-10-24|             19|  413|      11|      4543|  Reveal ask suffer.|     Anita|      Barman|H.No. 88, Upadhya...| 493235|    29562838|           2020-05-18| 2025-08-20|30, Saraf Circle,...|      Arjun Pathak| 19|       8.0|         N|  2021-07-09|                 Nitara|             Kuruvilla|96, Padmanabhan Z...|              729506|\n",
      "|       6317|      16|     Biscuits|2022-01-01|              9|  253|      17|      4301| Something whatever.|      Riya|       Bassi|23/159, Parmar Zi...| 469379|           0|           2021-05-17| 2024-12-04|080, Prashad Ganj...|      Chameli Nagi|  9|      null|         Y|  2021-09-04|                 Jairaj|             Zachariah|H.No. 34, Oommen ...|              304699|\n",
      "|       2420|      16|   Toothpaste|2021-10-07|             12|  224|      16|      3584| Painting more care.|    Raghav|   Ramaswamy|H.No. 24, Memon P...| 265985|           0|           2022-01-21| 2024-10-28|080, Prashad Ganj...|      Chameli Nagi| 12|       6.0|         N|  2018-01-12|                 Mugdha|                 Kohli|64/132, Andra Zil...|              909474|\n",
      "|       7350|      22|Vegetable Oil|2020-01-04|              4|  460|       7|      3220|        TV remember.|    Gautam|       Palla|H.No. 31, Kashyap...| 172013|           0|           2021-12-04| 2025-05-01|98/834, Bora Ganj...|    Anamika Karnik|  4|       1.0|         N|  2021-01-05|                 Vritti|                 Golla|60, Varghese Circ...|              297838|\n",
      "|       7350|      22|Vegetable Oil|2020-01-04|              4|  460|       7|      3220|        TV remember.|    Gautam|       Palla|H.No. 31, Kashyap...| 172013|           0|           2021-12-04| 2024-10-02|98/834, Bora Ganj...|    Anamika Karnik|  4|       1.0|         N|  2021-01-05|                 Vritti|                 Golla|60, Varghese Circ...|              297838|\n",
      "|       7350|      22|Vegetable Oil|2020-01-04|              4|  460|       7|      3220|        TV remember.|    Gautam|       Palla|H.No. 31, Kashyap...| 172013|           0|           2021-12-04| 2025-07-22|98/834, Bora Ganj...|    Anamika Karnik|  4|       1.0|         N|  2021-01-05|                 Vritti|                 Golla|60, Varghese Circ...|              297838|\n",
      "|       2420|      93|       Coffee|2021-02-07|             15|   61|      14|       854|Remain follow since.|    Raghav|   Ramaswamy|H.No. 24, Memon P...| 265985|           0|           2022-01-21| 2024-11-26|879, Iyer Street,...|       Ayaan Baral| 15|      11.0|         N|  2022-08-06|                 Darpan|                Bhalla|94, Goda Ganj, Ti...|              499350|\n",
      "|       2482|       4|Vegetable Oil|2023-02-26|              8|  460|       6|      2760|     Although model.|    Rushil|       Datta|H.No. 84, Gera, B...| 569429|           0|           2021-09-03| 2025-05-01|85/880, Kapadia P...|        Jatin Vasa|  8|      null|         Y|  2023-06-04|              Bachittar|                  Shah|H.No. 070, Khosla...|              426053|\n",
      "|       2482|       4|Vegetable Oil|2023-02-26|              8|  460|       6|      2760|     Although model.|    Rushil|       Datta|H.No. 84, Gera, B...| 569429|           0|           2021-09-03| 2024-10-02|85/880, Kapadia P...|        Jatin Vasa|  8|      null|         Y|  2023-06-04|              Bachittar|                  Shah|H.No. 070, Khosla...|              426053|\n",
      "|       2482|       4|Vegetable Oil|2023-02-26|              8|  460|       6|      2760|     Although model.|    Rushil|       Datta|H.No. 84, Gera, B...| 569429|           0|           2021-09-03| 2025-07-22|85/880, Kapadia P...|        Jatin Vasa|  8|      null|         Y|  2023-06-04|              Bachittar|                  Shah|H.No. 070, Khosla...|              426053|\n",
      "|       8576|      72|Vegetable Oil|2023-05-12|              4|  460|      12|      5520|    Happen whatever.|     Zinal|Venkataraman|832, Majumdar Roa...| 286732|           0|           2022-07-20| 2025-05-01|16, Subramanian, ...|       Shravya Dua|  4|       1.0|         N|  2021-01-05|                 Vritti|                 Golla|60, Varghese Circ...|              297838|\n",
      "|       8576|      72|Vegetable Oil|2023-05-12|              4|  460|      12|      5520|    Happen whatever.|     Zinal|Venkataraman|832, Majumdar Roa...| 286732|           0|           2022-07-20| 2024-10-02|16, Subramanian, ...|       Shravya Dua|  4|       1.0|         N|  2021-01-05|                 Vritti|                 Golla|60, Varghese Circ...|              297838|\n",
      "|       8576|      72|Vegetable Oil|2023-05-12|              4|  460|      12|      5520|    Happen whatever.|     Zinal|Venkataraman|832, Majumdar Roa...| 286732|           0|           2022-07-20| 2025-07-22|16, Subramanian, ...|       Shravya Dua|  4|       1.0|         N|  2021-01-05|                 Vritti|                 Golla|60, Varghese Circ...|              297838|\n",
      "|       2420|      93|     Biscuits|2022-02-06|              4|  253|       8|      2024|    Over successful.|    Raghav|   Ramaswamy|H.No. 24, Memon P...| 265985|           0|           2022-01-21| 2024-12-04|879, Iyer Street,...|       Ayaan Baral|  4|       1.0|         N|  2021-01-05|                 Vritti|                 Golla|60, Varghese Circ...|              297838|\n",
      "|       8576|      16|  Wheat Flour|2022-06-24|              2|  422|       4|      1688|  Key lose race tax.|     Zinal|Venkataraman|832, Majumdar Roa...| 286732|           0|           2022-07-20| 2024-10-09|080, Prashad Ganj...|      Chameli Nagi|  2|       9.0|         N|  2017-11-06|               Gayathri|             Choudhary|85/31, Raman Circ...|              821832|\n",
      "|       4986|      96|       Butter|2020-06-07|              5|  281|      12|      3372|Be improve base her.|   Balveer|   Choudhury|31/30, Devan Naga...| 799736|           0|           2021-04-20| 2025-05-13|28/337, Sridhar M...|     Advika Taneja|  5|      19.0|         N|  2017-12-12|                  Ekbal|                  Dutt|83/37, Mody, Belg...|              651738|\n",
      "|       1637|       1|      Shampoo|2023-05-12|             19|  413|      11|      4543|     Gun owner wear.|     Anita|      Barman|H.No. 88, Upadhya...| 493235|    29562838|           2020-05-18| 2025-08-20|H.No. 78, Gara Ch...|    Chandani Kohli| 19|       8.0|         N|  2021-07-09|                 Nitara|             Kuruvilla|96, Padmanabhan Z...|              729506|\n",
      "|       1489|      16|         Rice|2021-06-14|             10|  326|      19|      6194|         Right here.|     Faris|       Nigam|404, Biswas Road,...| 682816|           0|           2021-01-01| 2025-08-02|080, Prashad Ganj...|      Chameli Nagi| 10|      11.0|         N|  2018-07-30|                  Anita|               Gokhale|00/70, Dash Path,...|              608274|\n",
      "|       1489|      16|         Rice|2021-06-14|             10|  326|      19|      6194|         Right here.|     Faris|       Nigam|404, Biswas Road,...| 682816|           0|           2021-01-01| 2025-07-25|080, Prashad Ganj...|      Chameli Nagi| 10|      11.0|         N|  2018-07-30|                  Anita|               Gokhale|00/70, Dash Path,...|              608274|\n",
      "|       2482|      43|Vegetable Oil|2022-02-27|              9|  460|       2|       920| Over foot response.|    Rushil|       Datta|H.No. 84, Gera, B...| 569429|           0|           2021-09-03| 2025-05-01|35/482, Bhargava ...|      Vedhika Rama|  9|      null|         Y|  2021-09-04|                 Jairaj|             Zachariah|H.No. 34, Oommen ...|              304699|\n",
      "+-----------+--------+-------------+----------+---------------+-----+--------+----------+--------------------+----------+------------+--------------------+-------+------------+---------------------+-----------+--------------------+------------------+---+----------+----------+------------+-----------------------+----------------------+--------------------+--------------------+\n",
      "only showing top 20 rows\n",
      "\n"
     ]
    }
   ],
   "source": [
    "import logging\n",
    "\n",
    "# clean_path = '''C:\\\\Users\\\\yugant.shekhar\\\\OneDrive - Blue Altair\\\\Desktop\\\\Douments\\\\Spark\\\\Retail Project\\\\Data\\\\actual_data\\\\cleaned'''\n",
    "logger = logging.getLogger(__name__)\n",
    "\n",
    "read = Reader(spark, logger)\n",
    "dim_customer = read.reader('csv', 'C:\\\\Users\\\\yugant.shekhar\\\\OneDrive - Blue Altair\\\\Desktop\\\\Douments\\\\Spark\\\\Retail Project\\\\Data\\\\actual_data\\\\mart')\n",
    "\n",
    "dim_customer.show()"
   ]
  },
  {
   "cell_type": "code",
   "execution_count": 3,
   "metadata": {},
   "outputs": [
    {
     "name": "stdout",
     "output_type": "stream",
     "text": [
      "root\n",
      " |-- customer_id: integer (nullable = true)\n",
      " |-- first_name: string (nullable = true)\n",
      " |-- last_name: string (nullable = true)\n",
      " |-- address: string (nullable = true)\n",
      " |-- pincode: integer (nullable = true)\n",
      " |-- phone_number: integer (nullable = true)\n",
      " |-- customer_joining_date: date (nullable = true)\n",
      "\n"
     ]
    }
   ],
   "source": [
    "dim_customer.printSchema()"
   ]
  },
  {
   "cell_type": "code",
   "execution_count": 4,
   "metadata": {},
   "outputs": [],
   "source": [
    "dim_customer.write.format('csv')\\\n",
    "    .option('header', 'true')\\\n",
    "    .mode('overwrite')\\\n",
    "    .option('path', './test_temp')\\\n",
    "    .save()"
   ]
  },
  {
   "cell_type": "code",
   "execution_count": 6,
   "metadata": {},
   "outputs": [
    {
     "name": "stdout",
     "output_type": "stream",
     "text": [
      "+-----------+----------+-------------+--------------------+-------+------------+---------------------+\n",
      "|customer_id|first_name|    last_name|             address|pincode|phone_number|customer_joining_date|\n",
      "+-----------+----------+-------------+--------------------+-------+------------+---------------------+\n",
      "|       4986|   Balveer|    Choudhury|31/30, Devan Naga...| 799736|           0|           2021-04-20|\n",
      "|       6642|    Kalpit|        Divan|15, Zacharia Naga...| 919980|           0|           2022-05-14|\n",
      "|       7763|   Dominic|Radhakrishnan|834, Rajagopal Ro...| 801199|           0|           2022-02-28|\n",
      "|       2420|    Raghav|    Ramaswamy|H.No. 24, Memon P...| 265985|           0|           2022-01-21|\n",
      "|       8576|     Zinal| Venkataraman|832, Majumdar Roa...| 286732|           0|           2022-07-20|\n",
      "|       1637|     Anita|       Barman|H.No. 88, Upadhya...| 493235|    29562838|           2020-05-18|\n",
      "|       2482|    Rushil|        Datta|H.No. 84, Gera, B...| 569429|           0|           2021-09-03|\n",
      "|       9456|     Zarna|        Ratti|13, Balan Street,...| 357773|           0|           2020-11-20|\n",
      "|       8164|    Aachal|          Rau|H.No. 52, Nanda C...| 518831|           0|           2022-04-21|\n",
      "|       7038|       Oni|        Reddy|175, Bhargava Gan...| 885357|           0|           2021-01-01|\n",
      "|       4045|    Aadhya|          Jha|H.No. 854, Gulati...| 177232|           0|           2021-10-12|\n",
      "|       6317|      Riya|        Bassi|23/159, Parmar Zi...| 469379|           0|           2021-05-17|\n",
      "|       7841|   Jagdish|         Shan|76/97, Samra Road...| 476980|           0|           2022-07-29|\n",
      "|       7350|    Gautam|        Palla|H.No. 31, Kashyap...| 172013|           0|           2021-12-04|\n",
      "|       1489|     Faris|        Nigam|404, Biswas Road,...| 682816|           0|           2021-01-01|\n",
      "|       3346|    Indali|        Naidu|54/055, Apte Stre...| 874973|           0|           2020-08-26|\n",
      "|       8341|     Jatin|         Dhar|28/678, Luthra Ch...| 138699|           0|           2020-01-01|\n",
      "|       5253|   Jagdish|        Sodhi|H.No. 57, Sarma C...| 960770|           0|           2020-04-20|\n",
      "+-----------+----------+-------------+--------------------+-------+------------+---------------------+\n",
      "\n"
     ]
    }
   ],
   "source": [
    "dim_customer.show()"
   ]
  },
  {
   "cell_type": "code",
   "execution_count": null,
   "metadata": {},
   "outputs": [],
   "source": []
  }
 ],
 "metadata": {
  "kernelspec": {
   "display_name": "venv",
   "language": "python",
   "name": "python3"
  },
  "language_info": {
   "codemirror_mode": {
    "name": "ipython",
    "version": 3
   },
   "file_extension": ".py",
   "mimetype": "text/x-python",
   "name": "python",
   "nbconvert_exporter": "python",
   "pygments_lexer": "ipython3",
   "version": "3.8.0"
  }
 },
 "nbformat": 4,
 "nbformat_minor": 2
}
