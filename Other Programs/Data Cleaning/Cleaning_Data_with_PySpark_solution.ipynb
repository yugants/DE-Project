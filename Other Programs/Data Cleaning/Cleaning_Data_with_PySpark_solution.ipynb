{
  "nbformat": 4,
  "nbformat_minor": 0,
  "metadata": {
    "colab": {
      "name": "Cleaning Data with PySpark_solution.ipynb",
      "provenance": []
    },
    "kernelspec": {
      "display_name": "Python 3",
      "language": "python",
      "name": "python3"
    },
    "language_info": {
      "codemirror_mode": {
        "name": "ipython",
        "version": 3
      },
      "file_extension": ".py",
      "mimetype": "text/x-python",
      "name": "python",
      "nbconvert_exporter": "python",
      "pygments_lexer": "ipython3",
      "version": "3.7.1"
    }
  },
  "cells": [
    {
      "cell_type": "markdown",
      "metadata": {
        "colab_type": "text",
        "id": "6Ijg5wUCTQYG"
      },
      "source": [
        "<p align=\"center\">\n",
        "<img src=\"https://github.com/datacamp/python-live-training-template/blob/master/assets/datacamp.svg?raw=True\" alt = \"DataCamp icon\" width=\"50%\">\n",
        "</p>\n",
        "<br><br>\n",
        "\n",
        "## **Cleaning Data with Pyspark**\n",
        "\n",
        "Welcome to this hands-on training where we will investigate cleaning a dataset using Python and Apache Spark! During this training, we will cover:\n",
        "\n",
        "* Efficiently loading data into a Spark DataFrame\n",
        "* Handling errant rows / columns from the dataset, including comments, missing data, combined or misinterpreted columns, etc.\n",
        "* Using Python UDFs to run advanced transformations on data\n",
        "\n",
        "\n",
        "## **The Dataset**\n",
        "\n",
        "The dataset used in this webinar is a set of CSV files named `netflix_titles_raw*.csv`. These contain information related to the movies and television shows available on Netflix. These are the *dirty* versions of the dataset - we will cover the individual problems as we work through the notebook.\n",
        "\n",
        "Given that this is a data cleaning webinar, let's look at our intended result.  The dataset will contain the follwing information:\n",
        "\n",
        "- `show_id`: A unique integer identifier for the show\n",
        "- `type`: The type of content, `Movie` or `TV Show`\n",
        "- `title`: The title of the content\n",
        "- `director`: The director (or directors)\n",
        "- `cast`: The cast\n",
        "- `country`: Country (or countries) where the content is available\n",
        "- `date_added`: Date added to Netflix\n",
        "- `release_year`: Year of content release\n",
        "- `rating`: Content rating\n",
        "- `duration`: The duration\n",
        "- `listed_in`: The genres the content is listed in\n",
        "- `description`: A description of the content\n",
        "\n"
      ]
    },
    {
      "cell_type": "markdown",
      "metadata": {
        "id": "KLi6HZeKbiG4",
        "colab_type": "text"
      },
      "source": [
        "## **Setting up a PySpark session**\n",
        "\n",
        "Before we can start processing our data, we need to configure a Pyspark session for Google Colab. Note that this is specific for using Spark and Python in Colab and likely is not required for other environments. "
      ]
    },
    {
      "cell_type": "code",
      "metadata": {
        "id": "O86xE8hXbiG5",
        "colab_type": "code",
        "colab": {}
      },
      "source": [
        "# Run this code as is to install Spark in Colab\n",
        "!apt-get install openjdk-8-jdk-headless -qq > /dev/null\n",
        "!wget -q https://downloads.apache.org/spark/spark-2.4.5/spark-2.4.5-bin-hadoop2.7.tgz\n",
        "!tar xf spark-2.4.5-bin-hadoop2.7.tgz\n",
        "!pip install -q findspark"
      ],
      "execution_count": 0,
      "outputs": []
    },
    {
      "cell_type": "code",
      "metadata": {
        "id": "ZMaqiRkBbiG7",
        "colab_type": "code",
        "colab": {}
      },
      "source": [
        "# Run this code to setup the environment\n",
        "import os\n",
        "os.environ[\"JAVA_HOME\"] = \"/usr/lib/jvm/java-8-openjdk-amd64\"\n",
        "os.environ[\"SPARK_HOME\"] = \"/content/spark-2.4.5-bin-hadoop2.7\""
      ],
      "execution_count": 0,
      "outputs": []
    },
    {
      "cell_type": "code",
      "metadata": {
        "id": "qKvFmTnQbiG9",
        "colab_type": "code",
        "colab": {}
      },
      "source": [
        "# Finally, setup our Spark session\n",
        "import findspark\n",
        "findspark.init()\n",
        "from pyspark.sql import SparkSession\n",
        "spark = SparkSession.builder.master(\"local[*]\").getOrCreate()"
      ],
      "execution_count": 0,
      "outputs": []
    },
    {
      "cell_type": "markdown",
      "metadata": {
        "colab_type": "text",
        "id": "BMYfcKeDY85K"
      },
      "source": [
        "## **Getting started**\n",
        "\n",
        "Before doing anything else, lets copy our data files locally. We'll be using `wget`, `ls`, `gunzip`, and `head`, which are normally shell commands. In the notebook environment, we can run any given shell command using the precursor `!`. The purpose of our shell commands are as follows:\n",
        "\n",
        "- `wget` - Is an HTTP client that will download our data files and save them locally in our notebook environment.\n",
        "- `ls` - Used to list the files in a directory.\n",
        "- `gunzip` - Our data files are compressed using the `gzip` compression format. `gunzip` allows us to decompress those files.\n",
        "- `head` - Much like the `.head()` command in Pandas, the shell command `head` defaults to printing out the first 10 lines of a file. You can specify more or fewer lines if desired. \n",
        "\n",
        "This is an example of some of these commands being executed in a traditional shell environment:\n",
        "\n",
        "![Shell Commands](https://github.com/datacamp/data-cleaning-with-pyspark-live-training/raw/master/assets/SparkLiveTraining-shellcommands.png)\n",
        "\n",
        "Let's run the follwing cell to pull the *dirty* files locally. We'll be writing the files to the `/tmp` directory in the notebook environment."
      ]
    },
    {
      "cell_type": "code",
      "metadata": {
        "colab_type": "code",
        "id": "IAfz_jiu0NjN",
        "colab": {}
      },
      "source": [
        "# Copy our dataset locally\n",
        "\n",
        "!wget -O /tmp/netflix_titles_dirty_01.csv.gz 'https://github.com/datacamp/data-cleaning-with-pyspark-live-training/blob/master/data/netflix_titles_dirty_01.csv.gz?raw=True'\n",
        "!wget -O /tmp/netflix_titles_dirty_02.csv.gz 'https://github.com/datacamp/data-cleaning-with-pyspark-live-training/blob/master/data/netflix_titles_dirty_02.csv.gz?raw=True'\n",
        "!wget -O /tmp/netflix_titles_dirty_03.csv.gz 'https://github.com/datacamp/data-cleaning-with-pyspark-live-training/blob/master/data/netflix_titles_dirty_03.csv.gz?raw=True'\n",
        "!wget -O /tmp/netflix_titles_dirty_04.csv.gz 'https://github.com/datacamp/data-cleaning-with-pyspark-live-training/blob/master/data/netflix_titles_dirty_04.csv.gz?raw=True'\n",
        "!wget -O /tmp/netflix_titles_dirty_05.csv.gz 'https://github.com/datacamp/data-cleaning-with-pyspark-live-training/blob/master/data/netflix_titles_dirty_05.csv.gz?raw=True'\n",
        "!wget -O /tmp/netflix_titles_dirty_06.csv.gz 'https://github.com/datacamp/data-cleaning-with-pyspark-live-training/blob/master/data/netflix_titles_dirty_06.csv.gz?raw=True'\n",
        "!wget -O /tmp/netflix_titles_dirty_07.csv.gz 'https://github.com/datacamp/data-cleaning-with-pyspark-live-training/blob/master/data/netflix_titles_dirty_07.csv.gz?raw=True'\n",
        "\n"
      ],
      "execution_count": 0,
      "outputs": []
    },
    {
      "cell_type": "markdown",
      "metadata": {
        "id": "Wo5BjsTS3nmy",
        "colab_type": "text"
      },
      "source": [
        "**Now, let's verify that we have all 7 files we expect**\n",
        "\n",
        "Let's use the `ls` command to list files in the `/tmp` directory. Note that the `*` here is a wildcard, meaning match anything. Specifically, we're looking for `netflix_titles*`, which is match any file or directory that starts with `netflix_titles`."
      ]
    },
    {
      "cell_type": "code",
      "metadata": {
        "id": "8QjJ77UpeS1N",
        "colab_type": "code",
        "outputId": "825f9031-77c1-405c-c5c3-a7b2b0862bcb",
        "colab": {
          "base_uri": "https://localhost:8080/",
          "height": 85
        }
      },
      "source": [
        "!ls /tmp/netflix_titles*"
      ],
      "execution_count": 0,
      "outputs": [
        {
          "output_type": "stream",
          "text": [
            "/tmp/netflix_titles_dirty_01.csv.gz  /tmp/netflix_titles_dirty_05.csv.gz\n",
            "/tmp/netflix_titles_dirty_02.csv.gz  /tmp/netflix_titles_dirty_06.csv.gz\n",
            "/tmp/netflix_titles_dirty_03.csv.gz  /tmp/netflix_titles_dirty_07.csv.gz\n",
            "/tmp/netflix_titles_dirty_04.csv.gz\n"
          ],
          "name": "stdout"
        }
      ]
    },
    {
      "cell_type": "markdown",
      "metadata": {
        "id": "5NLnNIcR3z3G",
        "colab_type": "text"
      },
      "source": [
        "**And then, we'll take a look at the first 20 rows of one of the files**\n",
        "\n",
        "As mentioned earlier, `gunzip` is a decompression tool. The `-c` means to print out the result rather than write it to a file. The `|`, or pipe symbol, is used to pass the output of one command as the input to another command. In this case, we're using `head -20` to print the first 20 lines of the decompressed data.\n",
        "\n",
        "Make sure to take a look at the contents of the data and notice that the separator used in this file is a tab character rather than a more traditional comma. "
      ]
    },
    {
      "cell_type": "code",
      "metadata": {
        "id": "45574aapb4eX",
        "colab_type": "code",
        "outputId": "0de0d88f-3d6c-4f73-8837-6ac594034406",
        "colab": {
          "base_uri": "https://localhost:8080/",
          "height": 377
        }
      },
      "source": [
        "!gunzip -c /tmp/netflix_titles_dirty_03.csv.gz | head -20"
      ],
      "execution_count": 0,
      "outputs": [
        {
          "output_type": "stream",
          "text": [
            "80142103\tMovie\tBottom of the World\tRichard Sears\tJena Malone, Douglas Smith, Ted Levine, Tamara Duarte, Kelly Pendygraft, Mark Sivertsen, Jon McLaren\tCanada, United States\tMarch 31, 2017\t2017\tTV-MA\t84 min\tDramas, Independent Movies, Thrillers\tEn route to a fresh start in Los Angeles, young couple Alex and Scarlett stop over in a sleepy Southwestern town that loosens their grip on reality.\n",
            "80179907\tMovie\tBridget Christie: Stand Up for Her\t\tBridget Christie\tUnited Kingdom\tMarch 31, 2017\t2016\tTV-MA\t51 min\tStand-Up Comedy\tPerforming stand-up for a packed house in London's Hoxton Hall, comedian Bridget Christie dives into the politics of gender, sex and equality.\n",
            "80152842\tMovie\tFirstBorn\tNirpal Bhogal\tAntonia Thomas, Luke Norris, Thea Petrie, Eileen Davies, Jonathan Hyde\tUnited Kingdom\tMarch 31, 2017\t2016\tTV-MA\t90 min\tHorror Movies, International Movies\tA young couple fights supernatural foes in an attempt to save their daughter from the dark and mysterious forces that follow her every move.\n",
            "80049928\tTV Show\tFive Came Back\tLaurent Bouzereau\tSteven Spielberg, Guillermo del Toro, Lawrence Kasdan, Francis Ford Coppola, Paul Greengrass, Meryl Streep\tUnited States\tMarch 31, 2017\t2017\tTV-MA\t1 Season\tDocuseries\tFive acclaimed contemporary directors tell the story of five legendary Hollywood filmmakers who enlisted in the armed forces to document World War II.\n",
            "70296765\tMovie\tGLOW: The Story of the Gorgeous Ladies of Wrestling\tBrett Whitcomb\t\tUnited States\tMarch 31, 2017\t2012\tNR\t77 min\tDocumentaries, Sports Movies\tThis engaging documentary chronicles the 1980s phenomenon \"The Gorgeous Ladies of Wrestling,\" which elevated its female grapplers to star status.\n",
            "80131168\tMovie\tHiroshima: The Real History\tLucy van Beek\tJohn Sessions\tUnited Kingdom\tMarch 31, 2017\t2015\tTV-PG\t95 min\tDocumentaries\tThis detailed examination of the 1945 Hiroshima bombing includes the prelude to and aftermath of history's controversial first use of atomic weapons.\n",
            "80119190\tMovie\tKnow Your Enemy - Japan\tFrank Capra, Joris Ivens\tWalter Huston, Dana Andrews\tUnited States\tMarch 31, 2017\t1945\tTV-14\t63 min\tClassic Movies, Documentaries\tThough culturally insensitive by modern standards, this propaganda film examines the history of Japan from the 16th century through the 1930s.\n",
            "80119187\tMovie\tLet There Be Light\tJohn Huston\tWalter Huston\tUnited States\tMarch 31, 2017\t1946\tTV-PG\t58 min\tClassic Movies, Documentaries\tSome returning combat veterans suffer scars that are more psychological than physical. This film follows patients and staff during their treatment.\n",
            "80048568\tTV Show\tLondon Spy\tJakob Verbruggen\tBen Whishaw, Jim Broadbent, Edward Holcroft, Samantha Spiro, Charlotte Rampling, Lorraine Ashbourne, David Hayman, Clarke Peters, Adrian Lester, Harriet Walter\tUnited Kingdom\tMarch 31, 2017\t2015\tTV-MA\t1 Season\tBritish TV Shows, Crime TV Shows, International TV Shows\tWhen his reclusive-banker lover disappears, a hard-partying young British hedonist plunges into the dangerous world of espionage to find the truth.\n",
            "80178464\tTV Show\tMonkey Planet\t\tGeorge McGavin\tUnited Kingdom\tMarch 31, 2017\t2014\tTV-PG\t1 Season\tBritish TV Shows, Docuseries, Science & Nature TV\tJoin zoologist Dr. George McGavin for a fascinating, up-close look at the habits and behaviors of primates, our closest animal relatives.\n",
            "80119192\tMovie\tNazi Concentration Camps\tGeorge Stevens\t\tUnited States\tMarch 31, 2017\t1945\tTV-MA\t59 min\tClassic Movies, Documentaries\tShocking footage shows Nazi concentration camps after liberation, including Buchenwald and Ohrdruf, where Gen. Eisenhower ordered local Nazis to tour.\n",
            "70202593\tTV Show\tNorth & South\t\tDaniela Denby-Ashe, Richard Armitage, Tim Pigott-Smith, Sinéad Cusack, Lesley Manville, Brendan Coyle, Anna Maxwell Martin, Jo Joyner, Pauline Quirke, Kay Lyon\tUnited Kingdom\tMarch 31, 2017\t2004\tNR\t1 Season\tBritish TV Shows, Romantic TV Shows, TV Dramas\tWhen her father moves his family to an industrial mill town, the parson's daughter, Margaret Hale, struggles to adapt to her harsh new surroundings.\n",
            "60027945\tMovie\tPrelude to War\tFrank Capra\t\tUnited States\tMarch 31, 2017\t1942\tTV-PG\t52 min\tClassic Movies, Documentaries\tFrank Capra's documentary chronicles the rise of authoritarianism in Germany, Italy and Japan as America prepares for a defense of liberty.\n",
            "80119188\tMovie\tSan Pietro\tJohn Huston\t\tUnited States\tMarch 31, 2017\t1945\tTV-14\t32 min\tClassic Movies, Documentaries\tAfter the Allies invade Italy, the Liri Valley town of San Pietro becomes an example of the brutal effects of combat, both for soldiers and civilians.\n",
            "60027942\tMovie\tThe Battle of Midway\tJohn Ford\tHenry Fonda, Jane Darwell\tUnited States\tMarch 31, 2017\t1942\tTV-G\t18 min\tClassic Movies, Documentaries\tDirector John Ford captures combat footage of the Battle of Midway, an air and sea campaign that was a turning point in the war in the Pacific.\n",
            "80115857\tMovie\tThe Discovery\tCharlie McDowell\tJason Segel, Rooney Mara, Robert Redford, Riley Keough, Jesse Plemons, Ron Canada\tUnited States\tMarch 31, 2017\t2017\tTV-MA\t102 min\tDramas, Independent Movies, Romantic Movies\tA scientist whose proof of an afterlife caused a rash of suicides forges ahead with his research, while his disapproving son falls for a troubled woman.\n",
            "70281026\tTV Show\tThe Fear\tMichael Samuels\tPeter Mullan, Anastasia Hille, Harry Lloyd, Paul Nicholls, Demosthenes Chrysan, Dragos Bucur, Shaban Arifi, Julia Ragnarsson, Danny Sapani, Nigel Lindsay, Osy Ikhile, Sidney Kean, Lisa McAllister, Catherine Winter, Amarildo Kola, Julius Peter Wells\tUnited Kingdom\tMarch 31, 2017\t2012\tTV-MA\t1 Season\tBritish TV Shows, Crime TV Shows, TV Dramas\tRichie Beckett is an aging Brighton crime boss who's struggling with the onset of dementia, just as a rival gang is trying to take over his territory.\n",
            "70304244\tTV Show\tThe Great Train Robbery\t\tLuke Evans, Jim Broadbent, Paul Anderson, Martin Compston, Neil Maskell, Jack Roth, George Costigan, Robert Glenister, Nick Moran, Tim Pigott-Smith, James Fox, James Wilby, Jack Gordon, Nicholas Murchie, Del Synnott, Richard Hope, John Salthouse\tUnited Kingdom\tMarch 31, 2017\t2013\tNR\t1 Season\tBritish TV Shows, Crime TV Shows, International TV Shows\tThis two-part tale delivers the true story of the Great Train Robbery of 1963, the biggest one in England's history.\n",
            "80119194\tMovie\tThe Memphis Belle: A Story of a\n",
            "Flying Fortress\"\tWilliam Wyler\t\tUnited States\tMarch 31, 2017\t1944\tTV-PG\t40 min\tClassic Movies, Documentaries\tThis documentary centers on the crew of the B-17 Flying Fortress Memphis Belle as it prepares to execute a strategic bombing mission over Germany.\n"
          ],
          "name": "stdout"
        }
      ]
    },
    {
      "cell_type": "markdown",
      "metadata": {
        "id": "tlIBIjOM39AS",
        "colab_type": "text"
      },
      "source": [
        "## **Loading our initial DataFrame**\n",
        "\n",
        "Let's take a look at what Spark does with our data and see if it can properly parse the output. To do this, we'll first load the content into a DataFrame using the `spark.read.csv()` method. \n",
        "\n",
        "We'll pass in three arguments:\n",
        "\n",
        " - The path to the file(s)\n",
        " - An entry for `header=False`. Our files do not have a header row, so we must specify this or risk a data row being interpreted as a header.\n",
        " - The last argument we add is the `sep` option, which specifies the field separator. Often in CSV files this is a comma (`,`), but in our files it's a `\\t` or tab character.\n",
        "\n",
        "In our command, we'll be using the wildcard character, `*`, again to access all the files matching `/tmp/netflix_titles_dirty*.csv.gz` (ie, all the files we've downloaded thus far). Spark will handle associating all the files to the same dataframe. \n",
        "\n",
        "Depending on how familiar you are with Spark, you should note that this line does not actually read the contents of the files yet. This command is *lazy*, which means it's not executed until we request Spark to execute some type of analysis. This is a crucial point to understand how data processing behaves within Spark. "
      ]
    },
    {
      "cell_type": "code",
      "metadata": {
        "id": "uQ_z1ZFYb9AX",
        "colab_type": "code",
        "colab": {}
      },
      "source": [
        "# Read csv file wiith spark.read_csv()\n",
        "\n",
        "titles_df = spark.read.csv('/tmp/netflix_titles_dirty*.csv.gz', header=False, sep='\\t')"
      ],
      "execution_count": 0,
      "outputs": []
    },
    {
      "cell_type": "markdown",
      "metadata": {
        "id": "lUFy-nit4fmP",
        "colab_type": "text"
      },
      "source": [
        "## **Initial analysis**\n",
        "\n",
        "Let's look at the first 150 rows using the `.show()` method on the DataFrame. We'll pass in:\n",
        "\n",
        "- The number of rows to display (`150`)\n",
        "- Set the `truncate` option to `False` so we can see all the DataFrame columns and content.\n",
        "\n",
        "*Note: `.show()` is a Spark action, meaning that any previous lazy commands will now be executed prior to the actual action. Spark can also optimize these commands for best performance as needed.*\n",
        "\n"
      ]
    },
    {
      "cell_type": "code",
      "metadata": {
        "id": "0LjdckdCcCQR",
        "colab_type": "code",
        "colab": {}
      },
      "source": [
        "# Show first 150 rows\n",
        "\n",
        "titles_df.show(150, truncate=False)"
      ],
      "execution_count": 0,
      "outputs": []
    },
    {
      "cell_type": "markdown",
      "metadata": {
        "id": "LGzPDicW4zUo",
        "colab_type": "text"
      },
      "source": [
        "\n",
        "**Observation 1**:\n",
        "\n",
        "If we start by looking at the first column of data, we see that most of the entries are numeric IDs. If we scroll through the data we do see at least one random text entry. Let's make a note of this and browse through the rest of the data, looking for anything that might be out of the ordinary.\n",
        "\n",
        "**Problem 1**: First column contains a mix of numeric and string data.\n",
        "\n",
        "**Observation 2**:\n",
        "We can also use the `.printSchema()` method to print the inferred schema associated with the data. Notice that we have 12 columns (which is expected based on our format information) but there are no column names, incorrect datatypes, and each field is nullable. *Note: `.printSchema()` is also a Spark action.*\n",
        "\n",
        "**Problem 2**: Column names are generic.\n",
        "\n",
        "**Problem 3**: All columns are typed as strings, but appear to contain various datatypes (also reference **problem 1**)"
      ]
    },
    {
      "cell_type": "code",
      "metadata": {
        "id": "THf1tctucd9h",
        "colab_type": "code",
        "outputId": "2119ae95-74db-4488-de2f-ec60259cf8a2",
        "colab": {
          "base_uri": "https://localhost:8080/",
          "height": 255
        }
      },
      "source": [
        "# Print schema\n",
        "\n",
        "titles_df.printSchema()"
      ],
      "execution_count": 0,
      "outputs": [
        {
          "output_type": "stream",
          "text": [
            "root\n",
            " |-- _c0: string (nullable = true)\n",
            " |-- _c1: string (nullable = true)\n",
            " |-- _c2: string (nullable = true)\n",
            " |-- _c3: string (nullable = true)\n",
            " |-- _c4: string (nullable = true)\n",
            " |-- _c5: string (nullable = true)\n",
            " |-- _c6: string (nullable = true)\n",
            " |-- _c7: string (nullable = true)\n",
            " |-- _c8: string (nullable = true)\n",
            " |-- _c9: string (nullable = true)\n",
            " |-- _c10: string (nullable = true)\n",
            " |-- _c11: string (nullable = true)\n",
            "\n"
          ],
          "name": "stdout"
        }
      ]
    },
    {
      "cell_type": "markdown",
      "metadata": {
        "id": "RXGTHdV75wUi",
        "colab_type": "text"
      },
      "source": [
        "## **Bypassing the CSV interpeter**\n",
        "\n",
        "Our first few data rows look ok, but we can see that we have a few random rows even in our small sample. We know the first column should be an integer value but it looks like there are some values that do not meet this requirement. \n",
        "\n",
        "Let's run a `.count()` method on our dataframe to determine how many rows are present in the dataset, regardless of whether they're correct.\n"
      ]
    },
    {
      "cell_type": "code",
      "metadata": {
        "id": "eABNrdsfOzRR",
        "colab_type": "code",
        "outputId": "ce01ec50-7fbf-465d-d85f-d55b4c2aeff4",
        "colab": {
          "base_uri": "https://localhost:8080/",
          "height": 34
        }
      },
      "source": [
        "# Count the number of rows\n",
        "\n",
        "titles_df.count()"
      ],
      "execution_count": 0,
      "outputs": [
        {
          "output_type": "execute_result",
          "data": {
            "text/plain": [
              "6238"
            ]
          },
          "metadata": {
            "tags": []
          },
          "execution_count": 24
        }
      ]
    },
    {
      "cell_type": "markdown",
      "metadata": {
        "id": "zYuq7DGUPtSe",
        "colab_type": "text"
      },
      "source": [
        " Let's run a quick select statement on the DataFrame to determine the makeup of the content. We'll use some methods from the `pyspark.sql.functions` module to help us determine this. We'll alias this module as `F` for simplicity.\n",
        "\n",
        "We're going to use the `F.col` method to find the column named `_c0` in our dataframe. We'll then chain the function `.cast(\"int\")` to attempt to change each entry from a string value to an integer one. We then use the `.isNotNull()` function to find only entries that are not null. This is passed to the the `.filter()` method on the dataframe to return only rows that meet this requirement. Finally we run the `.count()` method on the resulting dataframe to get the count of rows where the first column is an integer value.\n",
        "\n",
        "An example to filter a Spark dataframe named `df_1` with a column named `_c0` would be:\n",
        "\n",
        "```\n",
        "from pyspark.sql import functions as F\n",
        "\n",
        "df_1.filter(F.col(\"_c0\").cast(\"int\").isNotNull()).show()\n",
        "```\n"
      ]
    },
    {
      "cell_type": "code",
      "metadata": {
        "id": "uznFuRdDcwTM",
        "colab_type": "code",
        "outputId": "2f1a0664-9721-40f1-ee60-efd601ab2d9f",
        "colab": {
          "base_uri": "https://localhost:8080/",
          "height": 34
        }
      },
      "source": [
        "# Import the Pyspark SQL helper functions\n",
        "from pyspark.sql import functions as F\n",
        "\n",
        "# Determine how many rows have a column that converts properly to an integer value\n",
        "titles_df.filter(F.col(\"_c0\").cast(\"int\").isNotNull()).count()\n"
      ],
      "execution_count": 0,
      "outputs": [
        {
          "output_type": "execute_result",
          "data": {
            "text/plain": [
              "6173"
            ]
          },
          "metadata": {
            "tags": []
          },
          "execution_count": 10
        }
      ]
    },
    {
      "cell_type": "markdown",
      "metadata": {
        "id": "m7_8YXWoS59q",
        "colab_type": "text"
      },
      "source": [
        "### **Spark is different**\n",
        "\n",
        "Depending on your background, you may be very confused as to what's going on right now. If you're used to pandas, you should know that Spark behaves similarly, but there are some significant differences.\n",
        "\n",
        "#### **Spark dataframes are immutable**\n",
        "- This means that once a dataframe is created, you cannot change the contents of the dataframe, you can only create a new one.\n",
        "- We won't cover why during this class, beyond mentioning that it makes a distributed system (such as Spark) much more manageable.\n",
        "- While you cannot change a dataframe, you can create a new one.\n",
        "- Dataframes in Spark are defined with various types of *transformations*. These are the *lazy* commands we mentioned earlier. You can think of them as a recipe, or set of commands that will be run at a given time. \n",
        "- Spark *actions* (such as `.count()`, `.show()`, `.write()`, among others) instantiate the dataframe, meaning that the data is processed and available within the dataframe.\n",
        "\n",
        "The important thing to note is that these `.filter()` commands are not changing our underlying dataframe - it's creating a new dataframe with the results of the `.filter()` operation and giving us the `.count()` of that. This is all done behind the scenes for you, but it's important to understand what Spark is doing underneath.\n",
        "\n",
        "### **Back to analysis**\n",
        "\n",
        "Now that we've determined there is a difference between the number of correct entries vs all entries (ie, take the full count and subtract the filtered dataframe), let's look at the rows that aren't coverting properly.\n",
        "\n",
        "We'll do the same as before, but this time we're going to use the `.isNull()` method to obtain only the rows that can't be cast to integers. We'll use the `.show()` method to see the content.\n",
        "\n",
        "*Note, this is only possible because Spark maintains an immutable dataframe. In our previous step, we created a new dataframe from our `.filter()` command, ran an action, and then Spark threw away the dataframe as we didn't assign it to a variable. We're going to now do the same type of operation on the original `titles_df` dataframe.*"
      ]
    },
    {
      "cell_type": "code",
      "metadata": {
        "id": "FM8wY72J7qnC",
        "colab_type": "code",
        "outputId": "f38c1506-7e4d-4c85-e9e9-a11718cf038e",
        "colab": {
          "base_uri": "https://localhost:8080/",
          "height": 479
        }
      },
      "source": [
        "# Look at rows that don't convert properly\n",
        "titles_df.filter(F.col(\"_c0\").cast(\"int\").isNull()).show(truncate=False)"
      ],
      "execution_count": 0,
      "outputs": [
        {
          "output_type": "stream",
          "text": [
            "+------------------------------------------------------------------------------------------------------+-------------------------------------------------+-----------------------------------------------------------------------------------+----+-----+----+----+----+----+----+----+----+\n",
            "|_c0                                                                                                   |_c1                                              |_c2                                                                                |_c3 |_c4  |_c5 |_c6 |_c7 |_c8 |_c9 |_c10|_c11|\n",
            "+------------------------------------------------------------------------------------------------------+-------------------------------------------------+-----------------------------------------------------------------------------------+----+-----+----+----+----+----+----+----+----+\n",
            "|# The wave for issues such as semantic network and computing                                          |null                                             |null                                                                               |null|null |null|null|null|null|null|null|null|\n",
            "|TV Show                                                                                               |TV-MA                                            |Crime TV Shows, International TV Shows, Spanish-Language TV Shows                  |null|null |null|null|null|null|null|null|null|\n",
            "|# Which was, Change Performance Index (EPI) with an electrode at                                      |null                                             |null                                                                               |null|null |null|null|null|null|null|null|null|\n",
            "|# Five 40 dangerous. A more direct connection came                                                    |null                                             |null                                                                               |null|null |null|null|null|null|null|null|null|\n",
            "|# Heisei Hyakkei fishing village with very low                                                        |null                                             |null                                                                               |null|null |null|null|null|null|null|null|null|\n",
            "|# (or will advanced stage. There are                                                                  |null                                             |null                                                                               |null|null |null|null|null|null|null|null|null|\n",
            "|The Miracle                                                                                           |Donghyun Kim, Nahyun, Yang Hak Jin, Yoon Hwa Hong|International TV Shows, Korean TV Shows, TV Dramas                                 |null|null |null|null|null|null|null|null|null|\n",
            "|Movie                                                                                                 |Harold and Lillian: A Hollywood Love Story       |Harold Michelson, Lillian Michelson, Mel Brooks, Francis Ford Coppola, Danny DeVito|2015|TV-14|null|null|null|null|null|null|null|\n",
            "|# Site Montana energies. Like                                                                         |null                                             |null                                                                               |null|null |null|null|null|null|null|null|null|\n",
            "|Black Snake Moan                                                                                      |null                                             |null                                                                               |null|null |null|null|null|null|null|null|null|\n",
            "|# To improving example, unclear and badly stated directions                                           |null                                             |null                                                                               |null|null |null|null|null|null|null|null|null|\n",
            "|# Stanford Linear new ocean. He called it simply the most                                             |null                                             |null                                                                               |null|null |null|null|null|null|null|null|null|\n",
            "|# Europeans. Carl 2003. Regional Oceanography: an Introduction. (see                                  |null                                             |null                                                                               |null|null |null|null|null|null|null|null|null|\n",
            "|# Offer international anarchist thinkers, but as soon as possible.                                    |null                                             |null                                                                               |null|null |null|null|null|null|null|null|null|\n",
            "|Jen Kirkman                                                                                           |May 22, 2015                                     |null                                                                               |null|null |null|null|null|null|null|null|null|\n",
            "|# Hundred Views Some can get a Nobel Prize in physics World of                                        |null                                             |null                                                                               |null|null |null|null|null|null|null|null|null|\n",
            "|# Filipino American the 2010s expansion of the year, within the state                                 |null                                             |null                                                                               |null|null |null|null|null|null|null|null|null|\n",
            "|# West Side descendants, and most of northern California are dammed as part                           |null                                             |null                                                                               |null|null |null|null|null|null|null|null|null|\n",
            "|# To British colonial New Spain in the European Union. The EU established a legal document            |null                                             |null                                                                               |null|null |null|null|null|null|null|null|null|\n",
            "|# Rates than laws usually states that some historians call the creatures laboři (\"workers\", from Latin|null                                             |null                                                                               |null|null |null|null|null|null|null|null|null|\n",
            "+------------------------------------------------------------------------------------------------------+-------------------------------------------------+-----------------------------------------------------------------------------------+----+-----+----+----+----+----+----+----+----+\n",
            "only showing top 20 rows\n",
            "\n"
          ],
          "name": "stdout"
        }
      ]
    },
    {
      "cell_type": "markdown",
      "metadata": {
        "id": "jw0aLgc19Qok",
        "colab_type": "text"
      },
      "source": [
        "**Observation 3**\n",
        "\n",
        "Looking at our content, we notice we have several types of problems:\n",
        "\n",
        "*Data problems*:\n",
        "- **Problem 4**: Comment rows - These begin with a `#` character in the first column, and all other columns are null\n",
        "- **Problem 5**: Missing first column - We have few rows that reference `TV Show` or `Movie`, which should be the 2nd column.\n",
        "- **Problem 6**: Odd columns - There are a few rows included where the columns seem out of sync (ie, a content type in the ID field, dates in the wrong column, etc).\n",
        "\n",
        "We could fairly easily remove rows that match this pattern, but we're not entirely sure what to expect here. This is a common issue when trying to parse a large amount of data, be it in native Python, in Spark, or even with command-line tools. \n",
        "\n",
        "What we need to do is bypass most of the CSV parser's intelligence, but still load the content into a DataFrame. One way to do this is to modify an option on the CSV loader.\n",
        "\n",
        "# **CSV loading**\n",
        "\n",
        "Our initial import relies on the defaults for the CSV import mechanism. This typically assumes an actual comma-separated value file using `,` between fields and a normal row level terminator (ie, `\\r\\n`, `\\r`, `\\n`). While this often works well, it doesn't always handle ever data cleaning process you'd like, especially if you want to save the errant data for later examination.\n",
        "\n",
        "One way we can trick our CSV load is to specify a custom separator that we know does not exist within our dataset. As we used above, the option to do this is called `sep` and takes a single character to be used as the column separator. The separator cannot be an empty string so depending on your data, you may need to determine a character that is not used. For our purposes, let's use a curly brace, `{`, which is most likely not present in our data."
      ]
    },
    {
      "cell_type": "code",
      "metadata": {
        "id": "Vme6VYgc8UP7",
        "colab_type": "code",
        "colab": {}
      },
      "source": [
        "# Load the files into a DataFrame with a single column\n",
        "\n",
        "titles_single_df = spark.read.csv('/tmp/netflix_titles_dirty*.csv.gz', sep='{')"
      ],
      "execution_count": 0,
      "outputs": []
    },
    {
      "cell_type": "code",
      "metadata": {
        "id": "CyTxTDhXART2",
        "colab_type": "code",
        "outputId": "47a6d3c3-6c23-46e7-cccf-b60b34c9e569",
        "colab": {
          "base_uri": "https://localhost:8080/",
          "height": 34
        }
      },
      "source": [
        "# Count rows\n",
        "\n",
        "titles_single_df.count()"
      ],
      "execution_count": 0,
      "outputs": [
        {
          "output_type": "execute_result",
          "data": {
            "text/plain": [
              "6238"
            ]
          },
          "metadata": {
            "tags": []
          },
          "execution_count": 13
        }
      ]
    },
    {
      "cell_type": "code",
      "metadata": {
        "id": "JcsIM-2KBMzP",
        "colab_type": "code",
        "outputId": "7c4250c6-cbb4-4e52-8857-aecff94215e3",
        "colab": {
          "base_uri": "https://localhost:8080/",
          "height": 479
        }
      },
      "source": [
        "# Show header\n",
        "\n",
        "titles_single_df.show(truncate=False)"
      ],
      "execution_count": 0,
      "outputs": [
        {
          "output_type": "stream",
          "text": [
            "+---------------------------------------------------------------------------------------------------------------------------------------------------------------------------------------------------------------------------------------------------------------------------------------------------------------------------------------------------------------------------------------------------------------------------------------------------------------------------------------------------------------------------+\n",
            "|_c0                                                                                                                                                                                                                                                                                                                                                                                                                                                                                                                        |\n",
            "+---------------------------------------------------------------------------------------------------------------------------------------------------------------------------------------------------------------------------------------------------------------------------------------------------------------------------------------------------------------------------------------------------------------------------------------------------------------------------------------------------------------------------+\n",
            "|81002212\tMovie\tBioscope\tGajendra Ahire, Viju Mane, Girish Mohite, Ravi Jadhav\tNina Kulkarni, Suhas Palshikar, Kushal Badrike, Spruha Joshi, Mangesh Desai, Smita Tambe, Veena Jamkar, Sandeep Khare\tIndia\tAugust 15, 2018\t2015\tTV-14\t131 min\tDramas, International Movies, LGBTQ Movies\tInspired by classic and contemporary literature, four renowned Marathi directors create four individual stories in this anthology of short films.                                                                                  |\n",
            "|80176707\tMovie\tFor Here or to Go?\tRucha Humnabadkar\tAli Fazal, Melanie Chandra, Rajit Kapoor, Amitosh Nagpal, Omi Vaidya, Samrat Chakrabarti, Keith Stevenson\tUnited States, India\tAugust 15, 2018\t2015\tTV-MA\t105 min\tComedies, Dramas, Independent Movies\tA software engineer must decide if he'd rather navigate America's frustrating visa renewal process or simply return to his home country of India.                                                                                                               |\n",
            "|80199381\tMovie\tHostiles\tScott Cooper\tChristian Bale, Rosamund Pike, Wes Studi, Jesse Plemons, Timothée Chalamet, Ben Foster, Adam Beach, Rory Cochrane, Peter Mullan, Scott Wilson, Paul Anderson, Jonathan Majors, John Benjamin Hickey, Q'orianka Kilcher, Ryan Bingham\tUnited States\tAugust 15, 2018\t2017\tR\t134 min\tDramas\tAfter a long career battling the Cheyenne, a U.S. Army captain is ordered to safely escort the tribe's most influential chief to his Montana homeland.                                       |\n",
            "|80202176\tMovie\tHurricane Bianca: From Russia With Hate\tMatt Kugelman\tRoy Haylock, Rachel Dratch, Brian McCook, D.J. \"Shangela\" Pierce, Doug Plaut, Cheyenne Jackson, Kristen Johnston, Heather McDonald, Wanda Sykes, Janeane Garofalo\tUnited States\tAugust 15, 2018\t2018\tTV-MA\t85 min\tComedies, Independent Movies, LGBTQ Movies\tWhen Texas teacher Richard is lured to Russia under false pretenses by his enemy Deb, his drag alter ego Bianca soon turns the country upside down.                                      |\n",
            "|81014293\tTV Show\tNuestra Lucha Libre\t\t\t\tAugust 15, 2018\t2018\tTV-MA\t1 Season\tDocuseries, International TV Shows, Spanish-Language TV Shows\tThis documentary series lifts the mask on Mexican wrestling, diving into the daily lives of its stars, examining the sport’s cultural impact and more.                                                                                                                                                                                                                           |\n",
            "|81014811\tTV Show\tThe Creative Indians\t\t\t\tAugust 15, 2018\t2017\tNR\t1 Season\tDocuseries, International TV Shows\tFrom chefs and comedians to filmmakers and fashion designers, India’s most notable imaginative minds share their artistic journeys.                                                                                                                                                                                                                                                                           |\n",
            "|70123118\tMovie\tWhat's Your Raashee?\tAshutosh Gowariker\tPriyanka Chopra, Harman Baweja, Suzy Brack, Gene Fojtik, Anjan Srivastav, Darshan Jariwala, Dilip Joshi, Daya Shankar Pandey, Yuri Suri, Rajesh Vivek, Geeta Tyagi\tIndia\tAugust 15, 2018\t2009\tTV-PG\t203 min\tComedies, International Movies, Music & Musicals\tTo protect his family from ruin, Yogesh must marry his dream girl in only ten days, so he rushes into dating women with different astrological signs.                                                  |\n",
            "|80175913\tTV Show\t20 Minutes\t\tTuba Büyüküstün, Ilker Aksum, Bülent Emin Yarar, İpek Bilgin, Müjde Uzman, Firat Çelik, Ayten Uncuoglu, Cihat Tamer\tTurkey\tAugust 15, 2017\t2013\tTV-MA\t1 Season\tCrime TV Shows, International TV Shows, TV Dramas\tWhen his wife is convicted of murder, a horrified family man races to prove her innocence while a dogged investigator sets out to uncover the truth.                                                                                                                         |\n",
            "|80182274\tMovie\tBarbecue\tMatthew Salleh\t\tAustralia, Armenia, Japan, Jordan, Mexico, Mongolia, New Zealand, Philippines, South Africa, Sweden, United States, Uruguay\tAugust 15, 2017\t2017\tTV-MA\t101 min\tDocumentaries, International Movies\tA blend of cultural nuance and mesmerizing techniques adds flavor to this globe-hopping celebration of cooking, tradition and community.                                                                                                                                        |\n",
            "|80185166\tMovie\tBrad Paisley's Comedy Rodeo\tJay Chapman\tBrad Paisley, Nate Bargatze, John Heffron, Jon Reep, Sarah Tiana, Mike E. Winfield\tUnited States\tAugust 15, 2017\t2017\tTV-MA\t63 min\tStand-Up Comedy\tCountry music star Brad Paisley hosts a night of music and laughs with comics Nate Bargatze, John Heffron, Jon Reep, Sarah Tiana and Mike E. Winfield.                                                                                                                                                           |\n",
            "|80068219\tMovie\tColin Quinn: Unconstitutional\tJay Chapman\tColin Quinn\tUnited States\tAugust 15, 2017\t2015\tTV-MA\t56 min\tStand-Up Comedy\tNew York comedian Colin Quinn writes and stars in this live one-man stage show that dissects and deconstructs U.S. constitutional history.                                                                                                                                                                                                                                            |\n",
            "|70209163\tMovie\tGoon\tMichael Dowse\tSeann William Scott, Jay Baruchel, Liev Schreiber, Alison Pill, Marc-André Grondin, Kim Coates, Eugene Levy, Nicholas Campbell, Richard Clarkin, Jonathan Cherry\tUnited States, Canada\tAugust 15, 2017\t2011\tR\t92 min\tComedies, Sports Movies\tWhen he's seen dispatching a rude opposing hockey player in the stands, Doug Glatt is hired by a rival team ... for his fighting skills.                                                                                                    |\n",
            "|80170687\tTV Show\tMillion Yen Women\t\tYojiro Noda, Rila Fukushima, Rena Matsui, Miwako Wagatsuma, Rena Takeda, Yuko Araki, Yuya Endo, Kaito Yoshimura, Moeka Hoshi, Juri Ihata, Mariko Tsutsui, Kanji Furutachi, Tetsuhiro Ikeda, Takashi Yamanaka, Tomoya Nakamura, Lily Franky\tJapan\tAugust 15, 2017\t2017\tTV-MA\t1 Season\tCrime TV Shows, International TV Shows, TV Dramas\tFive beautiful but mysterious women move in with unsuccessful novelist Shin, who manages their odd household in exchange for a tidy monthly sum.|\n",
            "|80163191\tMovie\tMy Ex-Ex\tNathaniel Warsh\tAndré Bharti, Katherine Barrell, Ray Galletti, Emily Alatalo, Tamara Duarte, Randal Edwards, Alastair Forbes, Jesse Camacho\tCanada\tAugust 15, 2017\t2015\tTV-MA\t91 min\tComedies, Romantic Movies\tA recently dumped attorney hires a psychic to help her win back her boyfriend. Things take an unexpected turn when another ex re-enters the picture.                                                                                                                                |\n",
            "|80184661\tMovie\tWe're No Animals\tAlejandro Agresti\tJohn Cusack, Paul Hipp, Kevin Morris, Alejandro Agresti, Mario Alarcón, Norman Briski, Lucila Solá, Juana Viale, Pablo Bossi, Leticia Brédice\tUnited States, Argentina\tAugust 15, 2017\t2015\tTV-MA\t94 min\tComedies, Dramas, Independent Movies\tUnhappy with his commercial film work, a jaded Hollywood actor moves to Argentina to participate in an experimental thesis on social philosophy.                                                                           |\n",
            "|80114588\tTV Show\tBehind Enemy Lines\t\t\tUnited States\tAugust 15, 2016\t2001\tTV-14\t1 Season\tBritish TV Shows, Docuseries\tAfter dire setbacks in 1940, Winston Churchill commissions a new kind of fighting force: commandos trained to use stealth and audacious tactics.                                                                                                                                                                                                                                                      |\n",
            "|80078761\tMovie\tBeing AP\tAnthony Wonke\tTony McCoy\tUnited Kingdom\tAugust 15, 2016\t2015\tTV-14\t99 min\tDocumentaries, International Movies, Sports Movies\tWith retirement staring him in the face, an all-time-great jump jockey pursues his 20th consecutive title in his unrelenting quest for glory.                                                                                                                                                                                                                         |\n",
            "|80115844\tMovie\tJohn & Jane\tAshim Ahluwalia\t\tIndia\tAugust 15, 2016\t2005\tTV-14\t79 min\tDocumentaries, International Movies\tTruth and fiction blend in this quasi-documentary about six exhausted workers at a Mumbai call center servicing U.S. customers.                                                                                                                                                                                                                                                                    |\n",
            "|80114111\tMovie\tLouis C.K.: Live at the Comedy Store\tLouis C.K.\tLouis C.K.\tUnited States\tAugust 15, 2016\t2015\t\t66 min\tMovies\tThe comic puts his trademark hilarious/thought-provoking spin on finding a bat in his kitchen, seeing rats having sex, Boston accents and dead pets.                                                                                                                                                                                                                                           |\n",
            "|80108998\tMovie\tReal Crime: Supermarket Heist (Tesco Bomber)\t\t\tUnited Kingdom\tAugust 15, 2016\t2010\tTV-14\t46 min\tDocumentaries\tIn 2000, U.K. detectives spent months tracking a criminal known only as Sally, who was targeting a supermarket chain with extortion and letter bombs.                                                                                                                                                                                                                                         |\n",
            "+---------------------------------------------------------------------------------------------------------------------------------------------------------------------------------------------------------------------------------------------------------------------------------------------------------------------------------------------------------------------------------------------------------------------------------------------------------------------------------------------------------------------------+\n",
            "only showing top 20 rows\n",
            "\n"
          ],
          "name": "stdout"
        }
      ]
    },
    {
      "cell_type": "code",
      "metadata": {
        "id": "P0HJfU--BRm1",
        "colab_type": "code",
        "outputId": "5e7a9c59-9d18-41c1-d9b1-21fbc9445390",
        "colab": {
          "base_uri": "https://localhost:8080/",
          "height": 68
        }
      },
      "source": [
        "# Print schema\n",
        "\n",
        "titles_single_df.printSchema()"
      ],
      "execution_count": 0,
      "outputs": [
        {
          "output_type": "stream",
          "text": [
            "root\n",
            " |-- _c0: string (nullable = true)\n",
            "\n"
          ],
          "name": "stdout"
        }
      ]
    },
    {
      "cell_type": "markdown",
      "metadata": {
        "id": "Uyelt4SeaiHe",
        "colab_type": "text"
      },
      "source": [
        "# **Q&A?**"
      ]
    },
    {
      "cell_type": "markdown",
      "metadata": {
        "id": "hSTcSJgEB-YK",
        "colab_type": "text"
      },
      "source": [
        "# **Cleaning up our data**\n",
        "\n",
        "We know from some earlier analysis that we have comment rows in place (ie, rows that begin with a `#`). While Spark provides a DataFrame option to handle this automatically, let's consider what it would take to remove comment rows.\n",
        "\n",
        "We need to:\n",
        "\n",
        "- Determine if the column / line starts with a `#`\n",
        "- If so, filter these out to a new DataFrame\n",
        "\n",
        "There are many ways to accomplish this in Spark, but let's use a conceptually straight-forward option, `.startsWith()`."
      ]
    },
    {
      "cell_type": "code",
      "metadata": {
        "id": "Pny8lhMnBVsv",
        "colab_type": "code",
        "outputId": "5af41209-cacc-4892-cbe3-6cdc60f00d14",
        "colab": {
          "base_uri": "https://localhost:8080/",
          "height": 459
        }
      },
      "source": [
        "# Filter DataFrame and show rows that starts with #\n",
        "\n",
        "titles_single_new_df = titles_single_df.filter(F.col('_c0').startswith('#'))\n",
        "titles_single_new_df.show()"
      ],
      "execution_count": 0,
      "outputs": [
        {
          "output_type": "stream",
          "text": [
            "+--------------------+\n",
            "|                 _c0|\n",
            "+--------------------+\n",
            "|# The wave for is...|\n",
            "|# Which was, Chan...|\n",
            "|# Five 40 dangero...|\n",
            "|# Heisei Hyakkei ...|\n",
            "|# (or will advanc...|\n",
            "|# Site Montana en...|\n",
            "|# To improving ex...|\n",
            "|# Stanford Linear...|\n",
            "|# Europeans. Carl...|\n",
            "|# Offer internati...|\n",
            "|# Hundred Views S...|\n",
            "|# Filipino Americ...|\n",
            "|# West Side desce...|\n",
            "|# To British colo...|\n",
            "|# Rates than laws...|\n",
            "|# (87.8 percent B...|\n",
            "|# On exteriority,...|\n",
            "|# Roosevelt Unive...|\n",
            "|# An \"or\". a conv...|\n",
            "|# 1611–1613 Kalma...|\n",
            "+--------------------+\n",
            "only showing top 20 rows\n",
            "\n"
          ],
          "name": "stdout"
        }
      ]
    },
    {
      "cell_type": "code",
      "metadata": {
        "id": "8GOHWXvmDhtu",
        "colab_type": "code",
        "outputId": "ef392087-5e1c-452c-e6f0-53001e967392",
        "colab": {
          "base_uri": "https://localhost:8080/",
          "height": 34
        }
      },
      "source": [
        "# Count number of rows\n",
        "\n",
        "titles_single_new_df.count()"
      ],
      "execution_count": 0,
      "outputs": [
        {
          "output_type": "execute_result",
          "data": {
            "text/plain": [
              "47"
            ]
          },
          "metadata": {
            "tags": []
          },
          "execution_count": 17
        }
      ]
    },
    {
      "cell_type": "markdown",
      "metadata": {
        "id": "MurSx_92YsGv",
        "colab_type": "text"
      },
      "source": [
        "We've determined that we have 47 rows that begin with a comment character. We can now easily filter these from our DataFrame as we do below. This resolves **Problem 4**.\n",
        "\n",
        "*Note: We're doing things in a more difficult fashion than is absolutely necessary to illustrate options. The Spark CSV reader has an option for a `comment` property, which actually defaults to skipping all rows starting with a `#` character. That said, it only supports a single character - consider if you were looking for multi-character options (ie, a // from C-style syntax). This feature is also only available in newer versions of Spark, where our method works in any of the 2.x Spark releases.*"
      ]
    },
    {
      "cell_type": "code",
      "metadata": {
        "id": "FnKLL42OXtkx",
        "colab_type": "code",
        "colab": {}
      },
      "source": [
        "# Filter out comments\n",
        "\n",
        "titles_single_df = titles_single_df.filter(~ F.col('_c0').startswith('#'))"
      ],
      "execution_count": 0,
      "outputs": []
    },
    {
      "cell_type": "code",
      "metadata": {
        "id": "MHbyFQt4aUag",
        "colab_type": "code",
        "outputId": "1ff9ea9a-7e4c-419d-d415-39a456a64fb3",
        "colab": {
          "base_uri": "https://localhost:8080/",
          "height": 34
        }
      },
      "source": [
        "titles_single_df.count()"
      ],
      "execution_count": 0,
      "outputs": [
        {
          "output_type": "execute_result",
          "data": {
            "text/plain": [
              "6191"
            ]
          },
          "metadata": {
            "tags": []
          },
          "execution_count": 19
        }
      ]
    },
    {
      "cell_type": "markdown",
      "metadata": {
        "id": "2NRGmdeqa2L3",
        "colab_type": "text"
      },
      "source": [
        "# **Checking column counts**\n",
        "\n",
        "Our next step for cleaning this dataset in Pyspark involves determining how many columns we should have in our dataset and take care of any outliers. We know from our earlier examination that the dataset should have 12 usable columns per row.\n",
        "\n",
        "First, let's determine how many columns are present in the data and add that as a column. We'll do this with a combination of:\n",
        "\n",
        "- `F.split()`: This acts similar to the Python `split()` method, splitting the contents of a dataframe column on a specified character into a Spark ArrayType column (ie, Spark's version of a list variable). \n",
        "- `F.size()`: Returns the size (length) of a Spark ArrayType column.\n",
        "- `.withColumn()`: Creates a new dataframe with a given column."
      ]
    },
    {
      "cell_type": "code",
      "metadata": {
        "id": "0mNCitULaWL7",
        "colab_type": "code",
        "colab": {}
      },
      "source": [
        "# Add a column representing the total number of fields / columns\n",
        "\n",
        "titles_single_df = titles_single_df.withColumn('fieldCount', F.size(F.split(titles_single_df['_c0'], '\\t')))"
      ],
      "execution_count": 0,
      "outputs": []
    },
    {
      "cell_type": "code",
      "metadata": {
        "id": "Lv5MOxL_tuyw",
        "colab_type": "code",
        "outputId": "87205a7d-e1a0-4558-b866-2812ed6065ac",
        "colab": {
          "base_uri": "https://localhost:8080/",
          "height": 479
        }
      },
      "source": [
        "# Show rows with a fieldcount > 12 (Note, select statement here isn't necessarily required - used to reorder the columns for easier viewing)\n",
        "titles_single_df.select('fieldcount', '_c0').where('fieldCount > 12').show(truncate=False)"
      ],
      "execution_count": 0,
      "outputs": [
        {
          "output_type": "stream",
          "text": [
            "+----------+------------------------------------------------------------------------------------------------------------------------------------------------------------------------------------------------------------------------------------------------------------------------------------------------------------------------------------------------------------------------------------------------------------------------------------------------------------------------------------------------------------------------------------------------------------------------------------------------------------------------------------------------------------------------------------------------------------------------------------------------------------------------------------------------------------------------------------------------------------------------------------------+\n",
            "|fieldcount|_c0                                                                                                                                                                                                                                                                                                                                                                                                                                                                                                                                                                                                                                                                                                                                                                                                                                                                                       |\n",
            "+----------+------------------------------------------------------------------------------------------------------------------------------------------------------------------------------------------------------------------------------------------------------------------------------------------------------------------------------------------------------------------------------------------------------------------------------------------------------------------------------------------------------------------------------------------------------------------------------------------------------------------------------------------------------------------------------------------------------------------------------------------------------------------------------------------------------------------------------------------------------------------------------------------+\n",
            "|32        |80167646\tMovie\tThe Blind Christ\tChristopher Murray\tMichael Silva, Bastián Inostroza, Ana María Henríquez, Mauricio Pinto, Pedro Godoy, Hermelinda Cayo, Héctor Mella, Gonzalo Villalobos, Noelia Rubio\tChile, France\tAugust 1, 2017\t2016\tTV-MA\t86 min\tDramas, Independent Movies, International Movies\tA man claiming he had a divine revelation as a child treks across the Chilean desert to perform a miracle on a friend badly injured in a remote town.\t\trand@pernar.biz\thttp://is.nal.com/by/wever/was/Forgin.puliko-ifird-thembo\taderve@becolv.edu\t374-831-1651\ta@of181.com\t58861\ttian@Mobsiz.net\thttp://pid.org/com/naterl/of/the.matudi-laname-cology-Eurrel-of\tecto@whount.com\tDevial\tan.sooms@fousit.fr\t\tpred@triesp.net\thttps://tork.net/20thoo/painit.larmay14-the-Vargat8366\tth@al.edu\t\tvateca@Bus.com\t\tinguen@Subate274.co.uk                                              |\n",
            "|30        |80118918\tMovie\tStrike a Pose\tEster Gould, Reijer Zwaan\t\tNetherlands, Belgium\tApril 7, 2017\t2016\tTV-MA\t85 min\tDocumentaries, International Movies, LGBTQ Movies\tA quarter-century later, this documentary relocates the male dancers who backed Madonna on her 1990 Blond Ambition tour, as seen in \"Truth or Dare.\"\t\tles@hinges.net\thttp://downs.us/bectio/is/casse.html\tdurems@was999.co.uk\t680-778-1031\tBrolud@Cens.com\t1864\tof@gre.ru\thttps://Bathe.tv.png\t29@humate.us\tby\talled@to.com\t\tof@form.thin.gov\thttps://sologe.com/Reput/plattl/Orgy/to.propor-to-tries\tnintat@dis.net\t\tthenti846@fochou.en.com                                                                                                                                                                                                                                                                              |\n",
            "|34        |80104198\tTV Show\tLost in Space\t\tMolly Parker, Toby Stephens, Max Jenkins, Taylor Russell, Mina Sundwall, Parker Posey, Ignacio Serricchio\tUnited States\tApril 13, 2018\t2018\tTV-PG\t1 Season\tTV Action & Adventure, TV Dramas, TV Sci-Fi & Fantasy\tAfter crash-landing on an alien planet, the Robinson family fights against all odds to survive and escape. But they're surrounded by hidden dangers.\t\tthen@Unican.us\thttp://pras.tv/Spand/whicou.arevoc-sact4-ing-taint-difica\tne@hichor.jp\t738-149-6607\tres@al.com\t6404\tSiencl@ing.biz\thttp://cons.us/couts.html\tDecans@law.biz\tpron\tact846@as.us\t\tinated380@regin.com\thttp://Kin.edu/lit/his/comatt.of-colow57-rentru-forequ-Statea-The\taniong925@was.org\t\ta@center.co.uk\t\tdiniqu@bran.ru\thttps://re847.us.(extio-to-His\tprommi@bechou.edu                                                                                             |\n",
            "|35        |80207445\tMovie\tThe Legend of Michael Mishra\tManish Jha\tArshad Warsi, Aditi Rao Hydari, Kayoze Irani, Boman Irani\tIndia\tApril 1, 2019\t2016\tTV-PG\t118 min\tComedies, Dramas, International Movies\tAfter a life of crime, a notorious kidnapper tries to change his ways and turn over a new leaf to win the heart of the woman he loves.\t\tthe@The.200.us\thttps://by.Comens.biz/bectin/prount/tive/art.fore-com-Thenti-ind-to-not\tagente@des.com\t300-324-1101\tarions@martia.com\t93170\tbel785@th.the.com\thttps://so.us.asp\tbety361@Inds510.com\thas\ta@the.edu\t\tthe.Cenesi@gain.com\thttp://actlag.com/ing.html\tth@Not661.us\t\tang231@auding.com\t\tpard@to.An.com\thttp://East.biz/way/over.the91-adiver\ta.Humacy@Nolopu.com\t                                                                                                                                                                        |\n",
            "|35        |60000722\tMovie\tPhir Bhi Dil Hai Hindustani\tAziz Mirza\tShah Rukh Khan, Juhi Chawla, Paresh Rawal, Satish Shah, Dilip Tahil, Govind Namdeo, Smita Jaykar, Shakti Kapoor, Johnny Lever\tIndia\tApril 1, 2018\t2000\tTV-PG\t159 min\tComedies, Dramas, International Movies\tIn this Bollywood entertainment, two journalists, Ajay and Ria, work for rival TV stations and compete heavily to mask their feelings for each other.\t\tfen.and@Rearly.com\thttps://andepr.co.uk/eventi/Krain/thatin/inic.as-in-GeV42\tSlonsu@imasti.com\t999-278-9874\tinativ.ativen@an.thand.us\t10454\tado.Asighw@of.conega.co.uk\thttp://ili.com.html\tthe@Cences.edu\tAdmay\tAsin@ithe.org\t\tthot@ustect.com\thttps://the.com/2011/sha.a-of-forn-diseca-matind-ords\tFicann@abled.com\t\tre@to.edu\t\tOrg@orated.gov\thttps://the.th.ru/usheir/Bakey.reenta-ean-ory-ing\tshil@thaved808.us\t                                            |\n",
            "|21        |80159714\tTV Show\tBala Loca\t\tAlejandro Goic, Trinidad González, Ingrid Isensee, Mario Horton, Manuela Oyarzún, Fernanda Urrejola, Catalina Saavedra, Pablo Schwarz, Aline Küppenheim, Marcial Tagle, Víctor Quezada, Alfredo Castro, Roberto Farías, Hugo Medina, Daniel Candia, María Paz Grandjean, Alejandro Sieveking, Nicolás Durán, Sergio Hernández, Willy Semler, Erto Pantoja\tChile\tApril 1, 2017\t2016\tTV-MA\t1 Season\tInternational TV Shows, Spanish-Language TV Shows, TV Dramas\tA veteran journalist starting a news site about corruption in Chile stumbles on a big story when a fellow investigative reporter dies suspiciously.\t\tof@Hit.org\thttps://angly.net.html\tUrb@Provel.the.org\t488-752-7084\tacton@the.com\t29160\tdu@hassio.com\thttps://In.com/holis.and-ons37                                                                                                        |\n",
            "|30        |80134695\tTV Show\tFree Rein\t\tJaylen Barron, Manpreet Bambra, Celine Buckens, Freddy Carter, Caroline Ford, Natalie Gumede, Bruce Herbelin-Earle, Noah Huntley, Kerry Ingram, Paul Luebke, Geoffrey McGivern, Navia Ziraili Robinson, Milo Twomey, Carla Woodcock\tUnited States\t July 6, 2019\t2019\tTV-G\t3 Seasons\tBritish TV Shows, Kids' TV, TV Dramas\tA 15-year-old from LA spends the summer at her mom's childhood home on an island off the coast of England, where she bonds with a mysterious horse.\t\tknotop@of689.com\thttp://solso.fr/prich/The/of.the-prompl-Trat-forana-ons-a-hicano\twhis@the.com\t812-758-6230\tasin.ralude@cand.net\t50496\tforédé.inges@a.com\thttp://is.com/uple/the.com-icalso-sectie\tlactis@Ancitu.net\tState\tand@be.biz\t\tand@witoor751.com\thttp://siffic.com/dry/of/molowf.The30-moso\tcovere@larese.gov\t\tmat@The.com                                             |\n",
            "|32        |81033086\tMovie\tHoliday Rush\tLeslie Small\tRomany Malco, Sonequa Martin-Green, Darlene Love, Deon Cole, La La Anthony, Deysha Nelson, Amarr M. Wooten, Selena-Marie Alphonse, Andrea-Marie Alphonse\tUnited States\tNovember 28, 2019\t2019\tTV-PG\t94 min\tChildren & Family Movies, Dramas\tA widowed radio DJ and his four spoiled kids need to tighten their belts and pull together when their life of luxury turns lean just before Christmas.\t\tpais@Thipla.org\thttp://wilect.co.uk.suler-ort-ace-al\tas@med370.net\t776-579-6312\tof@sommit.ru\t5526\tsitin@Hance.pulow.com\thttps://st.ru/of/nentra/wast.ecie,-the-2012-birs-Gen-Mosted\tAdin@non.hatesi.com\tthe\tadat@neces.tv\t\tAmborw.any@com.biz\thttp://wer622.com/st/icatic.a-pleati20-cons-a-le\tthely@thandu.com\t\tSpare.arides@be.gov\t\ta@wits.by.net                                                                                          |\n",
            "|33        |70044693\tMovie\tWorld Trade Center\tOliver Stone\tNicolas Cage, Michael Peña, Maggie Gyllenhaal, Maria Bello, Stephen Dorff, Jay Hernandez, Michael Shannon, Frank Whaley, Jon Bernthal, Morgan Flynn, Nick Damici, Viola Davis, William Mapother\tUnited States\tNovember 20, 2019\t2006\tPG-13\t129 min\tAction & Adventure, Dramas\tWorking under treacherous conditions, an army of dedicated rescuers struggles to find anyone who survived the World Trade Center's tragic collapse.\t\tFredic@fic.jp\thttps://Ther.edu/The/clobje/rultud/tousit.mon-partar-funide-whishe-ract-ex\tversic@ctral.biz\t545-137-8707\tmon@and.fr\t59454\tpround@is.20133.com\thttps://milans.org/sch/sulthi.asp\tof145@dithe.com\tHanteg\tcorous@mance492.us\t\tyoted@e.fr\thttp://fall.bothe.edu/xicter.ands,-such-OCLC-Mexpro2511\tnothe.ack@Mexami.com\t\tas@ce.co.uk\t\tles.learog@anki.net\thttps://flibra767.com/cial/BC/Den.jsp|\n",
            "|31        |80004534\tMovie\tChelsea Peretti: One of the Greats\tLance Bangs\tChelsea Peretti\tUnited States\tNovember 14, 2014\t2014\tNR\t75 min\tStand-Up Comedy\t\"Brooklyn Nine-Nine\" star Chelsea Peretti showcases her diverse talents in this dark yet silly reimagining of the comedy special.\t\tAms@and.com\thttp://of.net.jsp\tTheite@even.org\t292-678-0292\tme@ention.com\t41935\tforlia507@ort150.tv\thttp://linuoi.com/Mostes/Afrat/Brainc.Watmes-conati-ontarp-con\tboratt@Faisto.ru\tconvol\tof@and.net\t\tfor@spain.tv\thttp://arat.ru/cord/Coldit/ing.shindi-an-norte\totleca@Car.fibefl.com\t\tobial557@ally.com\t                                                                                                                                                                                                                                                                                               |\n",
            "|33        |80218819\tTV Show\tWe Are the Wave\t\tLudwig Simon, Luise Befort, Michelle Barthel, Mohamed Issa, Daniel Friedl, Robert Schupp\t\tNovember 1, 2019\t2019\tTV-MA\t1 Season\tInternational TV Shows, TV Dramas, TV Mysteries\tA mysterious classmate leads four idealistic teens in a revolt against a rising tide of nationalistic fervor, but their movement takes a dark turn.\t\tinted@thobse.net\thttp://theran.Atlake.tv/thesis/Cat.html\tof@of.Jor.tv\t703-141-0882\topular@thenzá.ru\t98933\tso@inges.net\thttp://thers.com/hers.php\tfre.us@hipas.com\tThe\tMet@The.ru\t\tmonadi@por.gov\thttp://bectio.com/mener/of/joun.and-is-Sauste71\tunis@Couth.us\t\tater@pe.fr\t\tJapeci@to.org\thttps://Thinfr.com/fica/ems.html                                                                                                                                                                                          |\n",
            "|23        |70185023\tMovie\tShor In the City\tRaj Nidimoru, Krishna D.K.\tSendhil Ramamurthy, Tusshar Kapoor, Nikhil Dwivedi, Preeti Desai, Sundeep Kishan, Radhika Apte, Pitobash, Girija Oak, Alok Chaturvedi, Sudhir Chowdhary\tIndia\tMay 31, 2019\t2011\tTV-MA\t106 min\tComedies, Dramas, Independent Movies\tWhen three small-time Mumbai crooks steal a bag on a train, they find that it's filled with weapons and realize that their lives may be in danger.\t\tof@ing.com\thttp://bee.gov/mista.gif\tpa400@onorth.com\t789-462-1430\tRío@of.com\t99609\tperbot@ent924.org\thttp://whic.us/Noved/pris/Julter/of.jsp\tre.land@of487.net\tMan.                                                                                                                                                                                                                                                                     |\n",
            "|28        |80091778\tTV Show\tThis Is My Love\t\tJin-mo Joo, Sa-rang Kim, Junior, Ja-in Lee, Sung-hyun Baek, So-hui Yoon\tSouth Korea\tMay 22, 2017\t2015\tTV-14\t1 Season\tInternational TV Shows, Korean TV Shows, Romantic TV Shows\tA renowned actor who is still pining over the loss of his first real love writes an autobiography about his memories of her, hoping to reconnect.\t\tcal182@elso252.com\thttp://mentur.com/par/ally/Skilly.Wes),-rece55-lestag-the\twitate@the.com\t573-690-1082\tlausat@How.com\t18416\tLiked@Porthe566.fr\thttps://com.me.gov/of/ithenm/an/thical.tept-the37\tof.Nomer@culand.ru\tfill\twelson.plaryt@Bir698.biz\t\tobote@crouth.us\thttps://Intry.gov/rentri/cal/ex.les,-bor-Mact\tan@ing.jp                                                                                                                                                                                         |\n",
            "|17        |81121186\tMovie\tNOVA: Prediction by the Numbers\tDaniel McCabe\tJay O. Sanders\tUnited States\tJuly 1, 2019\t2018\tTV-G\t53 min\tDocumentaries\tWith the science of forecasting flourishing, this documentary explores how predictions inform our lives and statistics and algorithms' reliability.\t\tUruct@ect.fr\thttps://Ind.us.gif\tthe@weas.com\t837-874-9418                                                                                                                                                                                                                                                                                                                                                                                                                                                                                                                                      |\n",
            "|20        |80099016\tMovie\tIBOY\tAdam Randall\tBill Milner, Maisie Williams, Rory Kinnear, Miranda Richardson, Jordan Bolger, Charley Palmer Rothwell, Aymen Hamdouchi\tUnited Kingdom\tJanuary 27, 2017\t2017\tTV-MA\t91 min\tInternational Movies, Sci-Fi & Fantasy, Thrillers\tWhen shards of a cell phone get lodged in a teenager's brain, he discovers he can control electronic devices and uses his newfound power for revenge.\t\tan@watime.com\thttps://as.us/Earnal/sions.sm-andes-Itan\t200000.th@antre.us\t591-758-0224\twhiso.fistry@sooman57.com\t79576\tind@agence.usiged.us                                                                                                                                                                                                                                                                                                                           |\n",
            "|26        |70113006\tMovie\tThe Final Destination\tDavid R. Ellis\tBobby Campo, Shantel VanSanten, Nick Zano, Haley Webb, Mykelti Williamson, Krista Allen, Andrew Fiscella, Justin Welborn, Stephanie Honoré\tUnited States\tJanuary 1, 2020\t2009\tR\t82 min\tHorror Movies\tNick O'Bannon thinks he's cheated death when he keeps a grisly premonition from becoming reality, but he soon realizes that fate has other plans.\t\tcal.gentic@win.gov\thttps://thampe.org/the.whilly-produl27\tbitedu504@cuilop.com\t372-771-9479\tmatems@lartha.tv\t28582\tof@foughe.org\thttps://used.us/the/Caboha.php\tduccut@mocked.com\tition,\tinumis@he.tv\t\ta@Leve.edu                                                                                                                                                                                                                                                             |\n",
            "|23        |60004476\tMovie\tJay and Silent Bob Strike Back\tKevin Smith\tJason Mewes, Kevin Smith, Ben Affleck, Jeff Anderson, Brian O'Halloran, Shannon Elizabeth, Eliza Dushku, Ali Larter, Jennifer Schwalbach, Will Ferrell, Jason Lee\tUnited States\tJanuary 1, 2019\t2001\tR\t105 min\tComedies, Cult Movies\tJay and Silent Bob's comic book alter egos have been sold to Hollywood without permission, so they head to Tinseltown to sabotage the production.\t\tthe@a.com\thttps://werric.com/fulaya/the/The.mern10-woriag-Jultur\tist@a.of.com\t220-422-0555\tAs@Scate.edu\t48985\twidept@now.com\thttps://ing.biz/of/nommun/a.peny-tworiv-by\tand@Deatin.com\tThe                                                                                                                                                                                                                                              |\n",
            "|27        |70286029\tMovie\tMonster High: Why Do Ghouls Fall in Love?\tDustin McKenzie, Steve Sacks\tLaura Bailey, Ogie Banks, Cam Clarke, Debi Derryberry, Erin Fitzgerald, Kate Higgins, Jonathan Lipow, Audu Paden, Cindy Robinson, Salli Saffioti, Evan Smith, America Young\tUnited States\tJanuary 1, 2018\t2013\tTV-Y7\t46 min\tChildren & Family Movies\tDraculaura's ghoulfriends have some suspicions about one of her two persistent suitors – but can they stop him before he steals her un-beating heart?\t\tcandle@Ion.net\thttps://us.tain.net/the/ang.Therge-troand-majoya-the-ing-thomme65\tcoduch@Nor.fr\t576-493-0008\ta@exual.Burnit.us\t51727\tprove@socans.jp\thttps://is.whisio.us/as/Placia/ing/Min.fory,-by32\tspere.sedout@pon.com\tAment\tCend.begick@ision.gov\t\t1300@Swed.tv\thttps://of.com/polles/ha.ound-foriss53-lans                                                                        |\n",
            "|35        |70039645\tMovie\tZach Galifianakis: Live at the Purple Onion\tMichael Blieden\tZach Galifianakis, Brian Unger\tUnited States\tFebruary 26, 2019\t2006\tTV-MA\t61 min\tStand-Up Comedy\tThe unorthodox, piano-playing stand-up star Zach Galifianakis makes a splash on the scene and serves up a healthy dose of his signature wit.\t\tlarly.The@coadve.ru\thttps://etwo.com/Unitur/be/Atly.html\tFais@co.biz\t971-617-7850\tSuscho@con.gov\t77933\tof@fealgi.cough.net\thttps://stmose.com/oriali/coutco/Pubgem/mal.theaus-th12-of13-wain\tof@noulan.tv\tDecomy\tand@du.com\t\tfroper@Canic.com\thttp://on.ru/sed/for.Naraiw-ma5\tfourea.wits@isints.com\t\tcoges.gonto@of.com\t\tand@dozoni.Anicat.com\thttps://wed976.com/Sparld/numark/rage/the.Nom-Agrope54997319\tainglo@Comica.of.edu\t                                                                                                                              |\n",
            "|15        |80198794\tTV Show\tRe:Mind\t\tKeyakizaka46\tJapan\tFebruary 15, 2018\t2017\tTV-MA\t1 Season\tInternational TV Shows, TV Dramas, TV Mysteries\tEleven high school classmates awaken, restrained to a large dining room. While fearing for their lives, they question a motive to this bizarre act.\t\tFunifi@sideen.com\thttp://topopu.com/to.Islato55-litent-is-artisa30-abduch                                                                                                                                                                                                                                                                                                                                                                                                                                                                                                                         |\n",
            "+----------+------------------------------------------------------------------------------------------------------------------------------------------------------------------------------------------------------------------------------------------------------------------------------------------------------------------------------------------------------------------------------------------------------------------------------------------------------------------------------------------------------------------------------------------------------------------------------------------------------------------------------------------------------------------------------------------------------------------------------------------------------------------------------------------------------------------------------------------------------------------------------------------+\n",
            "only showing top 20 rows\n",
            "\n"
          ],
          "name": "stdout"
        }
      ]
    },
    {
      "cell_type": "code",
      "metadata": {
        "id": "Pl3Tz5rht5OC",
        "colab_type": "code",
        "outputId": "630d76f9-394d-4c54-ab74-f9b8bb6df6d3",
        "colab": {
          "base_uri": "https://localhost:8080/",
          "height": 479
        }
      },
      "source": [
        "# Check for any rows with fewer than 12 columns\n",
        "\n",
        "titles_single_df.select('fieldcount', '_c0').where('fieldcount < 12').show(truncate=False)"
      ],
      "execution_count": 0,
      "outputs": [
        {
          "output_type": "stream",
          "text": [
            "+----------+-------------------------------------------------------------------------------------------------------------------------------------------------------------------------------------------------------------------------------------------------------------------------------------------------------------------------------------------------------------------------------------------------------------------------------------------------------------------------------------------------------------------------------------------------------------------------------------------------------------------+\n",
            "|fieldcount|_c0                                                                                                                                                                                                                                                                                                                                                                                                                                                                                                                                                                                                                |\n",
            "+----------+-------------------------------------------------------------------------------------------------------------------------------------------------------------------------------------------------------------------------------------------------------------------------------------------------------------------------------------------------------------------------------------------------------------------------------------------------------------------------------------------------------------------------------------------------------------------------------------------------------------------+\n",
            "|3         |TV Show\tTV-MA\tCrime TV Shows, International TV Shows, Spanish-Language TV Shows                                                                                                                                                                                                                                                                                                                                                                                                                                                                                                                                    |\n",
            "|11        |80109038\tTV Show\tYou're My Destiny\t\tJoe Chen, Ethan Juan, Baron Chen, Bianca Bai, Wei-hsun Na, Tan Ai-Chen\tTaiwan\tAugust 1, 2016\t2008\tTV-14\tInternational TV Shows, Romantic TV Shows, TV Comedies\tA young woman's romantic cruise ends in a twist when she gets pregnant after a one-night stand with a rich executive, turning their lives upside down.                                                                                                                                                                                                                                                          |\n",
            "|11        |80227114\tMovie\tKüçük Esnaf\tBedran Güzel\tİbrahim Büyükak, Zeynep Koçak, Gupse Özay, Cengiz Bozkurt\tTurkey\tApril 4, 2018\t2016\tTV-14\tComedies, International Movies\tAs an honest locksmith scrambles to pay his late father's hefty debt to the mafia, he crosses paths with a woman in similar trouble and falls for her.                                                                                                                                                                                                                                                                                            |\n",
            "|8         |80108518\tAnthony D'Souza\tApril 12, 2019\t2016\tTV-PG\t129 min\tDramas, International Movies, Sports Movies\tThis biopic traces the tumultuous life and career of top cricket player Mohammad Azharuddin, who led India's national team in the 1990s.                                                                                                                                                                                                                                                                                                                                                                    |\n",
            "|3         |The Miracle\tDonghyun Kim, Nahyun, Yang Hak Jin, Yoon Hwa Hong\tInternational TV Shows, Korean TV Shows, TV Dramas                                                                                                                                                                                                                                                                                                                                                                                                                                                                                                   |\n",
            "|11        |80179762\tShe-Ra and the Princesses of Power\t\tAimee Carrero, AJ Michalka, Marcus Scribner, Karen Fukuhara, Reshma Shetty, Lorraine Toussaint, Keston John, Lauren Ash, Christine Woods, Morla Gorrondona, Antony Del Rio, Dana Davis, Grey Griffin, Genesis Rodriguez, Jordan Fisher, Vella Lovell, Merit Leighton, Sandra Oh, Krystal Joy Brown\tUnited States\t November 5, 2019\t2019\tTV-Y7-FV\t4 Seasons\tKids' TV, TV Action & Adventure, TV Sci-Fi & Fantasy\tSoldier Adora finds a magic sword – and her identity as legendary hero She-Ra. She joins the Rebellion, but her best friend stays with the evil Horde.|\n",
            "|5         |Movie\tHarold and Lillian: A Hollywood Love Story\tHarold Michelson, Lillian Michelson, Mel Brooks, Francis Ford Coppola, Danny DeVito\t2015\tTV-14                                                                                                                                                                                                                                                                                                                                                                                                                                                                    |\n",
            "|1         |Black Snake Moan                                                                                                                                                                                                                                                                                                                                                                                                                                                                                                                                                                                                   |\n",
            "|10        |70178618\tShark Night\tDavid R. Ellis\tSara Paxton, Dustin Milligan, Chris Carmack, Katharine McPhee, Donal Logue, Joshua Leonard, Sinqua Walls, Chris Zylka, Alyssa Diaz, Joel David Moore\tUnited States\tNovember 2, 2019\t2011\tPG-13\t91 min\tHorror Movies                                                                                                                                                                                                                                                                                                                                                            |\n",
            "|10        |80160504\tLa Doña\t\tAracely Arámbula, David Chocarro, Danna Paola, Rebecca Jones, Odiseo Bichir, Gabriela Roel, Andrea Martí, Juan Ríos Cantú, Diego Soldano, Daniela Bascopé\tUnited States, Mexico\tNovember 17, 2018\tTV-14\t1 Season\tSpanish-Language TV Shows, TV Dramas\tWorlds collide and lives shatter when Altagracia, a powerful and elegant businesswoman, plots a ruthless revenge while falling in love.                                                                                                                                                                                                    |\n",
            "|5         |80195049\tMovie\tIbiza\t2018\tComedies, Romantic Movies                                                                                                                                                                                                                                                                                                                                                                                                                                                                                                                                                                |\n",
            "|2         |Jen Kirkman\tMay 22, 2015                                                                                                                                                                                                                                                                                                                                                                                                                                                                                                                                                                                           |\n",
            "|10        |81077597\tMovie\tI Am\tJuhi Chawla, Rahul Bose, Nandita Das, Sanjay Suri, Manisha Koirala, Purab Kohli, Shernaz Patel, Abhimanyu Singh, Arjun Mathur, Radhika Apte\tMarch 4, 2019\t2010\tTV-MA\t106 min\tDramas, Independent Movies, International Movies\tFour individuals in modern India grapple with their identities amid social taboos, trauma and brutal sexual discrimination in this quartet of stories.                                                                                                                                                                                                           |\n",
            "|3         |Movie\t\tThis fun, charming documentary follows the exploits of some very feline-friendly folks as they strive to get their kitties crowned Canada’s top cat.                                                                                                                                                                                                                                                                                                                                                                                                                                                        |\n",
            "|10        |81047677\tMovie\tI Dream Of Dance\tMaria Demeshkina Peek\t\t\t2017\tTV-PG\t106 min\tExperience the joy and sacrifice of one of the nation's premier dance companies as its members and instructors prepare for a prestigious competition.                                                                                                                                                                                                                                                                                                                                                                                   |\n",
            "|9         |\tKaycie Chase, David Gasman, Tom Morton, Lee Delong, Barbara Weber-Scaff\t\tJanuary 31, 2019\t2018\tTV-Y\t1 Season\tKids' TV\tStan and Olivia – the amazingly different Paprika twins – use their boundless enthusiasm to turn everyday life into an extraordinary adventure.                                                                                                                                                                                                                                                                                                                                             |\n",
            "|10        |80223136\tMovie\tMatt Toronto\tUnited States\tJanuary 15, 2018\t2017\tTV-MA\t89 min\tDramas, Independent Movies\tTwo former friends, who now live far apart, learn about each other's insecurities and secrets over a series of video chats.                                                                                                                                                                                                                                                                                                                                                                                |\n",
            "|8         |80020131\tKate Higgins, Debi Derryberry, Salli Saffioti, Evan Smith, Laura Bailey, Audu Paden, Erin Fitzgerald, Cindy Robinson, Ogie Banks, Cam Clarke\tJanuary 1, 2018\t2012\tTV-Y7\t46 min\tChildren & Family Movies\tA swanky cruise veers off course for Lagoona and her friends when they're left stranded on Skull Shores, an island with a notorious beast.                                                                                                                                                                                                                                                        |\n",
            "|1         |70213078                                                                                                                                                                                                                                                                                                                                                                                                                                                                                                                                                                                                           |\n",
            "|5         |The 2000s\t\tUnited States\tFebruary 19, 2019\tTV-MA                                                                                                                                                                                                                                                                                                                                                                                                                                                                                                                                                                   |\n",
            "+----------+-------------------------------------------------------------------------------------------------------------------------------------------------------------------------------------------------------------------------------------------------------------------------------------------------------------------------------------------------------------------------------------------------------------------------------------------------------------------------------------------------------------------------------------------------------------------------------------------------------------------+\n",
            "only showing top 20 rows\n",
            "\n"
          ],
          "name": "stdout"
        }
      ]
    },
    {
      "cell_type": "markdown",
      "metadata": {
        "id": "S71Avac6k1h3",
        "colab_type": "text"
      },
      "source": [
        "**Observation 4**: We notice that we have many rows with fewer or greater than 12 columns of data. \n",
        "\n",
        "**Problem 7**: Column counts do not match our expected schema."
      ]
    },
    {
      "cell_type": "code",
      "metadata": {
        "id": "YmqGCyxi7peV",
        "colab_type": "code",
        "colab": {}
      },
      "source": [
        "# Save these to a separate dataframe for later analysis\n",
        "\n",
        "titles_badrows_df = titles_single_df.where('fieldcount != 12')"
      ],
      "execution_count": 0,
      "outputs": []
    },
    {
      "cell_type": "code",
      "metadata": {
        "id": "Ag8tZcQ68gzr",
        "colab_type": "code",
        "outputId": "66602c8d-eaa5-49d4-e838-da60ed6e4e31",
        "colab": {
          "base_uri": "https://localhost:8080/",
          "height": 34
        }
      },
      "source": [
        "# Determine total number of \"bad\" rows\n",
        "titles_badrows_df.count()"
      ],
      "execution_count": 0,
      "outputs": [
        {
          "output_type": "execute_result",
          "data": {
            "text/plain": [
              "78"
            ]
          },
          "metadata": {
            "tags": []
          },
          "execution_count": 39
        }
      ]
    },
    {
      "cell_type": "markdown",
      "metadata": {
        "id": "FCDT2lN4laxn",
        "colab_type": "text"
      },
      "source": [
        "We can now resolve **problems 5, 6, and 7** by accessing only the rows that have 12 columns present."
      ]
    },
    {
      "cell_type": "code",
      "metadata": {
        "id": "jR_BbSWA8ila",
        "colab_type": "code",
        "colab": {}
      },
      "source": [
        "# Set the dataframe without the bad rows\n",
        "titles_single_df = titles_single_df.where('fieldcount == 12')"
      ],
      "execution_count": 0,
      "outputs": []
    },
    {
      "cell_type": "code",
      "metadata": {
        "id": "VkyXBTyv8phE",
        "colab_type": "code",
        "outputId": "b4c580a4-2601-4fbb-f140-3005aae4e228",
        "colab": {
          "base_uri": "https://localhost:8080/",
          "height": 34
        }
      },
      "source": [
        "# How many current rows in dataframe?\n",
        "\n",
        "titles_single_df.count()"
      ],
      "execution_count": 0,
      "outputs": [
        {
          "output_type": "execute_result",
          "data": {
            "text/plain": [
              "6113"
            ]
          },
          "metadata": {
            "tags": []
          },
          "execution_count": 41
        }
      ]
    },
    {
      "cell_type": "markdown",
      "metadata": {
        "id": "L_QN8__l81xh",
        "colab_type": "text"
      },
      "source": [
        "# **Q&A**"
      ]
    },
    {
      "cell_type": "markdown",
      "metadata": {
        "id": "eYMSHgfk9ukp",
        "colab_type": "text"
      },
      "source": [
        "# **More cleaning / prep**\n",
        "\n",
        "Now that we've removed rows that don't fit our basic formatting, let's continue on with making our dataframe more useful.\n",
        "\n",
        "First, let's create a new column that is a list (actually a Spark ArrayType column) containing all \"columns\" using the `pyspark.sql.functions.split` method. We'll call this `splitcolumn`."
      ]
    },
    {
      "cell_type": "code",
      "metadata": {
        "id": "FdV-yNUpAkr3",
        "colab_type": "code",
        "colab": {}
      },
      "source": [
        "# Create a list of split strings as a new column named splitcolumn\n",
        "titles_cleaned_df = titles_single_df.select(F.split('_c0', '\\t').alias('splitcolumn'))\n"
      ],
      "execution_count": 0,
      "outputs": []
    },
    {
      "cell_type": "code",
      "metadata": {
        "id": "5ku9EWddB8Su",
        "colab_type": "code",
        "outputId": "ef6857a0-9fc2-4994-c6ef-046edfe54261",
        "colab": {
          "base_uri": "https://localhost:8080/",
          "height": 479
        }
      },
      "source": [
        "# View the contents\n",
        "titles_cleaned_df.show(truncate=False)"
      ],
      "execution_count": 0,
      "outputs": [
        {
          "output_type": "stream",
          "text": [
            "+----------------------------------------------------------------------------------------------------------------------------------------------------------------------------------------------------------------------------------------------------------------------------------------------------------------------------------------------------------------------------------------------------------------------------------------------------------------------------------------------------------------------------------------+\n",
            "|splitcolumn                                                                                                                                                                                                                                                                                                                                                                                                                                                                                                                             |\n",
            "+----------------------------------------------------------------------------------------------------------------------------------------------------------------------------------------------------------------------------------------------------------------------------------------------------------------------------------------------------------------------------------------------------------------------------------------------------------------------------------------------------------------------------------------+\n",
            "|[81002212, Movie, Bioscope, Gajendra Ahire, Viju Mane, Girish Mohite, Ravi Jadhav, Nina Kulkarni, Suhas Palshikar, Kushal Badrike, Spruha Joshi, Mangesh Desai, Smita Tambe, Veena Jamkar, Sandeep Khare, India, August 15, 2018, 2015, TV-14, 131 min, Dramas, International Movies, LGBTQ Movies, Inspired by classic and contemporary literature, four renowned Marathi directors create four individual stories in this anthology of short films.]                                                                                  |\n",
            "|[80176707, Movie, For Here or to Go?, Rucha Humnabadkar, Ali Fazal, Melanie Chandra, Rajit Kapoor, Amitosh Nagpal, Omi Vaidya, Samrat Chakrabarti, Keith Stevenson, United States, India, August 15, 2018, 2015, TV-MA, 105 min, Comedies, Dramas, Independent Movies, A software engineer must decide if he'd rather navigate America's frustrating visa renewal process or simply return to his home country of India.]                                                                                                               |\n",
            "|[80199381, Movie, Hostiles, Scott Cooper, Christian Bale, Rosamund Pike, Wes Studi, Jesse Plemons, Timothée Chalamet, Ben Foster, Adam Beach, Rory Cochrane, Peter Mullan, Scott Wilson, Paul Anderson, Jonathan Majors, John Benjamin Hickey, Q'orianka Kilcher, Ryan Bingham, United States, August 15, 2018, 2017, R, 134 min, Dramas, After a long career battling the Cheyenne, a U.S. Army captain is ordered to safely escort the tribe's most influential chief to his Montana homeland.]                                       |\n",
            "|[80202176, Movie, Hurricane Bianca: From Russia With Hate, Matt Kugelman, Roy Haylock, Rachel Dratch, Brian McCook, D.J. \"Shangela\" Pierce, Doug Plaut, Cheyenne Jackson, Kristen Johnston, Heather McDonald, Wanda Sykes, Janeane Garofalo, United States, August 15, 2018, 2018, TV-MA, 85 min, Comedies, Independent Movies, LGBTQ Movies, When Texas teacher Richard is lured to Russia under false pretenses by his enemy Deb, his drag alter ego Bianca soon turns the country upside down.]                                      |\n",
            "|[81014293, TV Show, Nuestra Lucha Libre, , , , August 15, 2018, 2018, TV-MA, 1 Season, Docuseries, International TV Shows, Spanish-Language TV Shows, This documentary series lifts the mask on Mexican wrestling, diving into the daily lives of its stars, examining the sport’s cultural impact and more.]                                                                                                                                                                                                                           |\n",
            "|[81014811, TV Show, The Creative Indians, , , , August 15, 2018, 2017, NR, 1 Season, Docuseries, International TV Shows, From chefs and comedians to filmmakers and fashion designers, India’s most notable imaginative minds share their artistic journeys.]                                                                                                                                                                                                                                                                           |\n",
            "|[70123118, Movie, What's Your Raashee?, Ashutosh Gowariker, Priyanka Chopra, Harman Baweja, Suzy Brack, Gene Fojtik, Anjan Srivastav, Darshan Jariwala, Dilip Joshi, Daya Shankar Pandey, Yuri Suri, Rajesh Vivek, Geeta Tyagi, India, August 15, 2018, 2009, TV-PG, 203 min, Comedies, International Movies, Music & Musicals, To protect his family from ruin, Yogesh must marry his dream girl in only ten days, so he rushes into dating women with different astrological signs.]                                                  |\n",
            "|[80175913, TV Show, 20 Minutes, , Tuba Büyüküstün, Ilker Aksum, Bülent Emin Yarar, İpek Bilgin, Müjde Uzman, Firat Çelik, Ayten Uncuoglu, Cihat Tamer, Turkey, August 15, 2017, 2013, TV-MA, 1 Season, Crime TV Shows, International TV Shows, TV Dramas, When his wife is convicted of murder, a horrified family man races to prove her innocence while a dogged investigator sets out to uncover the truth.]                                                                                                                         |\n",
            "|[80182274, Movie, Barbecue, Matthew Salleh, , Australia, Armenia, Japan, Jordan, Mexico, Mongolia, New Zealand, Philippines, South Africa, Sweden, United States, Uruguay, August 15, 2017, 2017, TV-MA, 101 min, Documentaries, International Movies, A blend of cultural nuance and mesmerizing techniques adds flavor to this globe-hopping celebration of cooking, tradition and community.]                                                                                                                                        |\n",
            "|[80185166, Movie, Brad Paisley's Comedy Rodeo, Jay Chapman, Brad Paisley, Nate Bargatze, John Heffron, Jon Reep, Sarah Tiana, Mike E. Winfield, United States, August 15, 2017, 2017, TV-MA, 63 min, Stand-Up Comedy, Country music star Brad Paisley hosts a night of music and laughs with comics Nate Bargatze, John Heffron, Jon Reep, Sarah Tiana and Mike E. Winfield.]                                                                                                                                                           |\n",
            "|[80068219, Movie, Colin Quinn: Unconstitutional, Jay Chapman, Colin Quinn, United States, August 15, 2017, 2015, TV-MA, 56 min, Stand-Up Comedy, New York comedian Colin Quinn writes and stars in this live one-man stage show that dissects and deconstructs U.S. constitutional history.]                                                                                                                                                                                                                                            |\n",
            "|[70209163, Movie, Goon, Michael Dowse, Seann William Scott, Jay Baruchel, Liev Schreiber, Alison Pill, Marc-André Grondin, Kim Coates, Eugene Levy, Nicholas Campbell, Richard Clarkin, Jonathan Cherry, United States, Canada, August 15, 2017, 2011, R, 92 min, Comedies, Sports Movies, When he's seen dispatching a rude opposing hockey player in the stands, Doug Glatt is hired by a rival team ... for his fighting skills.]                                                                                                    |\n",
            "|[80170687, TV Show, Million Yen Women, , Yojiro Noda, Rila Fukushima, Rena Matsui, Miwako Wagatsuma, Rena Takeda, Yuko Araki, Yuya Endo, Kaito Yoshimura, Moeka Hoshi, Juri Ihata, Mariko Tsutsui, Kanji Furutachi, Tetsuhiro Ikeda, Takashi Yamanaka, Tomoya Nakamura, Lily Franky, Japan, August 15, 2017, 2017, TV-MA, 1 Season, Crime TV Shows, International TV Shows, TV Dramas, Five beautiful but mysterious women move in with unsuccessful novelist Shin, who manages their odd household in exchange for a tidy monthly sum.]|\n",
            "|[80163191, Movie, My Ex-Ex, Nathaniel Warsh, André Bharti, Katherine Barrell, Ray Galletti, Emily Alatalo, Tamara Duarte, Randal Edwards, Alastair Forbes, Jesse Camacho, Canada, August 15, 2017, 2015, TV-MA, 91 min, Comedies, Romantic Movies, A recently dumped attorney hires a psychic to help her win back her boyfriend. Things take an unexpected turn when another ex re-enters the picture.]                                                                                                                                |\n",
            "|[80184661, Movie, We're No Animals, Alejandro Agresti, John Cusack, Paul Hipp, Kevin Morris, Alejandro Agresti, Mario Alarcón, Norman Briski, Lucila Solá, Juana Viale, Pablo Bossi, Leticia Brédice, United States, Argentina, August 15, 2017, 2015, TV-MA, 94 min, Comedies, Dramas, Independent Movies, Unhappy with his commercial film work, a jaded Hollywood actor moves to Argentina to participate in an experimental thesis on social philosophy.]                                                                           |\n",
            "|[80114588, TV Show, Behind Enemy Lines, , , United States, August 15, 2016, 2001, TV-14, 1 Season, British TV Shows, Docuseries, After dire setbacks in 1940, Winston Churchill commissions a new kind of fighting force: commandos trained to use stealth and audacious tactics.]                                                                                                                                                                                                                                                      |\n",
            "|[80078761, Movie, Being AP, Anthony Wonke, Tony McCoy, United Kingdom, August 15, 2016, 2015, TV-14, 99 min, Documentaries, International Movies, Sports Movies, With retirement staring him in the face, an all-time-great jump jockey pursues his 20th consecutive title in his unrelenting quest for glory.]                                                                                                                                                                                                                         |\n",
            "|[80115844, Movie, John & Jane, Ashim Ahluwalia, , India, August 15, 2016, 2005, TV-14, 79 min, Documentaries, International Movies, Truth and fiction blend in this quasi-documentary about six exhausted workers at a Mumbai call center servicing U.S. customers.]                                                                                                                                                                                                                                                                    |\n",
            "|[80114111, Movie, Louis C.K.: Live at the Comedy Store, Louis C.K., Louis C.K., United States, August 15, 2016, 2015, , 66 min, Movies, The comic puts his trademark hilarious/thought-provoking spin on finding a bat in his kitchen, seeing rats having sex, Boston accents and dead pets.]                                                                                                                                                                                                                                           |\n",
            "|[80108998, Movie, Real Crime: Supermarket Heist (Tesco Bomber), , , United Kingdom, August 15, 2016, 2010, TV-14, 46 min, Documentaries, In 2000, U.K. detectives spent months tracking a criminal known only as Sally, who was targeting a supermarket chain with extortion and letter bombs.]                                                                                                                                                                                                                                         |\n",
            "+----------------------------------------------------------------------------------------------------------------------------------------------------------------------------------------------------------------------------------------------------------------------------------------------------------------------------------------------------------------------------------------------------------------------------------------------------------------------------------------------------------------------------------------+\n",
            "only showing top 20 rows\n",
            "\n"
          ],
          "name": "stdout"
        }
      ]
    },
    {
      "cell_type": "markdown",
      "metadata": {
        "id": "BwUcLor4IggD",
        "colab_type": "text"
      },
      "source": [
        "# **Creating typed columns**\n",
        "\n",
        "There are several ways to do this operation depending on your needs, but for this dataset we'll explicitly convert the strings in the ArrayType column (ie, a Spark list column) to actual dataframe columns. The `.getItem()` method returns the value at the specified index of the listcolumn (ie, of `splitcolumn`). \n",
        "\n",
        "Let's consider if we wanted to create a full dataframe from the following example dataframe (`df_1`):\n",
        "\n",
        "splitcolumn |\n",
        "---|\n",
        "[1,USA,North America]\n",
        "[2,France,Europe]\n",
        "[3,China,Asia]\n",
        "\n",
        "```\n",
        "df_1 = df_1.withColumn('country_id', df_1.splitcolumn.getItem(0).cast(IntegerType())\n",
        "df_1 = df_1.withColumn('country_name', df_1.splitcolumn.getItem(1))\n",
        "df_1 = df_1.withColumn('continent', df_1.splitcolumn.getItem(2))\n",
        "```\n",
        "\n",
        "This would give you a resulting dataframe of:\n",
        "\n",
        "splitcolumn | country_id | country_name | continent\n",
        "---|---|---|---\n",
        "[1,USA,North America]|1|USA|North America\n",
        "[2,France,Europe]|2|France|Europe\n",
        "[3,China,Asia]|3|China|Asia\n",
        "\n",
        "The `splitcolumn` is currently still present - we'll take care of that later on.\n",
        "\n",
        "Note that for `show_id` and `release_year`, we'll also use `.cast()` to specify them as integers rather than just strings. We also need to import the `IntegerType` from the `pyspark.sql.types` module to properly cast our data to an integer column in Spark.\n",
        "\n"
      ]
    },
    {
      "cell_type": "code",
      "metadata": {
        "id": "Roo0kxtlB-hz",
        "colab_type": "code",
        "colab": {}
      },
      "source": [
        "from pyspark.sql.types import IntegerType\n",
        "\n",
        "# Create columns with specific data types using .getItem()\n",
        "\n",
        "titles_cleaned_df = titles_cleaned_df.withColumn('show_id', titles_cleaned_df.splitcolumn.getItem(0).cast(IntegerType()))\n",
        "titles_cleaned_df = titles_cleaned_df.withColumn('type', titles_cleaned_df.splitcolumn.getItem(1))\n",
        "titles_cleaned_df = titles_cleaned_df.withColumn('title', titles_cleaned_df.splitcolumn.getItem(2))\n",
        "titles_cleaned_df = titles_cleaned_df.withColumn('director', titles_cleaned_df.splitcolumn.getItem(3))\n",
        "titles_cleaned_df = titles_cleaned_df.withColumn('cast', titles_cleaned_df.splitcolumn.getItem(4))\n",
        "titles_cleaned_df = titles_cleaned_df.withColumn('country', titles_cleaned_df.splitcolumn.getItem(5))\n",
        "titles_cleaned_df = titles_cleaned_df.withColumn('date_added', titles_cleaned_df.splitcolumn.getItem(6))\n",
        "titles_cleaned_df = titles_cleaned_df.withColumn('release_year', titles_cleaned_df.splitcolumn.getItem(7).cast(IntegerType()))\n",
        "titles_cleaned_df = titles_cleaned_df.withColumn('rating', titles_cleaned_df.splitcolumn.getItem(8))\n",
        "titles_cleaned_df = titles_cleaned_df.withColumn('duration', titles_cleaned_df.splitcolumn.getItem(9))\n",
        "titles_cleaned_df = titles_cleaned_df.withColumn('listed_in', titles_cleaned_df.splitcolumn.getItem(10))\n",
        "titles_cleaned_df = titles_cleaned_df.withColumn('description', titles_cleaned_df.splitcolumn.getItem(11))"
      ],
      "execution_count": 0,
      "outputs": []
    },
    {
      "cell_type": "markdown",
      "metadata": {
        "id": "LytioBfiJLvr",
        "colab_type": "text"
      },
      "source": [
        "Let's now drop our columns that aren't needed anymore. These are `_c0` (the original single line string), `fieldcount`, and `splitcolumn`. You can drop these as a single column per entry, or a comma-separated set of column names."
      ]
    },
    {
      "cell_type": "code",
      "metadata": {
        "id": "feZwxQ8rC1MJ",
        "colab_type": "code",
        "colab": {}
      },
      "source": [
        "# Drop original _c0 column\n",
        "\n",
        "titles_cleaned_df = titles_cleaned_df.drop('_c0', 'fieldcount', 'splitcolumn')"
      ],
      "execution_count": 0,
      "outputs": []
    },
    {
      "cell_type": "markdown",
      "metadata": {
        "id": "7G_Zdg7EJq-i",
        "colab_type": "text"
      },
      "source": [
        "Let's verify our content, check the row count, and then look at our schema."
      ]
    },
    {
      "cell_type": "code",
      "metadata": {
        "id": "eL_ewudgDKKt",
        "colab_type": "code",
        "outputId": "7114b807-bb71-4d51-f4d4-59d1a819177b",
        "colab": {
          "base_uri": "https://localhost:8080/",
          "height": 479
        }
      },
      "source": [
        "# Showcase new DataFrame\n",
        "\n",
        "titles_cleaned_df.show()"
      ],
      "execution_count": 0,
      "outputs": [
        {
          "output_type": "stream",
          "text": [
            "+--------+-------+--------------------+--------------------+--------------------+--------------------+---------------+------------+------+--------+--------------------+--------------------+\n",
            "| show_id|   type|               title|            director|                cast|             country|     date_added|release_year|rating|duration|           listed_in|         description|\n",
            "+--------+-------+--------------------+--------------------+--------------------+--------------------+---------------+------------+------+--------+--------------------+--------------------+\n",
            "|81002212|  Movie|            Bioscope|Gajendra Ahire, V...|Nina Kulkarni, Su...|               India|August 15, 2018|        2015| TV-14| 131 min|Dramas, Internati...|Inspired by class...|\n",
            "|80176707|  Movie|  For Here or to Go?|   Rucha Humnabadkar|Ali Fazal, Melani...|United States, India|August 15, 2018|        2015| TV-MA| 105 min|Comedies, Dramas,...|A software engine...|\n",
            "|80199381|  Movie|            Hostiles|        Scott Cooper|Christian Bale, R...|       United States|August 15, 2018|        2017|     R| 134 min|              Dramas|After a long care...|\n",
            "|80202176|  Movie|Hurricane Bianca:...|       Matt Kugelman|Roy Haylock, Rach...|       United States|August 15, 2018|        2018| TV-MA|  85 min|Comedies, Indepen...|When Texas teache...|\n",
            "|81014293|TV Show| Nuestra Lucha Libre|                    |                    |                    |August 15, 2018|        2018| TV-MA|1 Season|Docuseries, Inter...|This documentary ...|\n",
            "|81014811|TV Show|The Creative Indians|                    |                    |                    |August 15, 2018|        2017|    NR|1 Season|Docuseries, Inter...|From chefs and co...|\n",
            "|70123118|  Movie|What's Your Raashee?|  Ashutosh Gowariker|Priyanka Chopra, ...|               India|August 15, 2018|        2009| TV-PG| 203 min|Comedies, Interna...|To protect his fa...|\n",
            "|80175913|TV Show|          20 Minutes|                    |Tuba Büyüküstün, ...|              Turkey|August 15, 2017|        2013| TV-MA|1 Season|Crime TV Shows, I...|When his wife is ...|\n",
            "|80182274|  Movie|            Barbecue|      Matthew Salleh|                    |Australia, Armeni...|August 15, 2017|        2017| TV-MA| 101 min|Documentaries, In...|A blend of cultur...|\n",
            "|80185166|  Movie|Brad Paisley's Co...|         Jay Chapman|Brad Paisley, Nat...|       United States|August 15, 2017|        2017| TV-MA|  63 min|     Stand-Up Comedy|Country music sta...|\n",
            "|80068219|  Movie|Colin Quinn: Unco...|         Jay Chapman|         Colin Quinn|       United States|August 15, 2017|        2015| TV-MA|  56 min|     Stand-Up Comedy|New York comedian...|\n",
            "|70209163|  Movie|                Goon|       Michael Dowse|Seann William Sco...|United States, Ca...|August 15, 2017|        2011|     R|  92 min|Comedies, Sports ...|When he's seen di...|\n",
            "|80170687|TV Show|   Million Yen Women|                    |Yojiro Noda, Rila...|               Japan|August 15, 2017|        2017| TV-MA|1 Season|Crime TV Shows, I...|Five beautiful bu...|\n",
            "|80163191|  Movie|            My Ex-Ex|     Nathaniel Warsh|André Bharti, Kat...|              Canada|August 15, 2017|        2015| TV-MA|  91 min|Comedies, Romanti...|A recently dumped...|\n",
            "|80184661|  Movie|    We're No Animals|   Alejandro Agresti|John Cusack, Paul...|United States, Ar...|August 15, 2017|        2015| TV-MA|  94 min|Comedies, Dramas,...|Unhappy with his ...|\n",
            "|80114588|TV Show|  Behind Enemy Lines|                    |                    |       United States|August 15, 2016|        2001| TV-14|1 Season|British TV Shows,...|After dire setbac...|\n",
            "|80078761|  Movie|            Being AP|       Anthony Wonke|          Tony McCoy|      United Kingdom|August 15, 2016|        2015| TV-14|  99 min|Documentaries, In...|With retirement s...|\n",
            "|80115844|  Movie|         John & Jane|     Ashim Ahluwalia|                    |               India|August 15, 2016|        2005| TV-14|  79 min|Documentaries, In...|Truth and fiction...|\n",
            "|80114111|  Movie|Louis C.K.: Live ...|          Louis C.K.|          Louis C.K.|       United States|August 15, 2016|        2015|      |  66 min|              Movies|The comic puts hi...|\n",
            "|80108998|  Movie|Real Crime: Super...|                    |                    |      United Kingdom|August 15, 2016|        2010| TV-14|  46 min|       Documentaries|In 2000, U.K. det...|\n",
            "+--------+-------+--------------------+--------------------+--------------------+--------------------+---------------+------------+------+--------+--------------------+--------------------+\n",
            "only showing top 20 rows\n",
            "\n"
          ],
          "name": "stdout"
        }
      ]
    },
    {
      "cell_type": "code",
      "metadata": {
        "id": "l-C2jZOZEnnr",
        "colab_type": "code",
        "outputId": "fb70e3a7-32d7-4188-c77e-c34956f50230",
        "colab": {
          "base_uri": "https://localhost:8080/",
          "height": 34
        }
      },
      "source": [
        "# Count rows\n",
        "\n",
        "titles_cleaned_df.count()"
      ],
      "execution_count": 0,
      "outputs": [
        {
          "output_type": "execute_result",
          "data": {
            "text/plain": [
              "6113"
            ]
          },
          "metadata": {
            "tags": []
          },
          "execution_count": 47
        }
      ]
    },
    {
      "cell_type": "code",
      "metadata": {
        "id": "fti0um-RDRVp",
        "colab_type": "code",
        "outputId": "d04857ee-6e81-4467-ba7c-7a0f9490c0e3",
        "colab": {
          "base_uri": "https://localhost:8080/",
          "height": 255
        }
      },
      "source": [
        "# Print the schema\n",
        "\n",
        "titles_cleaned_df.printSchema()"
      ],
      "execution_count": 0,
      "outputs": [
        {
          "output_type": "stream",
          "text": [
            "root\n",
            " |-- show_id: integer (nullable = true)\n",
            " |-- type: string (nullable = true)\n",
            " |-- title: string (nullable = true)\n",
            " |-- director: string (nullable = true)\n",
            " |-- cast: string (nullable = true)\n",
            " |-- country: string (nullable = true)\n",
            " |-- date_added: string (nullable = true)\n",
            " |-- release_year: integer (nullable = true)\n",
            " |-- rating: string (nullable = true)\n",
            " |-- duration: string (nullable = true)\n",
            " |-- listed_in: string (nullable = true)\n",
            " |-- description: string (nullable = true)\n",
            "\n"
          ],
          "name": "stdout"
        }
      ]
    },
    {
      "cell_type": "markdown",
      "metadata": {
        "id": "d2W5ImNkJ3f8",
        "colab_type": "text"
      },
      "source": [
        "# **Even more cleanup**\n",
        "\n",
        "With our last set of steps, we've successfully fixed our remaining **problems (1, 2, and 3)**. Now that we have a generally clean dataset, let's look for further issues.\n",
        "\n",
        "If we look at the distinct values available in the show `type` column, we see an issue. This is a categorical data column - collapsing the values in this column is a typical data cleaning issue."
      ]
    },
    {
      "cell_type": "code",
      "metadata": {
        "id": "YP9IzxLPFwBS",
        "colab_type": "code",
        "outputId": "9b03a704-d770-4839-aeb3-a76cb6e53387",
        "colab": {
          "base_uri": "https://localhost:8080/",
          "height": 153
        }
      },
      "source": [
        "# Check out unique items in type column\n",
        "\n",
        "titles_cleaned_df.select('type').distinct().show()"
      ],
      "execution_count": 0,
      "outputs": [
        {
          "output_type": "stream",
          "text": [
            "+-------+\n",
            "|   type|\n",
            "+-------+\n",
            "|TV Show|\n",
            "|  Movie|\n",
            "|       |\n",
            "+-------+\n",
            "\n"
          ],
          "name": "stdout"
        }
      ]
    },
    {
      "cell_type": "code",
      "metadata": {
        "id": "Nx7weVd1G33o",
        "colab_type": "code",
        "outputId": "5a5b49aa-8533-4b8e-9f83-34ca8b14899a",
        "colab": {
          "base_uri": "https://localhost:8080/",
          "height": 207
        }
      },
      "source": [
        "# Isolate rows where type is \"\"\n",
        "\n",
        "titles_cleaned_df.where('type == \"\"').show()"
      ],
      "execution_count": 0,
      "outputs": [
        {
          "output_type": "stream",
          "text": [
            "+--------+----+--------------------+--------------+--------------------+----------------+----------------+------------+------+--------+--------------------+--------------------+\n",
            "| show_id|type|               title|      director|                cast|         country|      date_added|release_year|rating|duration|           listed_in|         description|\n",
            "+--------+----+--------------------+--------------+--------------------+----------------+----------------+------------+------+--------+--------------------+--------------------+\n",
            "|80032097|    |        Romeo Ranjha|Navaniat Singh|Jazzy B, Garry Sa...|   India, Canada|November 1, 2017|        2014| TV-14| 122 min|Action & Adventur...|Two common boys t...|\n",
            "|81039410|    |         Dry Martina|  Che Sandoval|Antonella Costa, ...|Chile, Argentina|    May 11, 2019|        2018| TV-MA| 100 min|Dramas, Independe...|An odd encounter ...|\n",
            "|80156212|    |           Wakefield| Robin Swicord|Bryan Cranston, J...|   United States|   March 2, 2019|        2016|     R| 109 min|              Dramas|An unhappy father...|\n",
            "|80219180|    |Darr Sabko Lagta Hai|              |        Bipasha Basu|           India|   March 1, 2018|        2015| TV-MA|1 Season|International TV ...|In this chilling ...|\n",
            "|80204730|    |       The Last O.G.|              |Tracy Morgan, Tif...|   United States|December 5, 2018|        2018| TV-MA|1 Season|         TV Comedies|After 15 years be...|\n",
            "+--------+----+--------------------+--------------+--------------------+----------------+----------------+------------+------+--------+--------------------+--------------------+\n",
            "\n"
          ],
          "name": "stdout"
        }
      ]
    },
    {
      "cell_type": "markdown",
      "metadata": {
        "id": "TW4sUhBMKt9v",
        "colab_type": "text"
      },
      "source": [
        "You'll notice that we have 5 rows where the type is not specified when one should be. \n",
        "\n",
        "**Problem 8**: Invalid entry in a column - The type column should contain only `TV Show` or `Movie`, but it also contains an empty string value.\n",
        "\n",
        "\n",
        " We have a couple of options:\n",
        "\n",
        "- Drop the rows\n",
        "- Infer what the `type` is based on other content available in the dataset\n",
        "\n",
        "You could remove the problem rows using something like:\n",
        "\n",
        "```\n",
        "titles_cleaned_df = titles_cleaned_df.where('type == \"TV Show\" or type == \"Movie\"')\n",
        "```\n",
        "\n",
        "That feels a bit like cheating though - let's consider how else we could determine this largely automatically.\n",
        "\n",
        "If you look at the `duration` column, you'll notice that there are different meanings behind the entries. We have durations that contain the word *min* (minutes) or the word `Season` for seasons of the show. We can try to use these to properly set the `type` value for these rows.\n",
        "\n",
        "This problem is a bit tricky though as Spark does not have the concept of updating data within a column without jumping through several hoops. We can however work through this issue using a User Defined Function, or UDF.\n",
        "\n",
        "## **UDF**\n",
        "\n",
        "If you haven't worked with them before, a UDF is a Python function that gets applied to every row of a DataFrame. They are extremely flexible and can help us work through issues such as our current one.\n",
        "\n",
        "A UDF in Pyspark requires three things:\n",
        "\n",
        "1. **A Python function or callable**: This is the function that you want called when the UDF is run by Spark.\n",
        "2. **A UDF variable**: Defined by the `udf()` function, with the Python callable defined in #1, and the Spark return type.\n",
        "3. **A Spark transformation**: The UDF must be defined via a transformation (ie `.withColumn()`) to be applied to the dataframe.\n",
        "\n",
        "Consider the following dataframe `df_1`, containing a two fields, `a` and `b`\n",
        "\n",
        "a|b\n",
        "---|---\n",
        "1|2\n",
        "2|3\n",
        "3|4\n",
        "\n",
        "For illustration, let's say we want to use a UDF to define a new column, which is simply the value `a*b`, unless the value of `a` is `3`. If it is, then we want the value to be `0`.\n",
        "\n",
        "Let's define our function - taking two arguments, `a`, and `b`. \n",
        "\n",
        "```\n",
        "def multiply(a, b):\n",
        "  if a == 3:\n",
        "    return 0\n",
        "  else:\n",
        "    return a*b\n",
        "```\n",
        "\n",
        "Now, we need to define our UDF variable. We need to import `udf` from `pyspark.sql.functions`, and as we're returning an integer value, we need to import `IntegerType` from `pyspark.sql.types`. \n",
        "\n",
        "```\n",
        "from pyspark.sql.functions import udf\n",
        "from pyspark.sql.types import IntegerType\n",
        "\n",
        "udfMultiply = udf(multiply, IntegerType())\n",
        "```\n",
        "\n",
        "Note that the `udf` function only takes the name of the callable, not any arguments. Those are defined with our last step - defining a new column. \n",
        "\n",
        "```\n",
        "df_1 = df_1.withColumn('output', udfMultiply(F.col('a'), F.col('b')))\n",
        "```\n",
        "\n",
        "Note that in this instance we're using the `F.col` method to refer to the column. You could use any of the other valid Spark methods to specify a dataframe column (ie, `df_1.a`, `df_1['b']`, etc).\n",
        "\n",
        "Assuming we run a Spark action, such as `.show()`, we would get a dataframe with the following contents:\n",
        "\n",
        "a|b|output\n",
        "---|---|---\n",
        "1|2|2\n",
        "2|3|6\n",
        "3|4|0\n",
        "\n",
        "*Note this is a trivial example for illustration purposes - the same behavior would be much better implemented using assorted functions in the Spark libraries.*\n",
        "\n",
        "\n",
        "First, let's define our Python function that takes two arguments, a showtype (ie, *Movie*, *TV Show*, or other) and the showduration. Note that these are strings in this case. We'll check if the showtype is already a Movie or TV Show - if so, just return that value. Otherwise, we'll check if the showduration ends with *min*, indicating a Movie. If not, we'll specify it as a TV Show.\n"
      ]
    },
    {
      "cell_type": "code",
      "metadata": {
        "id": "m97hs-7qPCus",
        "colab_type": "code",
        "colab": {}
      },
      "source": [
        "# Define the UDF callable\n",
        "\n",
        "def deriveType(showtype, showduration):\n",
        "  if showtype == 'Movie' or showtype == 'TV Show':\n",
        "    return showtype\n",
        "  else:\n",
        "    if showduration.endswith('min'):\n",
        "      return \"Movie\"\n",
        "    else:\n",
        "      return \"TV Show\""
      ],
      "execution_count": 0,
      "outputs": []
    },
    {
      "cell_type": "markdown",
      "metadata": {
        "id": "PW5L773xQCfy",
        "colab_type": "text"
      },
      "source": [
        "# **Define the UDF for Spark**\n",
        "\n",
        "Now we need to configure the UDF for Spark to access it accordingly."
      ]
    },
    {
      "cell_type": "code",
      "metadata": {
        "id": "3y7TpzkAQb8x",
        "colab_type": "code",
        "colab": {}
      },
      "source": [
        "from pyspark.sql.functions import udf\n",
        "from pyspark.sql.types import StringType\n",
        "\n",
        "udfDeriveType = udf(deriveType, StringType())"
      ],
      "execution_count": 0,
      "outputs": []
    },
    {
      "cell_type": "code",
      "metadata": {
        "id": "0sE7GaRVR7Tv",
        "colab_type": "code",
        "colab": {}
      },
      "source": [
        "# Create a new derived column, passing in the appropriate values\n",
        "\n",
        "titles_cleaned_df = titles_cleaned_df.withColumn('derivedType', udfDeriveType(F.col('type'), F.col('duration')))"
      ],
      "execution_count": 0,
      "outputs": []
    },
    {
      "cell_type": "code",
      "metadata": {
        "id": "-eGdUm5ZSojy",
        "colab_type": "code",
        "outputId": "a05f2e99-5e47-42f3-c062-c25f03132f55",
        "colab": {
          "base_uri": "https://localhost:8080/",
          "height": 207
        }
      },
      "source": [
        "# Show the rows where type is an empty string again, examining the derivedType\n",
        "titles_cleaned_df.where('type == \"\"').show()"
      ],
      "execution_count": 0,
      "outputs": [
        {
          "output_type": "stream",
          "text": [
            "+--------+----+--------------------+--------------+--------------------+----------------+----------------+------------+------+--------+--------------------+--------------------+-----------+\n",
            "| show_id|type|               title|      director|                cast|         country|      date_added|release_year|rating|duration|           listed_in|         description|derivedType|\n",
            "+--------+----+--------------------+--------------+--------------------+----------------+----------------+------------+------+--------+--------------------+--------------------+-----------+\n",
            "|80032097|    |        Romeo Ranjha|Navaniat Singh|Jazzy B, Garry Sa...|   India, Canada|November 1, 2017|        2014| TV-14| 122 min|Action & Adventur...|Two common boys t...|      Movie|\n",
            "|81039410|    |         Dry Martina|  Che Sandoval|Antonella Costa, ...|Chile, Argentina|    May 11, 2019|        2018| TV-MA| 100 min|Dramas, Independe...|An odd encounter ...|      Movie|\n",
            "|80156212|    |           Wakefield| Robin Swicord|Bryan Cranston, J...|   United States|   March 2, 2019|        2016|     R| 109 min|              Dramas|An unhappy father...|      Movie|\n",
            "|80219180|    |Darr Sabko Lagta Hai|              |        Bipasha Basu|           India|   March 1, 2018|        2015| TV-MA|1 Season|International TV ...|In this chilling ...|    TV Show|\n",
            "|80204730|    |       The Last O.G.|              |Tracy Morgan, Tif...|   United States|December 5, 2018|        2018| TV-MA|1 Season|         TV Comedies|After 15 years be...|    TV Show|\n",
            "+--------+----+--------------------+--------------+--------------------+----------------+----------------+------------+------+--------+--------------------+--------------------+-----------+\n",
            "\n"
          ],
          "name": "stdout"
        }
      ]
    },
    {
      "cell_type": "code",
      "metadata": {
        "id": "w1Z923yGSt2q",
        "colab_type": "code",
        "colab": {}
      },
      "source": [
        "# Drop the original type column and rename derviedType to type\n",
        "titles_cleaned_df = titles_cleaned_df.drop('type').withColumnRenamed('derivedType', 'type')"
      ],
      "execution_count": 0,
      "outputs": []
    },
    {
      "cell_type": "code",
      "metadata": {
        "id": "JW7Dtb-wHfs5",
        "colab_type": "code",
        "outputId": "e5a6698b-d449-443c-f4d6-4feb42688eea",
        "colab": {
          "base_uri": "https://localhost:8080/",
          "height": 136
        }
      },
      "source": [
        "# Verify we only have two types available\n",
        "titles_cleaned_df.select('type').distinct().show()"
      ],
      "execution_count": 0,
      "outputs": [
        {
          "output_type": "stream",
          "text": [
            "+-------+\n",
            "|   type|\n",
            "+-------+\n",
            "|TV Show|\n",
            "|  Movie|\n",
            "+-------+\n",
            "\n"
          ],
          "name": "stdout"
        }
      ]
    },
    {
      "cell_type": "code",
      "metadata": {
        "id": "rXr5D8-4HkSR",
        "colab_type": "code",
        "outputId": "349a5455-1866-434e-a265-c3645a74febe",
        "colab": {
          "base_uri": "https://localhost:8080/",
          "height": 34
        }
      },
      "source": [
        "# Verify our row count is the same\n",
        "titles_cleaned_df.count()"
      ],
      "execution_count": 0,
      "outputs": [
        {
          "output_type": "execute_result",
          "data": {
            "text/plain": [
              "6113"
            ]
          },
          "metadata": {
            "tags": []
          },
          "execution_count": 57
        }
      ]
    },
    {
      "cell_type": "markdown",
      "metadata": {
        "id": "Ks9eP6uMnUPe",
        "colab_type": "text"
      },
      "source": [
        "We've now successfully resolved **problem 8**."
      ]
    },
    {
      "cell_type": "markdown",
      "metadata": {
        "id": "0KUVyBzLTZgN",
        "colab_type": "text"
      },
      "source": [
        "# **Saving data for analysis / further processing**\n",
        "\n",
        "The last step of our data cleaning is to save the cleaned dataframe out to a file type. If you plan to do any further analysis or processing using Spark, it's highly recommended you use Parquet. Other options are available per your needs, but Spark is optimized to take advantage of Parquet.\n",
        "\n",
        "There are two options we use for the `.write.parquet()` method:\n",
        "\n",
        "- The path of where to write the file\n",
        "- An optional `mode` parameter, which we've set to `overwrite`. This allows Spark to write data to an existing location, solving some potential issues in a notebook environment."
      ]
    },
    {
      "cell_type": "code",
      "metadata": {
        "id": "inKlmeIfHnw9",
        "colab_type": "code",
        "colab": {}
      },
      "source": [
        "# Save the data\n",
        "\n",
        "titles_cleaned_df.write.parquet('/tmp/netflix_titles_cleaned.parquet', mode='overwrite')"
      ],
      "execution_count": 0,
      "outputs": []
    },
    {
      "cell_type": "markdown",
      "metadata": {
        "id": "ay7w3C4iqRXp",
        "colab_type": "text"
      },
      "source": [
        "Let's now take a look at the contents using the `ls` shell command. You'll notice that the `/tmp/netflix_titles_cleaned.parquet` location is actually a directory, not just a file. This is due to the way Spark handles its data allocation and formatting. More on this in a minute."
      ]
    },
    {
      "cell_type": "code",
      "metadata": {
        "id": "v5JnlKUzssau",
        "colab_type": "code",
        "outputId": "115cb9c9-b9db-47f8-cbf9-74d99a73a1d1",
        "colab": {
          "base_uri": "https://localhost:8080/",
          "height": 51
        }
      },
      "source": [
        "!ls /tmp/netflix_titles_cleaned.parquet"
      ],
      "execution_count": 0,
      "outputs": [
        {
          "output_type": "stream",
          "text": [
            "part-00000-2ae69860-b62a-4086-966b-d59fe32777fe-c000.snappy.parquet  _SUCCESS\n",
            "part-00001-2ae69860-b62a-4086-966b-d59fe32777fe-c000.snappy.parquet\n"
          ],
          "name": "stdout"
        }
      ]
    },
    {
      "cell_type": "markdown",
      "metadata": {
        "id": "KydUNbnYn-BQ",
        "colab_type": "text"
      },
      "source": [
        "Note that typically when processing data in Spark, you'll want to use the Parquet format as described above. This is great for any further processing or analysis you plan to do in Spark. However, it can be difficult to read Parquet files outside of Spark without extra work. As such, let's create a version in CSV format that you can download if you desire.\n",
        "\n",
        "We'll need to do four steps for this operation:\n",
        "\n",
        "- Combine the data into a single file using the `.coalesce(1)` transformation. Spark normally keeps data in separate files to improve performance and bypass RAM issues. Our dataset is small and we can bypass those concerns.\n",
        "- Use the `.write.csv()` method (instead of `.write.parquet()`). We'll also add an extra option of `sep='\\t'` to bypass the issue of commas being present in our data. We also have to define a `header=True` component so our columns are named correctly.\n",
        "- Rename the file to something usable with a shell command `mv`. Spark stores files named via their partition id. We need to rename that to something more recognizable.\n",
        "- Finally, we'll use a special command specific to the notebook environment to download the file.\n",
        "\n",
        "As you've seen within Spark, you can chain commands together. As such, we'll combine the first two components."
      ]
    },
    {
      "cell_type": "code",
      "metadata": {
        "id": "Km2dxHXGp85h",
        "colab_type": "code",
        "colab": {}
      },
      "source": [
        "# Coalesce and save the data in CSV format\n",
        "\n",
        "titles_cleaned_df.coalesce(1).write.csv('/tmp/netflix_titles_cleaned.csv', mode='overwrite', sep='\\t', header=True)"
      ],
      "execution_count": 0,
      "outputs": []
    },
    {
      "cell_type": "code",
      "metadata": {
        "id": "AvadihO-qnNF",
        "colab_type": "code",
        "outputId": "9f48b025-f373-449f-9558-617b87a0d6cf",
        "colab": {
          "base_uri": "https://localhost:8080/",
          "height": 34
        }
      },
      "source": [
        "# Look at the output of the command using the shell command `ls`\n",
        "\n",
        "!ls /tmp/netflix_titles_cleaned.csv"
      ],
      "execution_count": 0,
      "outputs": [
        {
          "output_type": "stream",
          "text": [
            "part-00000-5f404d8b-c020-478e-856d-76999184e063-c000.csv  _SUCCESS\n"
          ],
          "name": "stdout"
        }
      ]
    },
    {
      "cell_type": "code",
      "metadata": {
        "id": "TCZMYcOKq2VX",
        "colab_type": "code",
        "colab": {}
      },
      "source": [
        "# Rename the data file\n",
        "\n",
        "!mv /tmp/netflix_titles_cleaned.csv/part-00000*.csv /tmp/netflix_titles_cleaned_final.csv"
      ],
      "execution_count": 0,
      "outputs": []
    },
    {
      "cell_type": "code",
      "metadata": {
        "id": "qMaWUVGIrIWT",
        "colab_type": "code",
        "colab": {}
      },
      "source": [
        "# Download the file via notebook tools\n",
        "\n",
        "from google.colab import files\n",
        "files.download('/tmp/netflix_titles_cleaned_final.csv')"
      ],
      "execution_count": 0,
      "outputs": []
    },
    {
      "cell_type": "markdown",
      "metadata": {
        "id": "LMJO9w_xUDAh",
        "colab_type": "text"
      },
      "source": [
        "# **Challenges**\n",
        "\n",
        "We've looked at several data cleaning operations using Spark. Here are some other challenges to consider within the dataset:\n",
        "\n",
        "1) *Splitting names* - \n",
        "  You may have noticed that the names are combined for the cast and directors into a list. Consider how you would turn that data into a list / array column to easily access more detailed information (which shows have the largest cast, etc?)\n",
        "\n",
        "2) *Splitting names further* - Consider taking any of the name fields and splitting it into first name, last name, etc. Take special consideration about how you would handle initials, names with more than 3 components, etc.\n",
        "\n",
        "3) *Parsing dates* - Look at the `date_added` field and determine if and how you could reliably convert this to an actual datetime field.\n",
        "\n",
        "# **Last Q&A**"
      ]
    }
  ]
}
