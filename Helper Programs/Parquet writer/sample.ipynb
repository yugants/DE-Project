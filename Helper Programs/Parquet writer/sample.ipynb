{
 "cells": [
  {
   "cell_type": "code",
   "execution_count": 1,
   "metadata": {},
   "outputs": [],
   "source": [
    "# import os\n",
    "from pyspark.sql import SparkSession\n",
    "\n",
    "# os.environ['HADOOP_HOME'] = 'C:\\\\hadoop'  # Set the path where winutils.exe is stored\n",
    "# os.environ['PATH'] += os.pathsep + 'C:\\\\hadoop\\\\bin'  # Add winutils.exe to PATH\n",
    "\n",
    "\n",
    "spark = SparkSession.builder.appName('file_writer').getOrCreate()\n",
    "\n",
    "# Load data into a DataFrame\n",
    "df = spark.read.format('csv')\\\n",
    "    .option('inferSchema', 'true')\\\n",
    "    .option('header', 'true')\\\n",
    "    .load('./dim_product.csv')"
   ]
  },
  {
   "cell_type": "code",
   "execution_count": 2,
   "metadata": {},
   "outputs": [
    {
     "name": "stdout",
     "output_type": "stream",
     "text": [
      "+---+-------------+-------------+---------+-------------------+-------------------+-----------+\n",
      "| id|         name|current_price|old_price|       created_date|       updated_date|expiry_date|\n",
      "+---+-------------+-------------+---------+-------------------+-------------------+-----------+\n",
      "| 25|Vegetable Oil|        460.5|   524.27|2024-08-14 10:27:24|2024-09-14 17:30:43| 2025-07-22|\n",
      "|168|      Shampoo|       413.11|   479.47|2022-07-26 20:51:07|2024-09-21 12:02:12| 2025-08-20|\n",
      "|106|Vegetable Oil|       455.05|    490.8|2023-11-18 15:08:22|2024-01-31 07:28:02| 2024-10-02|\n",
      "|757|  Soft Drinks|        11.21|    66.81|2022-02-07 06:57:32|2022-08-06 17:44:24| 2025-08-09|\n",
      "|412|        Juice|        373.8|   430.06|2023-08-31 21:04:02|2023-12-02 00:07:27| 2025-06-09|\n",
      "|516|   Toothpaste|        224.4|   282.97|2022-08-30 23:28:48|2023-08-29 23:37:30| 2024-10-28|\n",
      "| 92|       Butter|       281.45|   329.55|2022-03-15 23:26:14|2023-09-25 19:21:02| 2025-05-13|\n",
      "|982|        Sugar|       146.59|   215.46|2022-01-11 22:36:53|2022-02-16 01:21:09| 2025-05-06|\n",
      "|243|  Wheat Flour|       422.53|   439.03|2021-11-26 11:25:45|2023-01-26 07:09:23| 2024-10-09|\n",
      "|327|         Salt|       224.95|   238.23|2023-03-19 18:27:33|2023-07-08 00:22:01| 2025-08-03|\n",
      "|689|         Soap|       220.95|   291.52|2022-12-05 08:30:51|2023-03-28 18:37:15| 2025-03-31|\n",
      "|297|         Salt|       455.82|   475.94|2022-08-26 11:18:23|2023-08-05 14:02:16| 2025-03-08|\n",
      "|905|Vegetable Oil|       489.02|    502.1|2023-07-27 11:49:07|2023-11-07 02:25:58| 2025-05-01|\n",
      "|979|         Rice|        326.5|   362.91|2024-08-10 19:54:36|2024-09-19 22:08:59| 2025-07-25|\n",
      "|566|       Coffee|        61.74|   152.91|2024-05-22 09:45:01|2024-05-24 11:51:05| 2024-11-26|\n",
      "|997|     Biscuits|       253.82|   290.02|2022-07-15 13:54:20|2023-02-13 01:42:38| 2024-12-04|\n",
      "|799|         Eggs|       462.57|   525.64|2024-01-21 08:53:11|2024-08-26 08:06:00| 2025-04-20|\n",
      "|469|         Rice|       365.76|   399.03|2022-02-10 18:21:01|2023-06-26 07:59:14| 2025-08-02|\n",
      "|459|        Sugar|       423.27|   493.97|2023-08-17 06:21:35|2024-06-07 09:54:55| 2024-11-03|\n",
      "|445|        Bread|        154.0|   227.77|2022-02-14 02:50:20|2022-04-06 11:20:07| 2025-07-02|\n",
      "+---+-------------+-------------+---------+-------------------+-------------------+-----------+\n",
      "\n"
     ]
    }
   ],
   "source": [
    "df.show()"
   ]
  },
  {
   "cell_type": "code",
   "execution_count": 3,
   "metadata": {},
   "outputs": [],
   "source": [
    "# path = 'C://Users//yugant.shekhar//OneDrive - Blue Altair//Desktop//Douments//Spark//Helper Programs//Try parquet writer'\n",
    "\n",
    "df.write.format('parquet') \\\n",
    "                .option(\"header\", \"true\") \\\n",
    "                .mode('overwrite') \\\n",
    "                .option(\"path\", 'C://sample creation//data') \\\n",
    "                .save()"
   ]
  },
  {
   "cell_type": "code",
   "execution_count": null,
   "metadata": {},
   "outputs": [],
   "source": []
  }
 ],
 "metadata": {
  "kernelspec": {
   "display_name": "Python 3",
   "language": "python",
   "name": "python3"
  },
  "language_info": {
   "codemirror_mode": {
    "name": "ipython",
    "version": 3
   },
   "file_extension": ".py",
   "mimetype": "text/x-python",
   "name": "python",
   "nbconvert_exporter": "python",
   "pygments_lexer": "ipython3",
   "version": "3.8.0"
  }
 },
 "nbformat": 4,
 "nbformat_minor": 2
}
