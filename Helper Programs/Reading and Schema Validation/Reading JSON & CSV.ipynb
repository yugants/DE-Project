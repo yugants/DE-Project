{
 "cells": [
  {
   "cell_type": "code",
   "execution_count": 6,
   "metadata": {},
   "outputs": [],
   "source": [
    "from pyspark.sql import SparkSession\n",
    "\n",
    "spark = SparkSession.builder.appName('Sample Spark').getOrCreate()"
   ]
  },
  {
   "cell_type": "markdown",
   "metadata": {},
   "source": [
    "## Read single liner json"
   ]
  },
  {
   "cell_type": "code",
   "execution_count": 87,
   "metadata": {},
   "outputs": [
    {
     "name": "stdout",
     "output_type": "stream",
     "text": [
      "+-------------------+-------+-------------+-------------------+-----+--------------------+--------------------+--------------+-------+-------------+------------+-----+---------------+----------+-----------+-----+-----+-----+-----------+-------+\n",
      "|               City|Country|Decommisioned|EstimatedPopulation|  Lat|            Location|        LocationText|  LocationType|   Long|        Notes|RecordNumber|State|TaxReturnsFiled|TotalWages|WorldRegion|Xaxis|Yaxis|Zaxis|ZipCodeType|Zipcode|\n",
      "+-------------------+-------+-------------+-------------------+-----+--------------------+--------------------+--------------+-------+-------------+------------+-----+---------------+----------+-----------+-----+-----+-----+-----------+-------+\n",
      "|        PARC PARQUE|     US|        false|               null|17.96|NA-US-PR-PARC PARQUE|     Parc Parque, PR|NOT ACCEPTABLE| -66.22|         null|           1|   PR|           null|      null|         NA| 0.38|-0.87|  0.3|   STANDARD|    704|\n",
      "|PASEO COSTA DEL SUR|     US|        false|               null|17.96|NA-US-PR-PASEO CO...|Paseo Costa Del S...|NOT ACCEPTABLE| -66.22|         null|           2|   PR|           null|      null|         NA| 0.38|-0.87|  0.3|   STANDARD|    704|\n",
      "|       BDA SAN LUIS|     US|        false|               null|18.14|NA-US-PR-BDA SAN ...|    Bda San Luis, PR|NOT ACCEPTABLE| -66.26|         null|          10|   PR|           null|      null|         NA| 0.38|-0.86| 0.31|   STANDARD|    709|\n",
      "|  CINGULAR WIRELESS|     US|        false|               null|32.72|NA-US-TX-CINGULAR...|Cingular Wireless...|NOT ACCEPTABLE| -97.31|         null|       61391|   TX|           null|      null|         NA| -0.1|-0.83| 0.54|     UNIQUE|  76166|\n",
      "|         FORT WORTH|     US|        false|               4053|32.75| NA-US-TX-FORT WORTH|      Fort Worth, TX|       PRIMARY| -97.33|         null|       61392|   TX|           2126| 122396986|         NA| -0.1|-0.83| 0.54|   STANDARD|  76177|\n",
      "|           FT WORTH|     US|        false|               4053|32.75|   NA-US-TX-FT WORTH|        Ft Worth, TX|    ACCEPTABLE| -97.33|         null|       61393|   TX|           2126| 122396986|         NA| -0.1|-0.83| 0.54|   STANDARD|  76177|\n",
      "|    URB EUGENE RICE|     US|        false|               null|17.96|NA-US-PR-URB EUGE...| Urb Eugene Rice, PR|NOT ACCEPTABLE| -66.22|         null|           4|   PR|           null|      null|         NA| 0.38|-0.87|  0.3|   STANDARD|    704|\n",
      "|               MESA|     US|        false|              26883|33.37|       NA-US-AZ-MESA|            Mesa, AZ|       PRIMARY|-111.64|no NWS data, |       39827|   AZ|          14962| 563792730|         NA| -0.3|-0.77| 0.55|   STANDARD|  85209|\n",
      "|               MESA|     US|        false|              25446|33.38|       NA-US-AZ-MESA|            Mesa, AZ|       PRIMARY|-111.84|         null|       39828|   AZ|          14374| 471000465|         NA|-0.31|-0.77| 0.55|   STANDARD|  85210|\n",
      "|           HILLIARD|     US|        false|               7443|30.69|   NA-US-FL-HILLIARD|        Hilliard, FL|       PRIMARY| -81.92|         null|       49345|   FL|           3922| 133112149|         NA| 0.12|-0.85| 0.51|   STANDARD|  32046|\n",
      "|             HOLDER|     US|        false|               null|28.96|     NA-US-FL-HOLDER|          Holder, FL|       PRIMARY| -82.41|         null|       49346|   FL|           null|      null|         NA| 0.11|-0.86| 0.48|     PO BOX|  34445|\n",
      "|               HOLT|     US|        false|               2190|30.72|       NA-US-FL-HOLT|            Holt, FL|       PRIMARY| -86.67|         null|       49347|   FL|           1207|  36395913|         NA| 0.04|-0.85| 0.51|   STANDARD|  32564|\n",
      "|          HOMOSASSA|     US|        false|               null|28.78|  NA-US-FL-HOMOSASSA|       Homosassa, FL|       PRIMARY| -82.61|         null|       49348|   FL|           null|      null|         NA| 0.11|-0.86| 0.48|     PO BOX|  34487|\n",
      "|       BDA SAN LUIS|     US|        false|               null|18.14|NA-US-PR-BDA SAN ...|    Bda San Luis, PR|NOT ACCEPTABLE| -66.26|         null|          10|   PR|           null|      null|         NA| 0.38|-0.86| 0.31|   STANDARD|    708|\n",
      "|      SECT LANAUSSE|     US|        false|               null|17.96|NA-US-PR-SECT LAN...|   Sect Lanausse, PR|NOT ACCEPTABLE| -66.22|         null|           3|   PR|           null|      null|         NA| 0.38|-0.87|  0.3|   STANDARD|    704|\n",
      "|      SPRING GARDEN|     US|        false|               null|33.97|NA-US-AL-SPRING G...|   Spring Garden, AL|       PRIMARY| -85.55|         null|       54354|   AL|           null|      null|         NA| 0.06|-0.82| 0.55|     PO BOX|  36275|\n",
      "|        SPRINGVILLE|     US|        false|               7845|33.77|NA-US-AL-SPRINGVILLE|     Springville, AL|       PRIMARY| -86.47|         null|       54355|   AL|           4046| 172127599|         NA| 0.05|-0.82| 0.55|   STANDARD|  35146|\n",
      "|        SPRUCE PINE|     US|        false|               1209|34.37|NA-US-AL-SPRUCE PINE|     Spruce Pine, AL|       PRIMARY| -87.69|         null|       54356|   AL|            610|  18525517|         NA| 0.03|-0.82| 0.56|   STANDARD|  35585|\n",
      "|           ASH HILL|     US|        false|               1666| 36.4|   NA-US-NC-ASH HILL|        Ash Hill, NC|NOT ACCEPTABLE| -80.56|         null|       76511|   NC|            842|  28876493|         NA| 0.13|-0.79| 0.59|   STANDARD|  27007|\n",
      "|           ASHEBORO|     US|        false|              15228|35.71|   NA-US-NC-ASHEBORO|        Asheboro, NC|       PRIMARY| -79.81|         null|       76512|   NC|           8355| 215474318|         NA| 0.14|-0.79| 0.58|   STANDARD|  27203|\n",
      "+-------------------+-------+-------------+-------------------+-----+--------------------+--------------------+--------------+-------+-------------+------------+-----+---------------+----------+-----------+-----+-----+-----+-----------+-------+\n",
      "only showing top 20 rows\n",
      "\n"
     ]
    }
   ],
   "source": [
    "# Read JSON\n",
    "\n",
    "df = spark.read.format('json')\\\n",
    "    .option('mode', 'PERMISSIVE')\\\n",
    "    .option('inferSchema', 'true')\\\n",
    "    .load('./data/single_line.json')\n",
    "\n",
    "df.show()"
   ]
  },
  {
   "cell_type": "markdown",
   "metadata": {},
   "source": [
    "## Read Multiline JSON\n"
   ]
  },
  {
   "cell_type": "code",
   "execution_count": 86,
   "metadata": {},
   "outputs": [
    {
     "name": "stdout",
     "output_type": "stream",
     "text": [
      "+---+--------+------+\n",
      "|age|    name|salary|\n",
      "+---+--------+------+\n",
      "| 20|  Manish| 20000|\n",
      "| 25|  Nikita| 21000|\n",
      "| 16|  Pritam| 22000|\n",
      "| 35|Prantosh| 25000|\n",
      "| 67|  Vikash| 40000|\n",
      "+---+--------+------+\n",
      "\n"
     ]
    }
   ],
   "source": [
    "# Read Multiline JSON\n",
    "\n",
    "df = spark.read.format('json')\\\n",
    "    .option('mode', 'PERMISSIVE')\\\n",
    "    .option('inferSchema', 'true')\\\n",
    "    .option('multiline', 'true')\\\n",
    "    .load('./data/multiline_json.json')\n",
    "\n",
    "df.show()"
   ]
  },
  {
   "cell_type": "markdown",
   "metadata": {},
   "source": [
    "## Simple CSV"
   ]
  },
  {
   "cell_type": "code",
   "execution_count": 85,
   "metadata": {},
   "outputs": [
    {
     "name": "stdout",
     "output_type": "stream",
     "text": [
      "+----+--------------------+--------------------+------------+--------------------+-----+-----------------+\n",
      "|year|industry_code_ANZSIC|industry_name_ANZSIC|rme_size_grp|            variable|value|             unit|\n",
      "+----+--------------------+--------------------+------------+--------------------+-----+-----------------+\n",
      "|2011|                   A|Agriculture, Fore...|         a_0|       Activity unit|46134|            COUNT|\n",
      "|2011|                   A|Agriculture, Fore...|         a_0|Rolling mean empl...|    0|            COUNT|\n",
      "|2011|                   A|Agriculture, Fore...|         a_0|Salaries and wage...|  279|DOLLARS(millions)|\n",
      "|2011|                   A|Agriculture, Fore...|         a_0|Sales, government...| 8187|DOLLARS(millions)|\n",
      "|2011|                   A|Agriculture, Fore...|         a_0|        Total income| 8866|DOLLARS(millions)|\n",
      "|2011|                   A|Agriculture, Fore...|         a_0|   Total expenditure| 7618|DOLLARS(millions)|\n",
      "|2011|                   A|Agriculture, Fore...|         a_0|Operating profit ...|  770|DOLLARS(millions)|\n",
      "|2011|                   A|Agriculture, Fore...|         a_0|        Total assets|55700|DOLLARS(millions)|\n",
      "|2011|                   A|Agriculture, Fore...|         a_0|Fixed tangible as...|32155|DOLLARS(millions)|\n",
      "|2011|                   A|Agriculture, Fore...|       b_1-5|       Activity unit|21777|            COUNT|\n",
      "|2011|                   A|Agriculture, Fore...|       b_1-5|Rolling mean empl...|38136|            COUNT|\n",
      "|2011|                   A|Agriculture, Fore...|       b_1-5|Salaries and wage...| 1435|DOLLARS(millions)|\n",
      "|2011|                   A|Agriculture, Fore...|       b_1-5|Sales, government...|13359|DOLLARS(millions)|\n",
      "|2011|                   A|Agriculture, Fore...|       b_1-5|        Total income|13771|DOLLARS(millions)|\n",
      "|2011|                   A|Agriculture, Fore...|       b_1-5|   Total expenditure|12316|DOLLARS(millions)|\n",
      "|2011|                   A|Agriculture, Fore...|       b_1-5|Operating profit ...| 1247|DOLLARS(millions)|\n",
      "|2011|                   A|Agriculture, Fore...|       b_1-5|        Total assets|52666|DOLLARS(millions)|\n",
      "|2011|                   A|Agriculture, Fore...|       b_1-5|Fixed tangible as...|31235|DOLLARS(millions)|\n",
      "|2011|                   A|Agriculture, Fore...|       c_6-9|       Activity unit| 1965|            COUNT|\n",
      "|2011|                   A|Agriculture, Fore...|       c_6-9|Rolling mean empl...|13848|            COUNT|\n",
      "+----+--------------------+--------------------+------------+--------------------+-----+-----------------+\n",
      "only showing top 20 rows\n",
      "\n"
     ]
    }
   ],
   "source": [
    "# Read CSV\n",
    "\n",
    "df = spark.read.format('csv')\\\n",
    "    .option('inferSchema', True)\\\n",
    "    .option('header', True)\\\n",
    "    .load('./data/simple_csv.csv')\n",
    "\n",
    "df.show()"
   ]
  },
  {
   "cell_type": "markdown",
   "metadata": {},
   "source": [
    "## CSV with DDL Schema"
   ]
  },
  {
   "cell_type": "code",
   "execution_count": 82,
   "metadata": {},
   "outputs": [
    {
     "name": "stdout",
     "output_type": "stream",
     "text": [
      "+-----+---------------+---------+---------+--------------------+-----------------+--------------------+-------------+------+--------------------+----------------+--------------------+\n",
      "|Index|     CustomerId|FirstName| LastName|             Company|             City|             Country|       Phone1|Phone2|               Email|SubscriptionDate|             Website|\n",
      "+-----+---------------+---------+---------+--------------------+-----------------+--------------------+-------------+------+--------------------+----------------+--------------------+\n",
      "|    1|DD37Cf93aecA6Dc|   Sheryl|   Baxter|     Rasmussen Group|     East Leonard|               Chile|         null|  null|zunigavanessa@smi...|      2020-08-24|http://www.stephe...|\n",
      "|    2|1Ef7b82A4CAAD10|  Preston|   Lozano|         Vega-Gentry|East Jimmychester|            Djibouti|5.153435776E9|  null|     vmata@colon.com|      2021-04-23|http://www.hobbs....|\n",
      "|    3|6F94879bDAfE5a6|      Roy|    Berry|       Murillo-Perry|    Isabelborough| Antigua and Barbuda|         null|  null| beckycarr@hogan.com|      2020-03-25|http://www.lawren...|\n",
      "|    4|5Cef8BFA16c5e3c|    Linda|    Olsen|Dominguez, Mcmill...|       Bensonview|  Dominican Republic|         null|  null|stanleyblackwell@...|      2020-06-02|http://www.good-l...|\n",
      "|    5|053d585Ab6b3159|   Joanna|   Bender|Martin, Lang and ...|   West Priscilla|Slovakia (Slovak ...|         null|  null|colinalvarado@mil...|      2021-04-17|https://goodwin-i...|\n",
      "|    6|2d08FB17EE273F4|    Aimee|    Downs|        Steele Group|    Chavezborough|Bosnia and Herzeg...|         null|  null| louis27@gilbert.com|      2020-02-25|http://www.berger...|\n",
      "|    7|EA4d384DfDbBf77|   Darren|     Peck|Lester, Woodard a...|         Lake Ana|    Pitcairn Islands|         null|  null| tgates@cantrell.com|      2021-08-24| https://www.le.com/|\n",
      "|    8|0e04AFde9f225dE|    Brett|   Mullen|Sanford, Davenpor...|          Kimport|            Bulgaria|         null|  null|     asnow@colon.com|      2021-04-12|https://hammond-r...|\n",
      "|    9|C2dE4dEEc489ae0|   Sheryl|   Meyers|      Browning-Simon|     Robersonstad|              Cyprus|         null|  null|mariokhan@ryan-po...|      2020-01-13|https://www.bullo...|\n",
      "|   10|8C2811a503C7c5a| Michelle|Gallagher|        Beck-Hendrix|       Elaineberg|         Timor-Leste|         null|  null|   mdyer@escobar.net|      2021-11-08|  https://arias.com/|\n",
      "|   11|216E205d6eBb815|     Carl|Schroeder|Oconnell, Meza an...|     Shannonville|            Guernsey|         null|  null|  kirksalas@webb.com|      2021-10-20|https://simmons-h...|\n",
      "|   12|CEDec94deE6d69B|    Jenna|   Dodson|Hoffman, Reed and...|      East Andrea|             Vietnam|         null|  null|  mark42@robbins.com|      2020-11-29|http://www.dougla...|\n",
      "|   13|e35426EbDEceaFF|   Tracey|     Mata|      Graham-Francis|South Joannamouth|                Togo|         null|  null|    alex56@walls.org|      2021-12-02|http://www.beck.com/|\n",
      "|   14|A08A8aF8BE9FaD4| Kristine|      Cox|      Carpenter-Cook|         Jodyberg|           Sri Lanka|         null|  null|holdenmiranda@cla...|      2021-02-08|https://www.brand...|\n",
      "|   15|6fEaA1b7cab7B6C|    Faith|     Lutz|      Carter-Hancock|        Burchbury|           Singapore|         null|  null|cassieparrish@ble...|      2022-01-26|http://stevenson....|\n",
      "|   16|8cad0b4CBceaeec|  Miranda|  Beasley|  Singleton and Sons|     Desireeshire|                Oman|         null|  null|vduncan@parks-har...|      2022-04-12|  http://acosta.org/|\n",
      "|   17|a5DC21AE3a21eaA| Caroline|    Foley|     Winters-Mendoza|West Adriennestad|      Western Sahara|         null|  null|holtgwendolyn@wat...|      2021-03-10|http://www.benson...|\n",
      "|   18|F8Aa9d6DfcBeeF8|     Greg|     Mata|       Valentine LLC|      Lake Leslie|          Mozambique|         null|  null|jaredjuarez@carro...|      2022-03-26|http://pitts-cher...|\n",
      "|   19|F160f5Db3EfE973| Clifford| Jacobson|           Simon LLC|       Harmonview|South Georgia and...|         null|  null|joseph26@jacobson...|      2020-09-24|https://mcconnell...|\n",
      "|   20|0F60FF3DdCd7aB0|   Joanna|     Kirk|      Mays-Mccormick|       Jamesshire|    French Polynesia|         null|  null|tuckerangie@salaz...|      2021-09-24|https://www.camac...|\n",
      "+-----+---------------+---------+---------+--------------------+-----------------+--------------------+-------------+------+--------------------+----------------+--------------------+\n",
      "only showing top 20 rows\n",
      "\n"
     ]
    }
   ],
   "source": [
    "#  don't consider space in the column names\n",
    "\n",
    "schema = \"\"\"\n",
    "Index int,\n",
    "CustomerId string,\n",
    "FirstName string,\n",
    "LastName string,\n",
    "Company\tstring,\n",
    "City string,\n",
    "Country string,\n",
    "Phone1 double,\n",
    "Phone2 double,\n",
    "Email string,\n",
    "SubscriptionDate date,\n",
    "Website string\n",
    "\"\"\"\n",
    "\n",
    "spark.read.format('csv')\\\n",
    "    .schema(schema)\\\n",
    "    .option('header', 'true')\\\n",
    "    .load('./data/for_csv_ddl.csv').show()"
   ]
  },
  {
   "cell_type": "markdown",
   "metadata": {},
   "source": [
    "## JSON with DDL Schema"
   ]
  },
  {
   "cell_type": "code",
   "execution_count": 113,
   "metadata": {},
   "outputs": [
    {
     "name": "stdout",
     "output_type": "stream",
     "text": [
      "+---+------+\n",
      "| id|  name|\n",
      "+---+------+\n",
      "|  1|Laptop|\n",
      "+---+------+\n",
      "\n"
     ]
    }
   ],
   "source": [
    "# Simple JSON\n",
    "\n",
    "schema = \"\"\"\n",
    "    id INT,\n",
    "    name STRING\n",
    "\"\"\"\n",
    "spark.read.format('json')\\\n",
    "    .option('multiline', 'true')\\\n",
    "    .schema(schema)\\\n",
    "    .load('./data/for_ddl1.json').show()\n",
    "\n"
   ]
  },
  {
   "cell_type": "code",
   "execution_count": 129,
   "metadata": {},
   "outputs": [
    {
     "name": "stdout",
     "output_type": "stream",
     "text": [
      "+----+\n",
      "| RAM|\n",
      "+----+\n",
      "|16GB|\n",
      "+----+\n",
      "\n"
     ]
    }
   ],
   "source": [
    "# NESTED JSON\n",
    "\n",
    "schema = \"\"\"\n",
    "    id INT,\n",
    "    name STRING,\n",
    "    features STRUCT<\n",
    "    RAM: STRING,\n",
    "    storage: STRING\n",
    "    >\n",
    "\"\"\"\n",
    "\n",
    "df = spark.read.format('json')\\\n",
    "    .option('multiline', 'true')\\\n",
    "    .schema(schema)\\\n",
    "    .load('./data/for_ddl2.json')\n",
    "\n",
    "df.select('features.RAM').show()"
   ]
  },
  {
   "cell_type": "code",
   "execution_count": 140,
   "metadata": {},
   "outputs": [
    {
     "name": "stdout",
     "output_type": "stream",
     "text": [
      "+-----------+\n",
      "|        RAM|\n",
      "+-----------+\n",
      "|[16GB, 8GB]|\n",
      "+-----------+\n",
      "\n"
     ]
    }
   ],
   "source": [
    "# COMPLEX JSON\n",
    "\n",
    "schema = \"\"\"\n",
    "    products ARRAY<STRUCT<\n",
    "    id INT,\n",
    "    name STRING,\n",
    "    features STRUCT<\n",
    "    RAM: STRING,\n",
    "    storage: STRING\n",
    "    >,\n",
    "    tags ARRAY<STRING>\n",
    "    >>\n",
    "\"\"\"\n",
    "\n",
    "df = spark.read.format('json')\\\n",
    "    .option('multiline', 'true')\\\n",
    "    .schema(schema)\\\n",
    "    .load('./data/for_ddl3.json')\n",
    "\n",
    "df.select('products.features.RAM').show()\n"
   ]
  },
  {
   "cell_type": "code",
   "execution_count": 146,
   "metadata": {},
   "outputs": [
    {
     "name": "stdout",
     "output_type": "stream",
     "text": [
      "+--------------------------------------------------------+\n",
      "|product                                                 |\n",
      "+--------------------------------------------------------+\n",
      "|{1, Laptop, {16GB, 512GB SSD}, [electronics, computers]}|\n",
      "|{2, Smartphone, {8GB, 128GB}, [electronics, mobile]}    |\n",
      "+--------------------------------------------------------+\n",
      "\n",
      "+---+\n",
      "|RAM|\n",
      "+---+\n",
      "|8GB|\n",
      "+---+\n",
      "\n"
     ]
    },
    {
     "data": {
      "text/plain": [
       "Row(RAM='16GB')"
      ]
     },
     "execution_count": 146,
     "metadata": {},
     "output_type": "execute_result"
    }
   ],
   "source": [
    "# What if I want one row per product?\n",
    "#  Explode\n",
    "from pyspark.sql.functions import explode, col\n",
    "# Explode the products array to get each product in a separate row\n",
    "df_exploded = df.select(explode(col(\"products\")).alias(\"product\"))\n",
    "\n",
    "df_exploded.show(truncate=False)\n",
    "# Filter for the product with 8GB RAM and select the RAM\n",
    "df_exploded.select(\"product.features.RAM\").filter(col(\"product.features.RAM\") == \"8GB\").show()\n",
    "\n",
    "df_exploded.select(\"product.features.RAM\").collect()[0]"
   ]
  },
  {
   "cell_type": "code",
   "execution_count": null,
   "metadata": {},
   "outputs": [],
   "source": []
  }
 ],
 "metadata": {
  "kernelspec": {
   "display_name": "Python 3",
   "language": "python",
   "name": "python3"
  },
  "language_info": {
   "codemirror_mode": {
    "name": "ipython",
    "version": 3
   },
   "file_extension": ".py",
   "mimetype": "text/x-python",
   "name": "python",
   "nbconvert_exporter": "python",
   "pygments_lexer": "ipython3",
   "version": "3.8.0"
  }
 },
 "nbformat": 4,
 "nbformat_minor": 2
}
